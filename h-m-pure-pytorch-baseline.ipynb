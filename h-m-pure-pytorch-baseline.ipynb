{
 "cells": [
  {
   "cell_type": "markdown",
   "id": "492c713f",
   "metadata": {
    "papermill": {
     "duration": 0.051826,
     "end_time": "2022-04-03T04:21:19.163033",
     "exception": false,
     "start_time": "2022-04-03T04:21:19.111207",
     "status": "completed"
    },
    "tags": []
   },
   "source": [
    "# H&M Personalized Fashion Recommendations\n",
    "- 日本語コメント付きのベースラインモデルです\n",
    "- 以下のnotebookをリファクタしたものになります\n",
    "    - 元notebook\n",
    "        - H&M Pure Pytorch Baseline\n",
    "        - https://www.kaggle.com/code/aerdem4/h-m-pure-pytorch-baseline\n",
    "    - リファクタ内容\n",
    "        - DEBUGモード追加\n",
    "        - コメント付与\n",
    "        - 定数のみ切り出し"
   ]
  },
  {
   "cell_type": "code",
   "execution_count": 1,
   "id": "0fc639cb",
   "metadata": {
    "execution": {
     "iopub.execute_input": "2022-04-03T04:21:19.226963Z",
     "iopub.status.busy": "2022-04-03T04:21:19.226202Z",
     "iopub.status.idle": "2022-04-03T04:21:19.229840Z",
     "shell.execute_reply": "2022-04-03T04:21:19.230246Z",
     "shell.execute_reply.started": "2022-04-03T04:04:32.720591Z"
    },
    "papermill": {
     "duration": 0.036886,
     "end_time": "2022-04-03T04:21:19.230463",
     "exception": false,
     "start_time": "2022-04-03T04:21:19.193577",
     "status": "completed"
    },
    "tags": []
   },
   "outputs": [],
   "source": [
    "import numpy as np\n",
    "import pandas as pd"
   ]
  },
  {
   "cell_type": "code",
   "execution_count": 2,
   "id": "bf87fe5f",
   "metadata": {
    "execution": {
     "iopub.execute_input": "2022-04-03T04:21:19.285191Z",
     "iopub.status.busy": "2022-04-03T04:21:19.284327Z",
     "iopub.status.idle": "2022-04-03T04:21:19.286152Z",
     "shell.execute_reply": "2022-04-03T04:21:19.286565Z",
     "shell.execute_reply.started": "2022-04-03T04:04:32.749916Z"
    },
    "papermill": {
     "duration": 0.032623,
     "end_time": "2022-04-03T04:21:19.286688",
     "exception": false,
     "start_time": "2022-04-03T04:21:19.254065",
     "status": "completed"
    },
    "tags": []
   },
   "outputs": [],
   "source": [
    "DEBUG = True\n",
    "\n",
    "# ファイルパス\n",
    "# baselineではTRANSACTIONのみ学習に使用している\n",
    "TRANSACTION_PATH = \"../input/h-and-m-personalized-fashion-recommendations/transactions_train.csv\"\n",
    "ARTICLES_PATH = \"../input/h-and-m-personalized-fashion-recommendations/articles.csv\"\n",
    "CUSTOMERS_PATH = \"../input/h-and-m-personalized-fashion-recommendations/customers.csv\"\n",
    "SAMPLE_SUB_PATH = '../input/h-and-m-personalized-fashion-recommendations/sample_submission.csv'\n",
    "IMAGES_DIR = \"../input/h-and-m-personalized-fashion-recommendations/images/\"\n",
    "\n",
    "# 前処理\n",
    "ACTIVE_DATE_TH = \"2019-09-01\" # この日付より最近購入された商品のみ学習/推論対象とする\n",
    "WEEK_HIST_MAX = 5 # 過去何日分の購買履歴を特徴量とするか\n",
    "VAL_WEEKS = [0] # どの週のデータをvalidationデータとするか\n",
    "TRAIN_WEEKS = [1, 2, 3, 4] # どの週のデータをtrainデータとするか\n",
    "\n",
    "# データセット\n",
    "SEQ_LEN = 16 # 何個分の購買履歴まで使うか\n",
    "BS = 256 # バッチサイズ\n",
    "NW = 8 # ワーカーズ\n",
    "\n",
    "# 学習\n",
    "DIM_ARTICLE = 512 # article_idを何次元の特徴量にembeddingするか\n",
    "INIT_LR = 3e-4\n",
    "BETAS = (0.9, 0.999)\n",
    "EPS=1e-08\n",
    "LR_DICT = { # n-epoch目の時、n < KEYならVALをlrとする\n",
    "    1: 5e-5,\n",
    "    6: 1e-3, \n",
    "    9: 1e-4,\n",
    "    100: 1e-5\n",
    "}\n",
    "MODEL_NAME = \"exp001\"\n",
    "SEED = 0\n",
    "BASE_EPOCHS = 10 # ベースモデルのエポック数\n",
    "FT_EPOCHS = 10 # fine tuningのエポック数\n",
    "FT_WEEKS = 4 # fine tuningする際使用するweek数"
   ]
  },
  {
   "cell_type": "code",
   "execution_count": 3,
   "id": "627ef6d7",
   "metadata": {
    "execution": {
     "iopub.execute_input": "2022-04-03T04:21:19.364468Z",
     "iopub.status.busy": "2022-04-03T04:21:19.363593Z",
     "iopub.status.idle": "2022-04-03T04:22:23.788367Z",
     "shell.execute_reply": "2022-04-03T04:22:23.788936Z",
     "shell.execute_reply.started": "2022-04-03T04:04:32.776102Z"
    },
    "papermill": {
     "duration": 64.466261,
     "end_time": "2022-04-03T04:22:23.789149",
     "exception": false,
     "start_time": "2022-04-03T04:21:19.322888",
     "status": "completed"
    },
    "tags": []
   },
   "outputs": [
    {
     "name": "stdout",
     "output_type": "stream",
     "text": [
      "(31788324, 5)\n",
      "DEBUGモードで処理を実行します\n",
      "(158942, 5)\n"
     ]
    },
    {
     "data": {
      "text/html": [
       "<div>\n",
       "<style scoped>\n",
       "    .dataframe tbody tr th:only-of-type {\n",
       "        vertical-align: middle;\n",
       "    }\n",
       "\n",
       "    .dataframe tbody tr th {\n",
       "        vertical-align: top;\n",
       "    }\n",
       "\n",
       "    .dataframe thead th {\n",
       "        text-align: right;\n",
       "    }\n",
       "</style>\n",
       "<table border=\"1\" class=\"dataframe\">\n",
       "  <thead>\n",
       "    <tr style=\"text-align: right;\">\n",
       "      <th></th>\n",
       "      <th>t_dat</th>\n",
       "      <th>customer_id</th>\n",
       "      <th>article_id</th>\n",
       "      <th>price</th>\n",
       "      <th>sales_channel_id</th>\n",
       "    </tr>\n",
       "  </thead>\n",
       "  <tbody>\n",
       "    <tr>\n",
       "      <th>22907892</th>\n",
       "      <td>2020-03-01</td>\n",
       "      <td>97d1bee94581b2d24b004b1f187114c42654a0e1fcae7d...</td>\n",
       "      <td>0842062003</td>\n",
       "      <td>0.033881</td>\n",
       "      <td>2</td>\n",
       "    </tr>\n",
       "    <tr>\n",
       "      <th>11463365</th>\n",
       "      <td>2019-06-06</td>\n",
       "      <td>a6582d4614cce36e1b4fe863e8afd452f1c08cccb18a1a...</td>\n",
       "      <td>0554598038</td>\n",
       "      <td>0.016254</td>\n",
       "      <td>1</td>\n",
       "    </tr>\n",
       "    <tr>\n",
       "      <th>14586750</th>\n",
       "      <td>2019-07-26</td>\n",
       "      <td>bf4a315fed4ab1b8dbe360c36253c0df4190bc7a5c2be3...</td>\n",
       "      <td>0634591006</td>\n",
       "      <td>0.025407</td>\n",
       "      <td>2</td>\n",
       "    </tr>\n",
       "    <tr>\n",
       "      <th>27360875</th>\n",
       "      <td>2020-06-17</td>\n",
       "      <td>3c81cb1e3bcae4970e327d8c1aa5569271a2940154ef62...</td>\n",
       "      <td>0882772001</td>\n",
       "      <td>0.033881</td>\n",
       "      <td>2</td>\n",
       "    </tr>\n",
       "    <tr>\n",
       "      <th>26604846</th>\n",
       "      <td>2020-05-30</td>\n",
       "      <td>ff59422d4070741a35dae45a168c61bfb882716ac52389...</td>\n",
       "      <td>0757926001</td>\n",
       "      <td>0.040661</td>\n",
       "      <td>2</td>\n",
       "    </tr>\n",
       "  </tbody>\n",
       "</table>\n",
       "</div>"
      ],
      "text/plain": [
       "               t_dat                                        customer_id  \\\n",
       "22907892  2020-03-01  97d1bee94581b2d24b004b1f187114c42654a0e1fcae7d...   \n",
       "11463365  2019-06-06  a6582d4614cce36e1b4fe863e8afd452f1c08cccb18a1a...   \n",
       "14586750  2019-07-26  bf4a315fed4ab1b8dbe360c36253c0df4190bc7a5c2be3...   \n",
       "27360875  2020-06-17  3c81cb1e3bcae4970e327d8c1aa5569271a2940154ef62...   \n",
       "26604846  2020-05-30  ff59422d4070741a35dae45a168c61bfb882716ac52389...   \n",
       "\n",
       "          article_id     price  sales_channel_id  \n",
       "22907892  0842062003  0.033881                 2  \n",
       "11463365  0554598038  0.016254                 1  \n",
       "14586750  0634591006  0.025407                 2  \n",
       "27360875  0882772001  0.033881                 2  \n",
       "26604846  0757926001  0.040661                 2  "
      ]
     },
     "metadata": {},
     "output_type": "display_data"
    }
   ],
   "source": [
    "# データ読み込み\n",
    "df = pd.read_csv(TRANSACTION_PATH, dtype={\"article_id\": str})\n",
    "print(df.shape)\n",
    "df.head()\n",
    "\n",
    "if DEBUG:\n",
    "    print(\"DEBUGモードで処理を実行します\")\n",
    "    BASE_EPOCHS = 1\n",
    "    FT_EPOCHS = 1\n",
    "    SEQ_LEN = 5\n",
    "    DIM_ARTICLE = 8\n",
    "    df = df.sample(frac=0.005)\n",
    "    print(df.shape)\n",
    "    display(df.head())"
   ]
  },
  {
   "cell_type": "markdown",
   "id": "5284ef5e",
   "metadata": {
    "papermill": {
     "duration": 0.024416,
     "end_time": "2022-04-03T04:22:23.838830",
     "exception": false,
     "start_time": "2022-04-03T04:22:23.814414",
     "status": "completed"
    },
    "tags": []
   },
   "source": [
    "# 前処理(1)"
   ]
  },
  {
   "cell_type": "code",
   "execution_count": 4,
   "id": "03c21ce3",
   "metadata": {
    "execution": {
     "iopub.execute_input": "2022-04-03T04:22:23.908715Z",
     "iopub.status.busy": "2022-04-03T04:22:23.907942Z",
     "iopub.status.idle": "2022-04-03T04:22:23.954071Z",
     "shell.execute_reply": "2022-04-03T04:22:23.953631Z",
     "shell.execute_reply.started": "2022-04-03T04:05:11.976270Z"
    },
    "papermill": {
     "duration": 0.089101,
     "end_time": "2022-04-03T04:22:23.954196",
     "exception": false,
     "start_time": "2022-04-03T04:22:23.865095",
     "status": "completed"
    },
    "tags": []
   },
   "outputs": [
    {
     "data": {
      "text/plain": [
       "Timestamp('2020-09-22 00:00:00')"
      ]
     },
     "execution_count": 4,
     "metadata": {},
     "output_type": "execute_result"
    }
   ],
   "source": [
    "# datetime型に変換\n",
    "df[\"t_dat\"] = pd.to_datetime(df[\"t_dat\"])\n",
    "df[\"t_dat\"].max()"
   ]
  },
  {
   "cell_type": "code",
   "execution_count": 5,
   "id": "12f8c555",
   "metadata": {
    "execution": {
     "iopub.execute_input": "2022-04-03T04:22:24.036517Z",
     "iopub.status.busy": "2022-04-03T04:22:24.035696Z",
     "iopub.status.idle": "2022-04-03T04:22:24.136568Z",
     "shell.execute_reply": "2022-04-03T04:22:24.137308Z",
     "shell.execute_reply.started": "2022-04-03T04:05:12.053250Z"
    },
    "papermill": {
     "duration": 0.157775,
     "end_time": "2022-04-03T04:22:24.137463",
     "exception": false,
     "start_time": "2022-04-03T04:22:23.979688",
     "status": "completed"
    },
    "tags": []
   },
   "outputs": [
    {
     "data": {
      "text/plain": [
       "(22863, 3)"
      ]
     },
     "execution_count": 5,
     "metadata": {},
     "output_type": "execute_result"
    }
   ],
   "source": [
    "# 直近で購入された商品一覧を抽出する\n",
    "active_articles = df.groupby(\"article_id\")[\"t_dat\"].max().reset_index()\n",
    "active_articles = active_articles[active_articles[\"t_dat\"] >= ACTIVE_DATE_TH].reset_index()\n",
    "active_articles.shape"
   ]
  },
  {
   "cell_type": "code",
   "execution_count": 6,
   "id": "789a2306",
   "metadata": {
    "execution": {
     "iopub.execute_input": "2022-04-03T04:22:24.238911Z",
     "iopub.status.busy": "2022-04-03T04:22:24.238044Z",
     "iopub.status.idle": "2022-04-03T04:22:24.315667Z",
     "shell.execute_reply": "2022-04-03T04:22:24.316099Z",
     "shell.execute_reply.started": "2022-04-03T04:05:12.199318Z"
    },
    "papermill": {
     "duration": 0.153263,
     "end_time": "2022-04-03T04:22:24.316255",
     "exception": false,
     "start_time": "2022-04-03T04:22:24.162992",
     "status": "completed"
    },
    "tags": []
   },
   "outputs": [
    {
     "data": {
      "text/plain": [
       "(108052, 5)"
      ]
     },
     "execution_count": 6,
     "metadata": {},
     "output_type": "execute_result"
    }
   ],
   "source": [
    "# 購買履歴のうち直近で購入された商品IDに対応する履歴のみを抽出\n",
    "df = df[df[\"article_id\"].isin(active_articles[\"article_id\"])].reset_index(drop=True)\n",
    "df.shape"
   ]
  },
  {
   "cell_type": "code",
   "execution_count": 7,
   "id": "bfc6ca99",
   "metadata": {
    "execution": {
     "iopub.execute_input": "2022-04-03T04:22:24.376622Z",
     "iopub.status.busy": "2022-04-03T04:22:24.375765Z",
     "iopub.status.idle": "2022-04-03T04:22:24.384256Z",
     "shell.execute_reply": "2022-04-03T04:22:24.383775Z",
     "shell.execute_reply.started": "2022-04-03T04:05:12.330141Z"
    },
    "papermill": {
     "duration": 0.042168,
     "end_time": "2022-04-03T04:22:24.384371",
     "exception": false,
     "start_time": "2022-04-03T04:22:24.342203",
     "status": "completed"
    },
    "tags": []
   },
   "outputs": [
    {
     "data": {
      "text/plain": [
       "13     2753\n",
       "12     2608\n",
       "42     2592\n",
       "51     2167\n",
       "23     2005\n",
       "       ... \n",
       "102     263\n",
       "93      256\n",
       "90      245\n",
       "94      226\n",
       "97      195\n",
       "Name: week, Length: 105, dtype: int64"
      ]
     },
     "execution_count": 7,
     "metadata": {},
     "output_type": "execute_result"
    }
   ],
   "source": [
    "# \"week\"カラムを追加(weekが小さいほど最近)\n",
    "df[\"week\"] = (df[\"t_dat\"].max() - df[\"t_dat\"]).dt.days // 7\n",
    "df[\"week\"].value_counts()"
   ]
  },
  {
   "cell_type": "code",
   "execution_count": 8,
   "id": "5e8a11ae",
   "metadata": {
    "execution": {
     "iopub.execute_input": "2022-04-03T04:22:24.439632Z",
     "iopub.status.busy": "2022-04-03T04:22:24.438850Z",
     "iopub.status.idle": "2022-04-03T04:22:25.653175Z",
     "shell.execute_reply": "2022-04-03T04:22:25.652650Z",
     "shell.execute_reply.started": "2022-04-03T04:05:12.348559Z"
    },
    "papermill": {
     "duration": 1.24274,
     "end_time": "2022-04-03T04:22:25.653305",
     "exception": false,
     "start_time": "2022-04-03T04:22:24.410565",
     "status": "completed"
    },
    "tags": []
   },
   "outputs": [],
   "source": [
    "# articleIdをラベルに変換\n",
    "from sklearn.preprocessing import LabelEncoder\n",
    "article_ids = np.concatenate([[\"placeholder\"], np.unique(df[\"article_id\"].values)])\n",
    "le_article = LabelEncoder()\n",
    "le_article.fit(article_ids)\n",
    "df[\"article_id\"] = le_article.transform(df[\"article_id\"])"
   ]
  },
  {
   "cell_type": "code",
   "execution_count": 9,
   "id": "3223d599",
   "metadata": {
    "execution": {
     "iopub.execute_input": "2022-04-03T04:22:25.717865Z",
     "iopub.status.busy": "2022-04-03T04:22:25.716890Z",
     "iopub.status.idle": "2022-04-03T04:22:25.787369Z",
     "shell.execute_reply": "2022-04-03T04:22:25.787783Z",
     "shell.execute_reply.started": "2022-04-03T04:05:12.665702Z"
    },
    "papermill": {
     "duration": 0.108202,
     "end_time": "2022-04-03T04:22:25.787926",
     "exception": false,
     "start_time": "2022-04-03T04:22:25.679724",
     "status": "completed"
    },
    "tags": []
   },
   "outputs": [
    {
     "name": "stdout",
     "output_type": "stream",
     "text": [
      "データ(head)\n"
     ]
    },
    {
     "data": {
      "text/html": [
       "<div>\n",
       "<style scoped>\n",
       "    .dataframe tbody tr th:only-of-type {\n",
       "        vertical-align: middle;\n",
       "    }\n",
       "\n",
       "    .dataframe tbody tr th {\n",
       "        vertical-align: top;\n",
       "    }\n",
       "\n",
       "    .dataframe thead th {\n",
       "        text-align: right;\n",
       "    }\n",
       "</style>\n",
       "<table border=\"1\" class=\"dataframe\">\n",
       "  <thead>\n",
       "    <tr style=\"text-align: right;\">\n",
       "      <th></th>\n",
       "      <th>t_dat</th>\n",
       "      <th>customer_id</th>\n",
       "      <th>article_id</th>\n",
       "      <th>price</th>\n",
       "      <th>sales_channel_id</th>\n",
       "      <th>week</th>\n",
       "    </tr>\n",
       "  </thead>\n",
       "  <tbody>\n",
       "    <tr>\n",
       "      <th>0</th>\n",
       "      <td>2020-03-01</td>\n",
       "      <td>97d1bee94581b2d24b004b1f187114c42654a0e1fcae7d...</td>\n",
       "      <td>16917</td>\n",
       "      <td>0.033881</td>\n",
       "      <td>2</td>\n",
       "      <td>29</td>\n",
       "    </tr>\n",
       "    <tr>\n",
       "      <th>1</th>\n",
       "      <td>2019-06-06</td>\n",
       "      <td>a6582d4614cce36e1b4fe863e8afd452f1c08cccb18a1a...</td>\n",
       "      <td>1341</td>\n",
       "      <td>0.016254</td>\n",
       "      <td>1</td>\n",
       "      <td>67</td>\n",
       "    </tr>\n",
       "    <tr>\n",
       "      <th>2</th>\n",
       "      <td>2020-06-17</td>\n",
       "      <td>3c81cb1e3bcae4970e327d8c1aa5569271a2940154ef62...</td>\n",
       "      <td>20792</td>\n",
       "      <td>0.033881</td>\n",
       "      <td>2</td>\n",
       "      <td>13</td>\n",
       "    </tr>\n",
       "    <tr>\n",
       "      <th>3</th>\n",
       "      <td>2020-05-30</td>\n",
       "      <td>ff59422d4070741a35dae45a168c61bfb882716ac52389...</td>\n",
       "      <td>8671</td>\n",
       "      <td>0.040661</td>\n",
       "      <td>2</td>\n",
       "      <td>16</td>\n",
       "    </tr>\n",
       "    <tr>\n",
       "      <th>4</th>\n",
       "      <td>2020-03-10</td>\n",
       "      <td>9a6759a5e1d573f8906ce11a89f494b87d805c47c8e7a2...</td>\n",
       "      <td>14607</td>\n",
       "      <td>0.033000</td>\n",
       "      <td>2</td>\n",
       "      <td>28</td>\n",
       "    </tr>\n",
       "  </tbody>\n",
       "</table>\n",
       "</div>"
      ],
      "text/plain": [
       "       t_dat                                        customer_id  article_id  \\\n",
       "0 2020-03-01  97d1bee94581b2d24b004b1f187114c42654a0e1fcae7d...       16917   \n",
       "1 2019-06-06  a6582d4614cce36e1b4fe863e8afd452f1c08cccb18a1a...        1341   \n",
       "2 2020-06-17  3c81cb1e3bcae4970e327d8c1aa5569271a2940154ef62...       20792   \n",
       "3 2020-05-30  ff59422d4070741a35dae45a168c61bfb882716ac52389...        8671   \n",
       "4 2020-03-10  9a6759a5e1d573f8906ce11a89f494b87d805c47c8e7a2...       14607   \n",
       "\n",
       "      price  sales_channel_id  week  \n",
       "0  0.033881                 2    29  \n",
       "1  0.016254                 1    67  \n",
       "2  0.033881                 2    13  \n",
       "3  0.040661                 2    16  \n",
       "4  0.033000                 2    28  "
      ]
     },
     "metadata": {},
     "output_type": "display_data"
    },
    {
     "name": "stdout",
     "output_type": "stream",
     "text": [
      "データ(describe)\n"
     ]
    },
    {
     "data": {
      "text/html": [
       "<div>\n",
       "<style scoped>\n",
       "    .dataframe tbody tr th:only-of-type {\n",
       "        vertical-align: middle;\n",
       "    }\n",
       "\n",
       "    .dataframe tbody tr th {\n",
       "        vertical-align: top;\n",
       "    }\n",
       "\n",
       "    .dataframe thead th {\n",
       "        text-align: right;\n",
       "    }\n",
       "</style>\n",
       "<table border=\"1\" class=\"dataframe\">\n",
       "  <thead>\n",
       "    <tr style=\"text-align: right;\">\n",
       "      <th></th>\n",
       "      <th>article_id</th>\n",
       "      <th>price</th>\n",
       "      <th>sales_channel_id</th>\n",
       "      <th>week</th>\n",
       "    </tr>\n",
       "  </thead>\n",
       "  <tbody>\n",
       "    <tr>\n",
       "      <th>count</th>\n",
       "      <td>108052.000000</td>\n",
       "      <td>108052.000000</td>\n",
       "      <td>108052.000000</td>\n",
       "      <td>108052.000000</td>\n",
       "    </tr>\n",
       "    <tr>\n",
       "      <th>mean</th>\n",
       "      <td>9110.163523</td>\n",
       "      <td>0.027530</td>\n",
       "      <td>1.706067</td>\n",
       "      <td>39.039971</td>\n",
       "    </tr>\n",
       "    <tr>\n",
       "      <th>std</th>\n",
       "      <td>6465.767451</td>\n",
       "      <td>0.018317</td>\n",
       "      <td>0.455564</td>\n",
       "      <td>25.800356</td>\n",
       "    </tr>\n",
       "    <tr>\n",
       "      <th>min</th>\n",
       "      <td>0.000000</td>\n",
       "      <td>0.000424</td>\n",
       "      <td>1.000000</td>\n",
       "      <td>0.000000</td>\n",
       "    </tr>\n",
       "    <tr>\n",
       "      <th>25%</th>\n",
       "      <td>3511.000000</td>\n",
       "      <td>0.016119</td>\n",
       "      <td>1.000000</td>\n",
       "      <td>16.000000</td>\n",
       "    </tr>\n",
       "    <tr>\n",
       "      <th>50%</th>\n",
       "      <td>7966.000000</td>\n",
       "      <td>0.025407</td>\n",
       "      <td>2.000000</td>\n",
       "      <td>37.000000</td>\n",
       "    </tr>\n",
       "    <tr>\n",
       "      <th>75%</th>\n",
       "      <td>14458.000000</td>\n",
       "      <td>0.033881</td>\n",
       "      <td>2.000000</td>\n",
       "      <td>58.000000</td>\n",
       "    </tr>\n",
       "    <tr>\n",
       "      <th>max</th>\n",
       "      <td>22862.000000</td>\n",
       "      <td>0.422034</td>\n",
       "      <td>2.000000</td>\n",
       "      <td>104.000000</td>\n",
       "    </tr>\n",
       "  </tbody>\n",
       "</table>\n",
       "</div>"
      ],
      "text/plain": [
       "          article_id          price  sales_channel_id           week\n",
       "count  108052.000000  108052.000000     108052.000000  108052.000000\n",
       "mean     9110.163523       0.027530          1.706067      39.039971\n",
       "std      6465.767451       0.018317          0.455564      25.800356\n",
       "min         0.000000       0.000424          1.000000       0.000000\n",
       "25%      3511.000000       0.016119          1.000000      16.000000\n",
       "50%      7966.000000       0.025407          2.000000      37.000000\n",
       "75%     14458.000000       0.033881          2.000000      58.000000\n",
       "max     22862.000000       0.422034          2.000000     104.000000"
      ]
     },
     "metadata": {},
     "output_type": "display_data"
    },
    {
     "name": "stdout",
     "output_type": "stream",
     "text": [
      "データ(info)\n",
      "<class 'pandas.core.frame.DataFrame'>\n",
      "RangeIndex: 108052 entries, 0 to 108051\n",
      "Data columns (total 6 columns):\n",
      " #   Column            Non-Null Count   Dtype         \n",
      "---  ------            --------------   -----         \n",
      " 0   t_dat             108052 non-null  datetime64[ns]\n",
      " 1   customer_id       108052 non-null  object        \n",
      " 2   article_id        108052 non-null  int64         \n",
      " 3   price             108052 non-null  float64       \n",
      " 4   sales_channel_id  108052 non-null  int64         \n",
      " 5   week              108052 non-null  int64         \n",
      "dtypes: datetime64[ns](1), float64(1), int64(3), object(1)\n",
      "memory usage: 4.9+ MB\n"
     ]
    },
    {
     "data": {
      "text/plain": [
       "None"
      ]
     },
     "metadata": {},
     "output_type": "display_data"
    }
   ],
   "source": [
    "if DEBUG:\n",
    "    print(\"データ(head)\")\n",
    "    display(df.head())\n",
    "    print(\"データ(describe)\")\n",
    "    display(df.describe())\n",
    "    print(\"データ(info)\")\n",
    "    display(df.info())"
   ]
  },
  {
   "cell_type": "markdown",
   "id": "6af6f96e",
   "metadata": {
    "papermill": {
     "duration": 0.030911,
     "end_time": "2022-04-03T04:22:25.848576",
     "exception": false,
     "start_time": "2022-04-03T04:22:25.817665",
     "status": "completed"
    },
    "tags": []
   },
   "source": [
    "# 前処理(2)"
   ]
  },
  {
   "cell_type": "code",
   "execution_count": 10,
   "id": "7aac7ba5",
   "metadata": {
    "execution": {
     "iopub.execute_input": "2022-04-03T04:22:25.925637Z",
     "iopub.status.busy": "2022-04-03T04:22:25.924699Z",
     "iopub.status.idle": "2022-04-03T04:22:25.926651Z",
     "shell.execute_reply": "2022-04-03T04:22:25.927119Z",
     "shell.execute_reply.started": "2022-04-03T04:05:12.780299Z"
    },
    "papermill": {
     "duration": 0.044546,
     "end_time": "2022-04-03T04:22:25.927261",
     "exception": false,
     "start_time": "2022-04-03T04:22:25.882715",
     "status": "completed"
    },
    "tags": []
   },
   "outputs": [],
   "source": [
    "def create_dataset(df, week, debug=False) -> pd.DataFrame:\n",
    "    \"\"\"\n",
    "    データセットを作成\n",
    "    各顧客が指定した週で購入したものと、過去n週で購入したもの\n",
    "    \n",
    "    【データの説明】\n",
    "        customer_id: 顧客ID\n",
    "        target: (その週に)何を購入したか←予測したいもの\n",
    "        week: 週\n",
    "        article_id: (過去n週で)何を購入したか\n",
    "        week_history: (過去n週の)どの週で購入したか\n",
    "        \n",
    "    【処理の流れ】\n",
    "    1.指定した週の過去n週間分のデータを抽出する\n",
    "    2.顧客(customer_id)毎に買った商品リスト(article_idリスト)、購入したweekリストを作成\n",
    "    3.購入したweekリストをweek_historyとする\n",
    "    4.指定した週のレコードをtarget_dfとして抽出\n",
    "    5.target_dfも顧客(customer_id)毎に買った商品リスト(article_idリスト)を作成\n",
    "    6.買った商品リストのカラムをtargetに変換\n",
    "    7.target_dfのweekカラムに指定した週の値を代入\n",
    "    8.customer_idでleft join\n",
    "    \"\"\"\n",
    "    hist_df = df[(df[\"week\"] > week) & (df[\"week\"] <= week + WEEK_HIST_MAX)]\n",
    "    hist_df = hist_df.groupby(\"customer_id\").agg({\"article_id\": list, \"week\": list}).reset_index()\n",
    "    hist_df.rename(columns={\"week\": 'week_history'}, inplace=True)\n",
    "    if debug:\n",
    "        display(hist_df.head())\n",
    "    \n",
    "    target_df = df[df[\"week\"] == week]\n",
    "    target_df = target_df.groupby(\"customer_id\").agg({\"article_id\": list}).reset_index()\n",
    "    target_df.rename(columns={\"article_id\": \"target\"}, inplace=True)\n",
    "    target_df[\"week\"] = week\n",
    "    result_df = target_df.merge(hist_df, on=\"customer_id\", how=\"left\")\n",
    "    if debug:\n",
    "        display(result_df.head())\n",
    "    return result_df"
   ]
  },
  {
   "cell_type": "code",
   "execution_count": 11,
   "id": "51ca4ba3",
   "metadata": {
    "execution": {
     "iopub.execute_input": "2022-04-03T04:22:25.994423Z",
     "iopub.status.busy": "2022-04-03T04:22:25.993578Z",
     "iopub.status.idle": "2022-04-03T04:22:26.817130Z",
     "shell.execute_reply": "2022-04-03T04:22:26.816677Z",
     "shell.execute_reply.started": "2022-04-03T04:05:12.792989Z"
    },
    "papermill": {
     "duration": 0.859234,
     "end_time": "2022-04-03T04:22:26.817257",
     "exception": false,
     "start_time": "2022-04-03T04:22:25.958023",
     "status": "completed"
    },
    "tags": []
   },
   "outputs": [
    {
     "name": "stdout",
     "output_type": "stream",
     "text": [
      "validationデータ(head)\n"
     ]
    },
    {
     "data": {
      "text/html": [
       "<div>\n",
       "<style scoped>\n",
       "    .dataframe tbody tr th:only-of-type {\n",
       "        vertical-align: middle;\n",
       "    }\n",
       "\n",
       "    .dataframe tbody tr th {\n",
       "        vertical-align: top;\n",
       "    }\n",
       "\n",
       "    .dataframe thead th {\n",
       "        text-align: right;\n",
       "    }\n",
       "</style>\n",
       "<table border=\"1\" class=\"dataframe\">\n",
       "  <thead>\n",
       "    <tr style=\"text-align: right;\">\n",
       "      <th></th>\n",
       "      <th>customer_id</th>\n",
       "      <th>target</th>\n",
       "      <th>week</th>\n",
       "      <th>article_id</th>\n",
       "      <th>week_history</th>\n",
       "    </tr>\n",
       "  </thead>\n",
       "  <tbody>\n",
       "    <tr>\n",
       "      <th>0</th>\n",
       "      <td>00077dbd5c4a4991e092e63893ccf29294a9d5c46e8501...</td>\n",
       "      <td>[22789]</td>\n",
       "      <td>0</td>\n",
       "      <td>NaN</td>\n",
       "      <td>NaN</td>\n",
       "    </tr>\n",
       "    <tr>\n",
       "      <th>1</th>\n",
       "      <td>001ddeb8fb74fec5693116da83b488e05ee9a9e179f3fd...</td>\n",
       "      <td>[20196]</td>\n",
       "      <td>0</td>\n",
       "      <td>NaN</td>\n",
       "      <td>NaN</td>\n",
       "    </tr>\n",
       "    <tr>\n",
       "      <th>2</th>\n",
       "      <td>0026ebdd70715d8fa2befa14dfed317a1ffe5451aba839...</td>\n",
       "      <td>[11053]</td>\n",
       "      <td>0</td>\n",
       "      <td>NaN</td>\n",
       "      <td>NaN</td>\n",
       "    </tr>\n",
       "    <tr>\n",
       "      <th>3</th>\n",
       "      <td>00940f3cc6e6ab97cfefa71b2bd479a5c0dbccf5b56f7a...</td>\n",
       "      <td>[21624]</td>\n",
       "      <td>0</td>\n",
       "      <td>NaN</td>\n",
       "      <td>NaN</td>\n",
       "    </tr>\n",
       "    <tr>\n",
       "      <th>4</th>\n",
       "      <td>009a85913aa6f503ed0d2b5ac02ab919d6565bbbaa934a...</td>\n",
       "      <td>[3552]</td>\n",
       "      <td>0</td>\n",
       "      <td>NaN</td>\n",
       "      <td>NaN</td>\n",
       "    </tr>\n",
       "  </tbody>\n",
       "</table>\n",
       "</div>"
      ],
      "text/plain": [
       "                                         customer_id   target  week  \\\n",
       "0  00077dbd5c4a4991e092e63893ccf29294a9d5c46e8501...  [22789]     0   \n",
       "1  001ddeb8fb74fec5693116da83b488e05ee9a9e179f3fd...  [20196]     0   \n",
       "2  0026ebdd70715d8fa2befa14dfed317a1ffe5451aba839...  [11053]     0   \n",
       "3  00940f3cc6e6ab97cfefa71b2bd479a5c0dbccf5b56f7a...  [21624]     0   \n",
       "4  009a85913aa6f503ed0d2b5ac02ab919d6565bbbaa934a...   [3552]     0   \n",
       "\n",
       "  article_id week_history  \n",
       "0        NaN          NaN  \n",
       "1        NaN          NaN  \n",
       "2        NaN          NaN  \n",
       "3        NaN          NaN  \n",
       "4        NaN          NaN  "
      ]
     },
     "metadata": {},
     "output_type": "display_data"
    },
    {
     "name": "stdout",
     "output_type": "stream",
     "text": [
      "trainデータ(head + tail)\n"
     ]
    },
    {
     "data": {
      "text/html": [
       "<div>\n",
       "<style scoped>\n",
       "    .dataframe tbody tr th:only-of-type {\n",
       "        vertical-align: middle;\n",
       "    }\n",
       "\n",
       "    .dataframe tbody tr th {\n",
       "        vertical-align: top;\n",
       "    }\n",
       "\n",
       "    .dataframe thead th {\n",
       "        text-align: right;\n",
       "    }\n",
       "</style>\n",
       "<table border=\"1\" class=\"dataframe\">\n",
       "  <thead>\n",
       "    <tr style=\"text-align: right;\">\n",
       "      <th></th>\n",
       "      <th>customer_id</th>\n",
       "      <th>target</th>\n",
       "      <th>week</th>\n",
       "      <th>article_id</th>\n",
       "      <th>week_history</th>\n",
       "    </tr>\n",
       "  </thead>\n",
       "  <tbody>\n",
       "    <tr>\n",
       "      <th>0</th>\n",
       "      <td>00b32956428a096cde500df8a2c97b3efe6acf4d183977...</td>\n",
       "      <td>[20087]</td>\n",
       "      <td>1</td>\n",
       "      <td>NaN</td>\n",
       "      <td>NaN</td>\n",
       "    </tr>\n",
       "    <tr>\n",
       "      <th>1</th>\n",
       "      <td>00bd21cafc0274765423c9046d8c35c70a61471bf309b2...</td>\n",
       "      <td>[20921]</td>\n",
       "      <td>1</td>\n",
       "      <td>NaN</td>\n",
       "      <td>NaN</td>\n",
       "    </tr>\n",
       "    <tr>\n",
       "      <th>2</th>\n",
       "      <td>00c142839dd8a8eb803280bcdb53f51f5f78f692c87f55...</td>\n",
       "      <td>[20663]</td>\n",
       "      <td>1</td>\n",
       "      <td>NaN</td>\n",
       "      <td>NaN</td>\n",
       "    </tr>\n",
       "    <tr>\n",
       "      <th>3</th>\n",
       "      <td>0138bf975f6592f50c51ead422419e219c56b5defcf8c7...</td>\n",
       "      <td>[14337]</td>\n",
       "      <td>1</td>\n",
       "      <td>NaN</td>\n",
       "      <td>NaN</td>\n",
       "    </tr>\n",
       "    <tr>\n",
       "      <th>4</th>\n",
       "      <td>0157365cc52095ead6207202d0cacb7ede8da16508bc18...</td>\n",
       "      <td>[19311]</td>\n",
       "      <td>1</td>\n",
       "      <td>NaN</td>\n",
       "      <td>NaN</td>\n",
       "    </tr>\n",
       "  </tbody>\n",
       "</table>\n",
       "</div>"
      ],
      "text/plain": [
       "                                         customer_id   target  week  \\\n",
       "0  00b32956428a096cde500df8a2c97b3efe6acf4d183977...  [20087]     1   \n",
       "1  00bd21cafc0274765423c9046d8c35c70a61471bf309b2...  [20921]     1   \n",
       "2  00c142839dd8a8eb803280bcdb53f51f5f78f692c87f55...  [20663]     1   \n",
       "3  0138bf975f6592f50c51ead422419e219c56b5defcf8c7...  [14337]     1   \n",
       "4  0157365cc52095ead6207202d0cacb7ede8da16508bc18...  [19311]     1   \n",
       "\n",
       "  article_id week_history  \n",
       "0        NaN          NaN  \n",
       "1        NaN          NaN  \n",
       "2        NaN          NaN  \n",
       "3        NaN          NaN  \n",
       "4        NaN          NaN  "
      ]
     },
     "metadata": {},
     "output_type": "display_data"
    },
    {
     "data": {
      "text/html": [
       "<div>\n",
       "<style scoped>\n",
       "    .dataframe tbody tr th:only-of-type {\n",
       "        vertical-align: middle;\n",
       "    }\n",
       "\n",
       "    .dataframe tbody tr th {\n",
       "        vertical-align: top;\n",
       "    }\n",
       "\n",
       "    .dataframe thead th {\n",
       "        text-align: right;\n",
       "    }\n",
       "</style>\n",
       "<table border=\"1\" class=\"dataframe\">\n",
       "  <thead>\n",
       "    <tr style=\"text-align: right;\">\n",
       "      <th></th>\n",
       "      <th>customer_id</th>\n",
       "      <th>target</th>\n",
       "      <th>week</th>\n",
       "      <th>article_id</th>\n",
       "      <th>week_history</th>\n",
       "    </tr>\n",
       "  </thead>\n",
       "  <tbody>\n",
       "    <tr>\n",
       "      <th>5198</th>\n",
       "      <td>ff6245022bb917b4fa09e809b23f4aa620db8dc5c214d2...</td>\n",
       "      <td>[20927]</td>\n",
       "      <td>4</td>\n",
       "      <td>NaN</td>\n",
       "      <td>NaN</td>\n",
       "    </tr>\n",
       "    <tr>\n",
       "      <th>5199</th>\n",
       "      <td>ffa298b17476398c634bdaabab67562d03846736f55075...</td>\n",
       "      <td>[13112]</td>\n",
       "      <td>4</td>\n",
       "      <td>NaN</td>\n",
       "      <td>NaN</td>\n",
       "    </tr>\n",
       "    <tr>\n",
       "      <th>5200</th>\n",
       "      <td>ffba9e1d82f8b430fbcc1241776fe58cb01525cf7d776f...</td>\n",
       "      <td>[22836]</td>\n",
       "      <td>4</td>\n",
       "      <td>NaN</td>\n",
       "      <td>NaN</td>\n",
       "    </tr>\n",
       "    <tr>\n",
       "      <th>5201</th>\n",
       "      <td>ffc896b358b6690def53aef6acbed759b9980c341d8e6c...</td>\n",
       "      <td>[22232]</td>\n",
       "      <td>4</td>\n",
       "      <td>NaN</td>\n",
       "      <td>NaN</td>\n",
       "    </tr>\n",
       "    <tr>\n",
       "      <th>5202</th>\n",
       "      <td>ffde1bab6b628c1f22f7658ffc16b65fa8713a3c3262f0...</td>\n",
       "      <td>[12965]</td>\n",
       "      <td>4</td>\n",
       "      <td>NaN</td>\n",
       "      <td>NaN</td>\n",
       "    </tr>\n",
       "  </tbody>\n",
       "</table>\n",
       "</div>"
      ],
      "text/plain": [
       "                                            customer_id   target  week  \\\n",
       "5198  ff6245022bb917b4fa09e809b23f4aa620db8dc5c214d2...  [20927]     4   \n",
       "5199  ffa298b17476398c634bdaabab67562d03846736f55075...  [13112]     4   \n",
       "5200  ffba9e1d82f8b430fbcc1241776fe58cb01525cf7d776f...  [22836]     4   \n",
       "5201  ffc896b358b6690def53aef6acbed759b9980c341d8e6c...  [22232]     4   \n",
       "5202  ffde1bab6b628c1f22f7658ffc16b65fa8713a3c3262f0...  [12965]     4   \n",
       "\n",
       "     article_id week_history  \n",
       "5198        NaN          NaN  \n",
       "5199        NaN          NaN  \n",
       "5200        NaN          NaN  \n",
       "5201        NaN          NaN  \n",
       "5202        NaN          NaN  "
      ]
     },
     "metadata": {},
     "output_type": "display_data"
    }
   ],
   "source": [
    "# データセット作成\n",
    "val_df = pd.concat([create_dataset(df, w) for w in VAL_WEEKS]).reset_index(drop=True)\n",
    "train_df = pd.concat([create_dataset(df, w) for w in TRAIN_WEEKS]).reset_index(drop=True)\n",
    "train_df.shape, val_df.shape\n",
    "\n",
    "if DEBUG:\n",
    "    print(\"validationデータ(head)\")\n",
    "    display(val_df.head())\n",
    "    print(\"trainデータ(head + tail)\")\n",
    "    display(train_df.head())\n",
    "    display(train_df.tail())"
   ]
  },
  {
   "cell_type": "markdown",
   "id": "c577fff2",
   "metadata": {
    "papermill": {
     "duration": 0.032591,
     "end_time": "2022-04-03T04:22:26.884763",
     "exception": false,
     "start_time": "2022-04-03T04:22:26.852172",
     "status": "completed"
    },
    "tags": []
   },
   "source": [
    "# モデル学習"
   ]
  },
  {
   "cell_type": "code",
   "execution_count": 12,
   "id": "505d5b5e",
   "metadata": {
    "execution": {
     "iopub.execute_input": "2022-04-03T04:22:26.961017Z",
     "iopub.status.busy": "2022-04-03T04:22:26.960418Z",
     "iopub.status.idle": "2022-04-03T04:22:28.565862Z",
     "shell.execute_reply": "2022-04-03T04:22:28.566442Z",
     "shell.execute_reply.started": "2022-04-03T04:05:13.732059Z"
    },
    "papermill": {
     "duration": 1.650989,
     "end_time": "2022-04-03T04:22:28.566658",
     "exception": false,
     "start_time": "2022-04-03T04:22:26.915669",
     "status": "completed"
    },
    "tags": []
   },
   "outputs": [
    {
     "name": "stdout",
     "output_type": "stream",
     "text": [
      "train_dfでHMDataSetを作成し中身を確認\n",
      "[0]article_hist: 過去n週で購入した商品一覧\n",
      "[1]week_hist: 各商品を過去n週のうちどの週で購入したか一覧\n",
      "[2]target: 今週どの商品を購入したか0:購入しなかった、1:購入した(要素数: len(article_ids)\n",
      "------------------------------------------------------------\n",
      "\n",
      "データセットの中身\n"
     ]
    },
    {
     "data": {
      "text/plain": [
       "(tensor([0, 0, 0, 0, 0, 0, 0, 0, 0, 0, 0, 0, 0, 0, 0, 0, 0, 0, 0, 0, 0, 0, 0, 0,\n",
       "         0, 0, 0, 0, 0, 0, 0, 0, 0, 0, 0, 0, 0, 0, 0, 0, 0, 0, 0, 0, 0, 0, 0, 0,\n",
       "         0, 0, 0, 0, 0, 0, 0, 0, 0, 0, 0, 0, 0, 0, 0, 0]),\n",
       " tensor([1., 1., 1., 1., 1., 1., 1., 1., 1., 1., 1., 1., 1., 1., 1., 1., 1., 1.,\n",
       "         1., 1., 1., 1., 1., 1., 1., 1., 1., 1., 1., 1., 1., 1., 1., 1., 1., 1.,\n",
       "         1., 1., 1., 1., 1., 1., 1., 1., 1., 1., 1., 1., 1., 1., 1., 1., 1., 1.,\n",
       "         1., 1., 1., 1., 1., 1., 1., 1., 1., 1.]),\n",
       " tensor([0., 0., 0.,  ..., 0., 0., 0.]))"
      ]
     },
     "metadata": {},
     "output_type": "display_data"
    },
    {
     "name": "stdout",
     "output_type": "stream",
     "text": [
      "\n",
      "各特徴量のlen\n",
      "64\n",
      "64\n",
      "22864\n"
     ]
    }
   ],
   "source": [
    "from torch.utils.data import Dataset, DataLoader\n",
    "import torch\n",
    "from tqdm import tqdm\n",
    "\n",
    "class HMDataset(Dataset):\n",
    "    \"\"\"\n",
    "    pytorch Datasetを継承する際には以下の2つの関数をoverrideする\n",
    "    ①.def __getitem__(self, index: int):\n",
    "        indexを与えられたときに対応するデータを返す  \n",
    "    ②.def __len__(self):\n",
    "        データのサンプル数を返す\n",
    "    \"\"\"\n",
    "    def __init__(self, df, seq_len, is_test=False):\n",
    "        \"\"\"\n",
    "        df: 前処理したデータセット\n",
    "        seq_len: 特徴量の次元数\n",
    "        is_test: テストデータか否か\n",
    "        \"\"\"\n",
    "        self.df = df.reset_index(drop=True)\n",
    "        self.seq_len = seq_len\n",
    "        self.is_test = is_test\n",
    "    \n",
    "    def __len__(self):\n",
    "        return self.df.shape[0]\n",
    "    \n",
    "    def __getitem__(self, index):\n",
    "        \"\"\"\n",
    "        対象indexデータを加工して返す\n",
    "        \n",
    "        特徴量：\n",
    "        article_hist: 過去n週で購買した商品(要素数=seq_len)\n",
    "        week_hist: article_histの商品をいつ購入したかを正規化(0~1)した値(要素数=seq_len)\n",
    "        目的変数: \n",
    "        target: この週どの商品を購入したか(要素数=len(article_ids))\n",
    "        \"\"\"\n",
    "        \n",
    "        # dfのindex番目の行を抽出\n",
    "        row = self.df.iloc[index]\n",
    "        \n",
    "        if self.is_test:\n",
    "            # testならtargetは長さ2のlist\n",
    "            target = torch.zeros(2).float()\n",
    "        else:\n",
    "            # trainならtargetは長さが\"対象とする商品数\"のlist\n",
    "            target = torch.zeros(len(article_ids)).float()\n",
    "            \n",
    "            # targetのうち顧客が購入したもの(article_idのindex)を1.0にする\n",
    "            for t in row.target:\n",
    "                target[t] = 1.0\n",
    "            \n",
    "        # 購入履歴は長さseq_lenのlist\n",
    "        article_hist = torch.zeros(self.seq_len).long()\n",
    "        week_hist = torch.ones(self.seq_len).float()\n",
    "        \n",
    "        # 何かしらの購入履歴があるか\n",
    "        if isinstance(row.article_id, list):\n",
    "            \n",
    "            # 購入履歴の数がseq_lenより長いなら直近の履歴から抽出\n",
    "            if len(row.article_id) >= self.seq_len:\n",
    "                article_hist = torch.LongTensor(row.article_id[-self.seq_len:])\n",
    "                week_hist = (torch.LongTensor(row.week_history[-self.seq_len:]) - row.week)/WEEK_HIST_MAX/2\n",
    "            # 購入履歴の数がseq_lenより短いならarticle_hist/week_histの前半indexに購入履歴を格納\n",
    "            else:   \n",
    "                article_hist[-len(row.article_id):] = torch.LongTensor(row.article_id)\n",
    "                week_hist[-len(row.article_id):] = (torch.LongTensor(row.week_history) - row.week)/WEEK_HIST_MAX/2\n",
    "                \n",
    "        return article_hist, week_hist, target\n",
    "    \n",
    "if DEBUG:\n",
    "    print(\"train_dfでHMDataSetを作成し中身を確認\")\n",
    "    print(\"[0]article_hist: 過去n週で購入した商品一覧\")\n",
    "    print(\"[1]week_hist: 各商品を過去n週のうちどの週で購入したか一覧\")\n",
    "    print(\"[2]target: 今週どの商品を購入したか0:購入しなかった、1:購入した(要素数: len(article_ids)\")\n",
    "    print(\"-\"*60)\n",
    "    print()\n",
    "    print(\"データセットの中身\")\n",
    "    sample = HMDataset(train_df, 64)[0]\n",
    "    display(sample)\n",
    "    print()\n",
    "    print(\"各特徴量のlen\")\n",
    "    print(len(sample[0]))\n",
    "    print(len(sample[1]))\n",
    "    print(len(sample[2]))"
   ]
  },
  {
   "cell_type": "code",
   "execution_count": 13,
   "id": "99662ae0",
   "metadata": {
    "execution": {
     "iopub.execute_input": "2022-04-03T04:22:28.680619Z",
     "iopub.status.busy": "2022-04-03T04:22:28.679821Z",
     "iopub.status.idle": "2022-04-03T04:22:28.683147Z",
     "shell.execute_reply": "2022-04-03T04:22:28.683959Z",
     "shell.execute_reply.started": "2022-04-03T04:05:13.758680Z"
    },
    "papermill": {
     "duration": 0.065297,
     "end_time": "2022-04-03T04:22:28.684350",
     "exception": false,
     "start_time": "2022-04-03T04:22:28.619053",
     "status": "completed"
    },
    "tags": []
   },
   "outputs": [],
   "source": [
    "def adjust_lr(optimizer, epoch):\n",
    "    \"\"\"\n",
    "    エポックによって特徴量を変える\n",
    "    \"\"\"\n",
    "    \n",
    "    for epoch_th in LR_DICT.keys():\n",
    "        if epoch < epoch_th:\n",
    "            lr = LR_DICT[epoch_th]\n",
    "\n",
    "    for p in optimizer.param_groups:\n",
    "        p['lr'] = lr\n",
    "    return lr\n",
    "    \n",
    "def get_optimizer(net):\n",
    "    \"\"\"\n",
    "    最適化関数を取得\n",
    "    \"\"\"\n",
    "    optimizer = torch.optim.Adam(\n",
    "        params=filter(lambda p: p.requires_grad, net.parameters()),\n",
    "        lr=INIT_LR,\n",
    "        betas=BETAS,\n",
    "        eps=EPS\n",
    "    )\n",
    "    return optimizer"
   ]
  },
  {
   "cell_type": "code",
   "execution_count": 14,
   "id": "a95e0d67",
   "metadata": {
    "execution": {
     "iopub.execute_input": "2022-04-03T04:22:28.765647Z",
     "iopub.status.busy": "2022-04-03T04:22:28.764980Z",
     "iopub.status.idle": "2022-04-03T04:22:31.305023Z",
     "shell.execute_reply": "2022-04-03T04:22:31.305553Z",
     "shell.execute_reply.started": "2022-04-03T04:05:13.767903Z"
    },
    "papermill": {
     "duration": 2.586849,
     "end_time": "2022-04-03T04:22:31.305702",
     "exception": false,
     "start_time": "2022-04-03T04:22:28.718853",
     "status": "completed"
    },
    "tags": []
   },
   "outputs": [
    {
     "name": "stdout",
     "output_type": "stream",
     "text": [
      "モデル構造を可視化\n",
      "HMModel(\n",
      "  (article_emb): Embedding(22864, 8)\n",
      "  (top): Sequential(\n",
      "    (0): Conv1d(3, 32, kernel_size=(1,), stride=(1,))\n",
      "    (1): LeakyReLU(negative_slope=0.01)\n",
      "    (2): Conv1d(32, 8, kernel_size=(1,), stride=(1,))\n",
      "    (3): LeakyReLU(negative_slope=0.01)\n",
      "    (4): Conv1d(8, 1, kernel_size=(1,), stride=(1,))\n",
      "  )\n",
      ")\n"
     ]
    }
   ],
   "source": [
    "import torch.nn as nn\n",
    "import torch.nn.functional as F\n",
    "\n",
    "class HMModel(nn.Module):\n",
    "    \"\"\"\n",
    "    ネットワークを定義\n",
    "    一方通行ではない複雑なモデル（ネットワーク）を構築するには、torch.nn.Moduleを継承したサブクラスを定義する\n",
    "    \n",
    "    基本的な書き方\n",
    "    __init__()\n",
    "    　- 使用するモジュール（レイヤー）のインスタンスを生成\n",
    "     ※super().__init__()を忘れないように注意\n",
    "    forward()\n",
    "    　- レイヤーを所望の順番で適用していく\n",
    "    \"\"\"\n",
    "    def __init__(self, article_shape):\n",
    "        \"\"\"\n",
    "        article_shape = (商品の種類数, ベクトルの次元)\n",
    "        \"\"\"\n",
    "        # おまじない\n",
    "        super(HMModel, self).__init__()\n",
    "        \n",
    "        # レイヤー(Sequentialはレイヤーのひとまとまり?)\n",
    "        # nn.Embedding: IDに対応する初期ベクトルを作成(IDをベクトルに埋め込む)\n",
    "        # nn.Parameter: レイヤーのパラメータ\n",
    "        self.article_emb = nn.Embedding(num_embeddings=article_shape[0], embedding_dim=article_shape[1])\n",
    "        self.article_likelihood = nn.Parameter(torch.zeros(article_shape[0]), requires_grad=True)\n",
    "        self.top = nn.Sequential(\n",
    "            nn.Conv1d(3, 32, kernel_size=1),\n",
    "            nn.LeakyReLU(),\n",
    "            nn.Conv1d(32, 8, kernel_size=1),\n",
    "            nn.LeakyReLU(),\n",
    "            nn.Conv1d(8, 1, kernel_size=1)\n",
    "        )\n",
    "        \n",
    "    def forward(self, inputs):\n",
    "        \"\"\"\n",
    "        inputs: 特徴量\n",
    "        \"\"\"\n",
    "        article_hist, week_hist = inputs[0], inputs[1]\n",
    "        \n",
    "        # TODO: 前処理\n",
    "        x = self.article_emb(article_hist)\n",
    "\n",
    "        x = F.normalize(x, dim=2)\n",
    "        x = x@F.normalize(self.article_emb.weight).T\n",
    "        \n",
    "        x, indices = x.max(axis=1)\n",
    "        x = x.clamp(1e-3, 0.999)\n",
    "        x = -torch.log(1/x - 1)\n",
    "        \n",
    "        max_week = week_hist.unsqueeze(2).repeat(1, 1, x.shape[-1]).gather(1, indices.unsqueeze(1).repeat(1, week_hist.shape[1], 1))\n",
    "        max_week = max_week.mean(axis=1).unsqueeze(1)\n",
    "        \n",
    "        x = torch.cat([x.unsqueeze(1), max_week,\n",
    "                       self.article_likelihood[None, None, :].repeat(x.shape[0], 1, 1)], axis=1)\n",
    "        \n",
    "        # ネットワークで計算\n",
    "        x = self.top(x).squeeze(1)\n",
    "        return x\n",
    "    \n",
    "    \n",
    "model = HMModel((len(le_article.classes_), DIM_ARTICLE))\n",
    "model = model.cuda()\n",
    "if DEBUG:\n",
    "    print(\"モデル構造を可視化\")\n",
    "    print(model)"
   ]
  },
  {
   "cell_type": "code",
   "execution_count": 15,
   "id": "66177bd5",
   "metadata": {
    "execution": {
     "iopub.execute_input": "2022-04-03T04:22:31.383034Z",
     "iopub.status.busy": "2022-04-03T04:22:31.382343Z",
     "iopub.status.idle": "2022-04-03T04:22:31.388588Z",
     "shell.execute_reply": "2022-04-03T04:22:31.388021Z",
     "shell.execute_reply.started": "2022-04-03T04:05:13.789548Z"
    },
    "papermill": {
     "duration": 0.050389,
     "end_time": "2022-04-03T04:22:31.388739",
     "exception": false,
     "start_time": "2022-04-03T04:22:31.338350",
     "status": "completed"
    },
    "tags": []
   },
   "outputs": [
    {
     "name": "stderr",
     "output_type": "stream",
     "text": [
      "/opt/conda/lib/python3.7/site-packages/torch/utils/data/dataloader.py:481: UserWarning: This DataLoader will create 8 worker processes in total. Our suggested max number of worker in current system is 2, which is smaller than what this DataLoader is going to create. Please be aware that excessive worker creation might get DataLoader running slow or even freeze, lower the worker number to avoid potential slowness/freeze if necessary.\n",
      "  cpuset_checked))\n"
     ]
    }
   ],
   "source": [
    "import sys\n",
    "\n",
    "def calc_map(topk_preds, target_array, k=12):\n",
    "    \"\"\"\n",
    "    MAPスコアを計算\n",
    "    topk_perds: 予測結果\n",
    "    target_array: 正解\n",
    "    k: 予測件数(今回のコンペだと上位12件を予測)\n",
    "    \"\"\"\n",
    "    metric = []\n",
    "    tp, fp = 0, 0\n",
    "    \n",
    "    # 予測結果を1件ずつ見ていきtp/fpを計算\n",
    "    for pred in topk_preds:\n",
    "        if target_array[pred]:\n",
    "            tp += 1\n",
    "            metric.append(tp/(tp + fp))\n",
    "        else:\n",
    "            fp += 1\n",
    "            \n",
    "    return np.sum(metric) / min(k, target_array.sum())\n",
    "\n",
    "def read_data(data):\n",
    "    \"\"\"\n",
    "    TODO: おまじない的なやつ?\n",
    "    \"\"\"\n",
    "    return tuple(d.cuda() for d in data[:-1]), data[-1].cuda()\n",
    "\n",
    "\n",
    "def validate(model, val_loader, k=12):\n",
    "    \"\"\"\n",
    "    バリデーション\n",
    "    \"\"\"\n",
    "    model.eval()\n",
    "    \n",
    "    tbar = tqdm(val_loader, file=sys.stdout)\n",
    "    \n",
    "    maps = []\n",
    "    \n",
    "    with torch.no_grad():\n",
    "        for idx, data in enumerate(tbar):\n",
    "            # inputs(入力特徴量),target(正解)を抽出\n",
    "            inputs, target = read_data(data)\n",
    "            \n",
    "            # モデルで予測\n",
    "            logits = model(inputs)\n",
    "            \n",
    "            # topk(スコア上位k件を抽出)\n",
    "            _, indices = torch.topk(logits, k, dim=1)\n",
    "\n",
    "            # GPU→CPUへ\n",
    "            indices = indices.detach().cpu().numpy() # 予測結果\n",
    "            target = target.detach().cpu().numpy() # 正解\n",
    "\n",
    "            # スコア計算\n",
    "            for i in range(indices.shape[0]):\n",
    "                maps.append(calc_map(indices[i], target[i]))\n",
    "        \n",
    "    return np.mean(maps)\n",
    "\n",
    "# DataSet: 学習に使うデータ(前処理などを定義している)\n",
    "val_dataset = HMDataset(val_df, SEQ_LEN)\n",
    "\n",
    "# DataLoader: DataSetをバッチで処理するためのもの\n",
    "val_loader = DataLoader(\n",
    "    val_dataset,\n",
    "    batch_size=BS,\n",
    "    shuffle=False,\n",
    "    num_workers=NW,\n",
    "    pin_memory=False,\n",
    "    drop_last=False\n",
    ")"
   ]
  },
  {
   "cell_type": "markdown",
   "id": "3785b807",
   "metadata": {
    "papermill": {
     "duration": 0.032806,
     "end_time": "2022-04-03T04:22:31.456321",
     "exception": false,
     "start_time": "2022-04-03T04:22:31.423515",
     "status": "completed"
    },
    "tags": []
   },
   "source": [
    "### Train and validate"
   ]
  },
  {
   "cell_type": "code",
   "execution_count": 16,
   "id": "6acab21a",
   "metadata": {
    "execution": {
     "iopub.execute_input": "2022-04-03T04:22:31.536912Z",
     "iopub.status.busy": "2022-04-03T04:22:31.536194Z",
     "iopub.status.idle": "2022-04-03T04:22:41.645027Z",
     "shell.execute_reply": "2022-04-03T04:22:41.645429Z",
     "shell.execute_reply.started": "2022-04-03T04:05:13.806081Z"
    },
    "papermill": {
     "duration": 10.155793,
     "end_time": "2022-04-03T04:22:41.645588",
     "exception": false,
     "start_time": "2022-04-03T04:22:31.489795",
     "status": "completed"
    },
    "tags": []
   },
   "outputs": [
    {
     "name": "stdout",
     "output_type": "stream",
     "text": [
      "Epoch 1 Loss: 167.1047 lr: 1e-05: 100%|██████████| 20/20 [00:08<00:00,  2.26it/s]\n",
      "100%|██████████| 5/5 [00:01<00:00,  4.05it/s]\n",
      "Epoch 1\n",
      "Train Loss: 167.1047\n",
      "Validation MAP: 0.0008264462809917355\n",
      "\n"
     ]
    }
   ],
   "source": [
    "def dice_loss(y_pred, y_true):\n",
    "    \"\"\"\n",
    "    dice_loss\n",
    "    Dice損失は2つの要素の類似度の評価するために使われているDice係数(F値)を損失として用いたもの\n",
    "    \"\"\"\n",
    "    y_pred = y_pred.sigmoid()\n",
    "    intersect = (y_true*y_pred).sum(axis=1)\n",
    "    \n",
    "    return 1 - (intersect/(intersect + y_true.sum(axis=1) + y_pred.sum(axis=1))).mean()\n",
    "\n",
    "\n",
    "def train(model, train_loader, val_loader, epochs):\n",
    "    np.random.seed(SEED)\n",
    "    \n",
    "    # 最適化関数を定義\n",
    "    optimizer = get_optimizer(model)\n",
    "    scaler = torch.cuda.amp.GradScaler() # ←高速化のための何かっぽい\n",
    "\n",
    "    # ロスを定義\n",
    "    criterion = torch.nn.BCEWithLogitsLoss()\n",
    "    \n",
    "    for e in range(epochs):\n",
    "        model.train()\n",
    "        tbar = tqdm(train_loader, file=sys.stdout)\n",
    "        \n",
    "        lr = adjust_lr(optimizer, e)\n",
    "        \n",
    "        loss_list = []\n",
    "\n",
    "        for idx, data in enumerate(tbar):\n",
    "            inputs, target = read_data(data)\n",
    "\n",
    "            optimizer.zero_grad()\n",
    "            \n",
    "            with torch.cuda.amp.autocast():\n",
    "                logits = model(inputs)\n",
    "                \n",
    "                # ロスは2種類を組み合わせている(完全一致と類似度？)\n",
    "                loss = criterion(logits, target) + dice_loss(logits, target)\n",
    "            \n",
    "            #loss.backward()\n",
    "            scaler.scale(loss).backward()\n",
    "            #optimizer.step()\n",
    "            scaler.step(optimizer)\n",
    "            scaler.update()\n",
    "            \n",
    "            loss_list.append(loss.detach().cpu().item())\n",
    "            \n",
    "            avg_loss = np.round(100*np.mean(loss_list), 4)\n",
    "\n",
    "            tbar.set_description(f\"Epoch {e+1} Loss: {avg_loss} lr: {lr}\")\n",
    "            \n",
    "        val_map = validate(model, val_loader)\n",
    "\n",
    "        log_text = f\"Epoch {e+1}\\nTrain Loss: {avg_loss}\\nValidation MAP: {val_map}\\n\"\n",
    "            \n",
    "        print(log_text)\n",
    "        \n",
    "        #logfile = open(f\"models/{MODEL_NAME}_{SEED}.txt\", 'a')\n",
    "        #logfile.write(log_text)\n",
    "        #logfile.close()\n",
    "    return model\n",
    "\n",
    "\n",
    "\n",
    "\n",
    "train_dataset = HMDataset(train_df, SEQ_LEN)\n",
    "train_loader = DataLoader(train_dataset, batch_size=BS, shuffle=True, num_workers=NW,\n",
    "                          pin_memory=False, drop_last=True)\n",
    "\n",
    "model = train(model, train_loader, val_loader, epochs=BASE_EPOCHS)"
   ]
  },
  {
   "cell_type": "markdown",
   "id": "c578d3e5",
   "metadata": {
    "papermill": {
     "duration": 0.04422,
     "end_time": "2022-04-03T04:22:41.734614",
     "exception": false,
     "start_time": "2022-04-03T04:22:41.690394",
     "status": "completed"
    },
    "tags": []
   },
   "source": [
    "### Finetune with more recent data for submission (include validation set)\n",
    "今回のコンペは購買履歴の次の週の結果を予測する  \n",
    "→ 直近のデータの方が重要と考えられる  \n",
    "→ 最後にバリデーションデータを使ってfine tuningし直す"
   ]
  },
  {
   "cell_type": "code",
   "execution_count": 17,
   "id": "c419cea0",
   "metadata": {
    "execution": {
     "iopub.execute_input": "2022-04-03T04:22:41.843247Z",
     "iopub.status.busy": "2022-04-03T04:22:41.838913Z",
     "iopub.status.idle": "2022-04-03T04:22:46.031646Z",
     "shell.execute_reply": "2022-04-03T04:22:46.031200Z",
     "shell.execute_reply.started": "2022-04-03T04:05:18.749520Z"
    },
    "papermill": {
     "duration": 4.252679,
     "end_time": "2022-04-03T04:22:46.031765",
     "exception": false,
     "start_time": "2022-04-03T04:22:41.779086",
     "status": "completed"
    },
    "tags": []
   },
   "outputs": [
    {
     "name": "stdout",
     "output_type": "stream",
     "text": [
      "Epoch 1 Loss: 167.0082 lr: 1e-05: 100%|██████████| 20/20 [00:03<00:00,  6.58it/s]\n",
      "100%|██████████| 5/5 [00:01<00:00,  4.43it/s]\n",
      "Epoch 1\n",
      "Train Loss: 167.0082\n",
      "Validation MAP: 0.0008264462809917355\n",
      "\n"
     ]
    }
   ],
   "source": [
    "train_dataset = HMDataset(train_df[train_df[\"week\"] < FT_WEEKS].append(val_df), SEQ_LEN)\n",
    "train_loader = DataLoader(train_dataset, batch_size=BS, shuffle=True, num_workers=NW,\n",
    "                          pin_memory=False, drop_last=True)\n",
    "\n",
    "model = train(model, train_loader, val_loader, epochs=FT_EPOCHS)"
   ]
  },
  {
   "cell_type": "code",
   "execution_count": 18,
   "id": "ae71be68",
   "metadata": {
    "execution": {
     "iopub.execute_input": "2022-04-03T04:22:46.153289Z",
     "iopub.status.busy": "2022-04-03T04:22:46.152671Z",
     "iopub.status.idle": "2022-04-03T04:22:50.681208Z",
     "shell.execute_reply": "2022-04-03T04:22:50.681752Z"
    },
    "papermill": {
     "duration": 4.592316,
     "end_time": "2022-04-03T04:22:50.681932",
     "exception": false,
     "start_time": "2022-04-03T04:22:46.089616",
     "status": "completed"
    },
    "tags": []
   },
   "outputs": [
    {
     "name": "stdout",
     "output_type": "stream",
     "text": [
      "(1371980, 1)\n"
     ]
    },
    {
     "data": {
      "text/html": [
       "<div>\n",
       "<style scoped>\n",
       "    .dataframe tbody tr th:only-of-type {\n",
       "        vertical-align: middle;\n",
       "    }\n",
       "\n",
       "    .dataframe tbody tr th {\n",
       "        vertical-align: top;\n",
       "    }\n",
       "\n",
       "    .dataframe thead th {\n",
       "        text-align: right;\n",
       "    }\n",
       "</style>\n",
       "<table border=\"1\" class=\"dataframe\">\n",
       "  <thead>\n",
       "    <tr style=\"text-align: right;\">\n",
       "      <th></th>\n",
       "      <th>customer_id</th>\n",
       "    </tr>\n",
       "  </thead>\n",
       "  <tbody>\n",
       "    <tr>\n",
       "      <th>0</th>\n",
       "      <td>00000dbacae5abe5e23885899a1fa44253a17956c6d1c3...</td>\n",
       "    </tr>\n",
       "    <tr>\n",
       "      <th>1</th>\n",
       "      <td>0000423b00ade91418cceaf3b26c6af3dd342b51fd051e...</td>\n",
       "    </tr>\n",
       "    <tr>\n",
       "      <th>2</th>\n",
       "      <td>000058a12d5b43e67d225668fa1f8d618c13dc232df0ca...</td>\n",
       "    </tr>\n",
       "    <tr>\n",
       "      <th>3</th>\n",
       "      <td>00005ca1c9ed5f5146b52ac8639a40ca9d57aeff4d1bd2...</td>\n",
       "    </tr>\n",
       "    <tr>\n",
       "      <th>4</th>\n",
       "      <td>00006413d8573cd20ed7128e53b7b13819fe5cfc2d801f...</td>\n",
       "    </tr>\n",
       "  </tbody>\n",
       "</table>\n",
       "</div>"
      ],
      "text/plain": [
       "                                         customer_id\n",
       "0  00000dbacae5abe5e23885899a1fa44253a17956c6d1c3...\n",
       "1  0000423b00ade91418cceaf3b26c6af3dd342b51fd051e...\n",
       "2  000058a12d5b43e67d225668fa1f8d618c13dc232df0ca...\n",
       "3  00005ca1c9ed5f5146b52ac8639a40ca9d57aeff4d1bd2...\n",
       "4  00006413d8573cd20ed7128e53b7b13819fe5cfc2d801f..."
      ]
     },
     "execution_count": 18,
     "metadata": {},
     "output_type": "execute_result"
    }
   ],
   "source": [
    "test_df = pd.read_csv(SAMPLE_SUB_PATH).drop(\"prediction\", axis=1)\n",
    "print(test_df.shape)\n",
    "test_df.head()"
   ]
  },
  {
   "cell_type": "code",
   "execution_count": 19,
   "id": "2f061bc6",
   "metadata": {
    "execution": {
     "iopub.execute_input": "2022-04-03T04:22:50.805904Z",
     "iopub.status.busy": "2022-04-03T04:22:50.805061Z",
     "iopub.status.idle": "2022-04-03T04:22:51.752993Z",
     "shell.execute_reply": "2022-04-03T04:22:51.753455Z"
    },
    "papermill": {
     "duration": 1.013606,
     "end_time": "2022-04-03T04:22:51.753602",
     "exception": false,
     "start_time": "2022-04-03T04:22:50.739996",
     "status": "completed"
    },
    "tags": []
   },
   "outputs": [
    {
     "data": {
      "text/html": [
       "<div>\n",
       "<style scoped>\n",
       "    .dataframe tbody tr th:only-of-type {\n",
       "        vertical-align: middle;\n",
       "    }\n",
       "\n",
       "    .dataframe tbody tr th {\n",
       "        vertical-align: top;\n",
       "    }\n",
       "\n",
       "    .dataframe thead th {\n",
       "        text-align: right;\n",
       "    }\n",
       "</style>\n",
       "<table border=\"1\" class=\"dataframe\">\n",
       "  <thead>\n",
       "    <tr style=\"text-align: right;\">\n",
       "      <th></th>\n",
       "      <th>customer_id</th>\n",
       "      <th>week</th>\n",
       "      <th>article_id</th>\n",
       "      <th>week_history</th>\n",
       "    </tr>\n",
       "  </thead>\n",
       "  <tbody>\n",
       "    <tr>\n",
       "      <th>0</th>\n",
       "      <td>00000dbacae5abe5e23885899a1fa44253a17956c6d1c3...</td>\n",
       "      <td>-1</td>\n",
       "      <td>NaN</td>\n",
       "      <td>NaN</td>\n",
       "    </tr>\n",
       "    <tr>\n",
       "      <th>1</th>\n",
       "      <td>0000423b00ade91418cceaf3b26c6af3dd342b51fd051e...</td>\n",
       "      <td>-1</td>\n",
       "      <td>NaN</td>\n",
       "      <td>NaN</td>\n",
       "    </tr>\n",
       "    <tr>\n",
       "      <th>2</th>\n",
       "      <td>000058a12d5b43e67d225668fa1f8d618c13dc232df0ca...</td>\n",
       "      <td>-1</td>\n",
       "      <td>NaN</td>\n",
       "      <td>NaN</td>\n",
       "    </tr>\n",
       "    <tr>\n",
       "      <th>3</th>\n",
       "      <td>00005ca1c9ed5f5146b52ac8639a40ca9d57aeff4d1bd2...</td>\n",
       "      <td>-1</td>\n",
       "      <td>NaN</td>\n",
       "      <td>NaN</td>\n",
       "    </tr>\n",
       "    <tr>\n",
       "      <th>4</th>\n",
       "      <td>00006413d8573cd20ed7128e53b7b13819fe5cfc2d801f...</td>\n",
       "      <td>-1</td>\n",
       "      <td>NaN</td>\n",
       "      <td>NaN</td>\n",
       "    </tr>\n",
       "  </tbody>\n",
       "</table>\n",
       "</div>"
      ],
      "text/plain": [
       "                                         customer_id  week article_id  \\\n",
       "0  00000dbacae5abe5e23885899a1fa44253a17956c6d1c3...    -1        NaN   \n",
       "1  0000423b00ade91418cceaf3b26c6af3dd342b51fd051e...    -1        NaN   \n",
       "2  000058a12d5b43e67d225668fa1f8d618c13dc232df0ca...    -1        NaN   \n",
       "3  00005ca1c9ed5f5146b52ac8639a40ca9d57aeff4d1bd2...    -1        NaN   \n",
       "4  00006413d8573cd20ed7128e53b7b13819fe5cfc2d801f...    -1        NaN   \n",
       "\n",
       "  week_history  \n",
       "0          NaN  \n",
       "1          NaN  \n",
       "2          NaN  \n",
       "3          NaN  \n",
       "4          NaN  "
      ]
     },
     "execution_count": 19,
     "metadata": {},
     "output_type": "execute_result"
    }
   ],
   "source": [
    "def create_test_dataset(test_df):\n",
    "    \"\"\"\n",
    "    テストデータ(submitする際の予測データ)を作成する\n",
    "    \"\"\"\n",
    "    week = -1\n",
    "    test_df[\"week\"] = week\n",
    "    \n",
    "    # 過去n週間で買ったものを列として追加していく\n",
    "    hist_df = df[(df[\"week\"] > week) & (df[\"week\"] <= week + WEEK_HIST_MAX)]\n",
    "    hist_df = hist_df.groupby(\"customer_id\").agg({\"article_id\": list, \"week\": list}).reset_index()\n",
    "    hist_df.rename(columns={\"week\": 'week_history'}, inplace=True)\n",
    "    \n",
    "    return test_df.merge(hist_df, on=\"customer_id\", how=\"left\")\n",
    "\n",
    "test_df = create_test_dataset(test_df)\n",
    "test_df.head()"
   ]
  },
  {
   "cell_type": "code",
   "execution_count": 20,
   "id": "580b73e0",
   "metadata": {
    "execution": {
     "iopub.execute_input": "2022-04-03T04:22:51.922768Z",
     "iopub.status.busy": "2022-04-03T04:22:51.921858Z",
     "iopub.status.idle": "2022-04-03T04:22:51.928778Z",
     "shell.execute_reply": "2022-04-03T04:22:51.929208Z"
    },
    "papermill": {
     "duration": 0.11736,
     "end_time": "2022-04-03T04:22:51.929361",
     "exception": false,
     "start_time": "2022-04-03T04:22:51.812001",
     "status": "completed"
    },
    "tags": []
   },
   "outputs": [
    {
     "data": {
      "text/plain": [
       "0.9953643639120103"
      ]
     },
     "execution_count": 20,
     "metadata": {},
     "output_type": "execute_result"
    }
   ],
   "source": [
    "# 8割くらいの人がnull\n",
    "# →80%の人はヒントなしになってしまっているので別の特徴量が必要そう\n",
    "test_df[\"article_id\"].isnull().mean()"
   ]
  },
  {
   "cell_type": "markdown",
   "id": "2ca8d3ff",
   "metadata": {
    "papermill": {
     "duration": 0.059453,
     "end_time": "2022-04-03T04:22:52.048306",
     "exception": false,
     "start_time": "2022-04-03T04:22:51.988853",
     "status": "completed"
    },
    "tags": []
   },
   "source": [
    "# テストデータに対する推論 + submission.csvの作成"
   ]
  },
  {
   "cell_type": "code",
   "execution_count": 21,
   "id": "3448345a",
   "metadata": {
    "execution": {
     "iopub.execute_input": "2022-04-03T04:22:52.177432Z",
     "iopub.status.busy": "2022-04-03T04:22:52.176492Z",
     "iopub.status.idle": "2022-04-03T04:37:14.235143Z",
     "shell.execute_reply": "2022-04-03T04:37:14.235566Z",
     "shell.execute_reply.started": "2022-04-03T04:05:27.124106Z"
    },
    "papermill": {
     "duration": 862.127373,
     "end_time": "2022-04-03T04:37:14.235743",
     "exception": false,
     "start_time": "2022-04-03T04:22:52.108370",
     "status": "completed"
    },
    "tags": []
   },
   "outputs": [
    {
     "name": "stderr",
     "output_type": "stream",
     "text": [
      "/opt/conda/lib/python3.7/site-packages/torch/utils/data/dataloader.py:481: UserWarning: This DataLoader will create 8 worker processes in total. Our suggested max number of worker in current system is 2, which is smaller than what this DataLoader is going to create. Please be aware that excessive worker creation might get DataLoader running slow or even freeze, lower the worker number to avoid potential slowness/freeze if necessary.\n",
      "  cpuset_checked))\n"
     ]
    },
    {
     "name": "stdout",
     "output_type": "stream",
     "text": [
      "100%|██████████| 5360/5360 [14:21<00:00,  6.22it/s]\n"
     ]
    }
   ],
   "source": [
    "test_ds = HMDataset(test_df, SEQ_LEN, is_test=True)\n",
    "test_loader = DataLoader(test_ds, batch_size=BS, shuffle=False, num_workers=NW,\n",
    "                          pin_memory=False, drop_last=False)\n",
    "\n",
    "\n",
    "def inference(model, loader, k=12):\n",
    "    model.eval()\n",
    "    \n",
    "    tbar = tqdm(loader, file=sys.stdout)\n",
    "    \n",
    "    preds = []\n",
    "    \n",
    "    with torch.no_grad():\n",
    "        for idx, data in enumerate(tbar):\n",
    "            inputs, target = read_data(data)\n",
    "\n",
    "            logits = model(inputs)\n",
    "\n",
    "            _, indices = torch.topk(logits, k, dim=1)\n",
    "\n",
    "            indices = indices.detach().cpu().numpy()\n",
    "            target = target.detach().cpu().numpy()\n",
    "\n",
    "            for i in range(indices.shape[0]):\n",
    "                preds.append(\" \".join(list(le_article.inverse_transform(indices[i]))))\n",
    "        \n",
    "    \n",
    "    return preds\n",
    "\n",
    "\n",
    "test_df[\"prediction\"] = inference(model, test_loader)"
   ]
  },
  {
   "cell_type": "code",
   "execution_count": 22,
   "id": "5337b250",
   "metadata": {
    "execution": {
     "iopub.execute_input": "2022-04-03T04:37:17.619591Z",
     "iopub.status.busy": "2022-04-03T04:37:17.618998Z",
     "iopub.status.idle": "2022-04-03T04:37:28.935051Z",
     "shell.execute_reply": "2022-04-03T04:37:28.934071Z",
     "shell.execute_reply.started": "2022-04-03T04:19:51.454400Z"
    },
    "papermill": {
     "duration": 13.01031,
     "end_time": "2022-04-03T04:37:28.935245",
     "exception": false,
     "start_time": "2022-04-03T04:37:15.924935",
     "status": "completed"
    },
    "tags": []
   },
   "outputs": [],
   "source": [
    "test_df.to_csv(\"submission.csv\", index=False, columns=[\"customer_id\", \"prediction\"])"
   ]
  },
  {
   "cell_type": "code",
   "execution_count": 23,
   "id": "5f882c24",
   "metadata": {
    "execution": {
     "iopub.execute_input": "2022-04-03T04:37:33.105902Z",
     "iopub.status.busy": "2022-04-03T04:37:33.104218Z",
     "iopub.status.idle": "2022-04-03T04:37:33.106753Z",
     "shell.execute_reply": "2022-04-03T04:37:33.107310Z",
     "shell.execute_reply.started": "2022-04-03T04:20:03.258694Z"
    },
    "papermill": {
     "duration": 2.142573,
     "end_time": "2022-04-03T04:37:33.107454",
     "exception": false,
     "start_time": "2022-04-03T04:37:30.964881",
     "status": "completed"
    },
    "tags": []
   },
   "outputs": [],
   "source": [
    "# fin!"
   ]
  }
 ],
 "metadata": {
  "kernelspec": {
   "display_name": "Python 3",
   "language": "python",
   "name": "python3"
  },
  "language_info": {
   "codemirror_mode": {
    "name": "ipython",
    "version": 3
   },
   "file_extension": ".py",
   "mimetype": "text/x-python",
   "name": "python",
   "nbconvert_exporter": "python",
   "pygments_lexer": "ipython3",
   "version": "3.7.12"
  },
  "papermill": {
   "default_parameters": {},
   "duration": 985.481167,
   "end_time": "2022-04-03T04:37:36.604643",
   "environment_variables": {},
   "exception": null,
   "input_path": "__notebook__.ipynb",
   "output_path": "__notebook__.ipynb",
   "parameters": {},
   "start_time": "2022-04-03T04:21:11.123476",
   "version": "2.3.3"
  }
 },
 "nbformat": 4,
 "nbformat_minor": 5
}
