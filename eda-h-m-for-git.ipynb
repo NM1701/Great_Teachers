{
 "cells": [
  {
   "cell_type": "code",
   "execution_count": 1,
   "metadata": {
    "_cell_guid": "b1076dfc-b9ad-4769-8c92-a6c4dae69d19",
    "_uuid": "8f2839f25d086af736a60e9eeb907d3b93b6e0e5",
    "tags": []
   },
   "outputs": [],
   "source": [
    "#ライブラリーとデータの読み込み\n",
    "import pandas as pd\n",
    "\n",
    "# transactions = pd.read_csv(\"../input/rakusp/for_uploading/transactions_rakus_train.csv\")\n",
    "# articles = pd.read_csv(\"../input/rakusp/for_uploading/articles.csv\")\n",
    "# customers_rakus = pd.read_csv(\"../input/rakusp/for_uploading/customers_rakus.csv\")\n",
    "\n",
    "# ローカルでの読み込み\n",
    "transactions = pd.read_csv(\"../研修・自習/コンペ/202206 社内/for_uploading/transactions_rakus_train.csv\")\n",
    "articles = pd.read_csv(\"../研修・自習/コンペ/202206 社内/for_uploading/articles.csv\")\n",
    "customers_rakus = pd.read_csv(\"../研修・自習/コンペ/202206 社内/for_uploading/customers_rakus.csv\")"
   ]
  },
  {
   "cell_type": "code",
   "execution_count": 2,
   "metadata": {
    "execution": {
     "iopub.execute_input": "2022-07-20T02:48:37.141995Z",
     "iopub.status.busy": "2022-07-20T02:48:37.141520Z",
     "iopub.status.idle": "2022-07-20T02:48:37.178016Z",
     "shell.execute_reply": "2022-07-20T02:48:37.176412Z",
     "shell.execute_reply.started": "2022-07-20T02:48:37.141959Z"
    }
   },
   "outputs": [],
   "source": [
    "transactions"
   ]
  },
  {
   "cell_type": "code",
   "execution_count": 3,
   "metadata": {
    "execution": {
     "iopub.execute_input": "2022-07-20T02:48:43.849645Z",
     "iopub.status.busy": "2022-07-20T02:48:43.849151Z",
     "iopub.status.idle": "2022-07-20T02:48:43.878174Z",
     "shell.execute_reply": "2022-07-20T02:48:43.876616Z",
     "shell.execute_reply.started": "2022-07-20T02:48:43.849607Z"
    }
   },
   "outputs": [],
   "source": [
    "customers_rakus"
   ]
  },
  {
   "cell_type": "code",
   "execution_count": null,
   "metadata": {},
   "outputs": [],
   "source": [
    "#購入履歴がない顧客の取り出し\n",
    "\n",
    "#transactionから顧客"
   ]
  },
  {
   "cell_type": "code",
   "execution_count": null,
   "metadata": {},
   "outputs": [],
   "source": []
  },
  {
   "cell_type": "markdown",
   "metadata": {},
   "source": [
    "1. 購買履歴が直近3ヶ月間で存在するユーザー(active)"
   ]
  },
  {
   "cell_type": "code",
   "execution_count": 2,
   "metadata": {},
   "outputs": [],
   "source": [
    "# 日付（'t_dat'列）をdatetime型に変換\n",
    "import datetime\n",
    "\n",
    "transactions['t_dat'] = pd.to_datetime(transactions['t_dat'], format='%Y-%m-%d')"
   ]
  },
  {
   "cell_type": "code",
   "execution_count": 3,
   "metadata": {},
   "outputs": [],
   "source": [
    "# 直近3か月間の購買履歴が存在するユーザーの絞り込み\n",
    "date_3m_before = datetime.datetime(2020, 6, 7)\n",
    "customers_within_3M = transactions[transactions[\"t_dat\"] >= date_3m_before].reset_index(drop = True).customer_id\n",
    "customers_recent = customers_within_3M.value_counts()"
   ]
  },
  {
   "cell_type": "code",
   "execution_count": 5,
   "metadata": {},
   "outputs": [
    {
     "data": {
      "text/plain": [
       "4308983955108b3af43ec57f0557211e44462a5633238351fff14c8b51f16093    383\n",
       "b637a3e7d8b0caa947aaefd609b8d84a9ee962cf0a52a51bac507ffc2bf1b741    337\n",
       "98e6d2f440e7b29dc139b2e911f41adc1f814e09f16aca6e373041671ab2bdeb    334\n",
       "67931690bdf18d2e328854ae772cd5ce2505fdc11164693998b13e706db0bb56    308\n",
       "be1981ab818cf4ef6765b2ecaea7a2cbf14ccd6e8a7ee985513d9e8e53c6d91b    299\n",
       "                                                                   ... \n",
       "586d334a6eb6eb67b919e3ca5896c88b84f9989a27ee10086fe544923669e2a5      1\n",
       "589ab0c3e950c7db8370cbcd02285eaf75caec3a6eadea776445f1650e67c607      1\n",
       "27374c3d3a7953d753d9dab4901ac2ff85fafb9fe3354b506e3fbbf556df7faa      1\n",
       "fc77136eb083a37d0ff753b71ec09286dba6debc2f2a355ab18154b6571f0a50      1\n",
       "fffb287f12aea1204e9eabd5e02eaf7f3ed5f9abecd9a4cb06cd9ecd793a996f      1\n",
       "Name: customer_id, Length: 542502, dtype: int64"
      ]
     },
     "execution_count": 5,
     "metadata": {},
     "output_type": "execute_result"
    }
   ],
   "source": [
    "customers_recent"
   ]
  },
  {
   "cell_type": "code",
   "execution_count": null,
   "metadata": {},
   "outputs": [],
   "source": []
  },
  {
   "cell_type": "markdown",
   "metadata": {},
   "source": [
    "2. 購買履歴が直近3ヶ月より前には存在するが、3ヶ月間では無いユーザー(inactive)"
   ]
  },
  {
   "cell_type": "code",
   "execution_count": 6,
   "metadata": {},
   "outputs": [
    {
     "data": {
      "text/plain": [
       "b14bfba3ae0da5af6e9711059773acf713cd7bb9a2c940ddf570affb715988a0    901\n",
       "65d3fe53c1daab078c0f6b538cc85ee24f08aca975529191fa58960dc02c46ed    782\n",
       "06d23b72cac134851a761473b40c881c300814981b6b0a3c4692ddf5a93f2a48    756\n",
       "1317cd10b446957c16d04ec71cb355441b7f08cd0014f9ca69bb872e9c5e7dcc    572\n",
       "8cce95c66051e3472a8f618b17f13bb9cdc9f797fd7851c5c3bc2ed8c1da1a00    568\n",
       "                                                                   ... \n",
       "b845df35be34b5abaf259e6ebbfd3354cbb6f120a46341325e5ffde537c915ec      1\n",
       "bba265b531cb6dd2383eb1ff0deb758ad76cf2101042f1808c33bb4fecaeecd4      1\n",
       "b8e99bd025d056d837b615a165d6c1c5b11f8a79b69acb363820e10ce6641e28      1\n",
       "bc0249c70d8d35bc68441087db36f39a5fda5ef81536bb4917b370243f79b516      1\n",
       "fff794fc57d69c510de4c20251436c5e05e27161ff74f2f5b3331faf6e6344bd      1\n",
       "Name: customer_id, Length: 807108, dtype: int64"
      ]
     },
     "execution_count": 6,
     "metadata": {},
     "output_type": "execute_result"
    }
   ],
   "source": [
    "# 直近3か月より前の購買履歴に絞り込み\n",
    "transactions_before_3M_ago = transactions[transactions['t_dat'] < date_3m_before]\n",
    "transactions_old = transactions_before_3M_ago[~transactions_before_3M_ago['customer_id'].isin(customers_within_3M)]\n",
    "customers_before_3M_ago = transactions_old['customer_id']\n",
    "customers_old = customers_before_3M_ago.value_counts()\n",
    "customers_old"
   ]
  },
  {
   "cell_type": "code",
   "execution_count": null,
   "metadata": {},
   "outputs": [],
   "source": []
  }
 ],
 "metadata": {
  "kernelspec": {
   "display_name": "Python 3 (ipykernel)",
   "language": "python",
   "name": "python3"
  },
  "language_info": {
   "codemirror_mode": {
    "name": "ipython",
    "version": 3
   },
   "file_extension": ".py",
   "mimetype": "text/x-python",
   "name": "python",
   "nbconvert_exporter": "python",
   "pygments_lexer": "ipython3",
   "version": "3.9.12"
  }
 },
 "nbformat": 4,
 "nbformat_minor": 4
}
