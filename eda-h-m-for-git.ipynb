{
 "cells": [
  {
   "cell_type": "code",
   "execution_count": 1,
   "metadata": {
    "_cell_guid": "b1076dfc-b9ad-4769-8c92-a6c4dae69d19",
    "_uuid": "8f2839f25d086af736a60e9eeb907d3b93b6e0e5",
    "execution": {
     "iopub.execute_input": "2022-07-20T02:46:47.345844Z",
     "iopub.status.busy": "2022-07-20T02:46:47.345032Z",
     "iopub.status.idle": "2022-07-20T02:47:56.616876Z",
     "shell.execute_reply": "2022-07-20T02:47:56.615312Z",
     "shell.execute_reply.started": "2022-07-20T02:46:47.345731Z"
    }
   },
   "outputs": [],
   "source": [
    "#ライブラリーとデータの読み込み\n",
    "import pandas as pd\n",
    "\n",
    "transactions = pd.read_csv(\"../input/rakusp/for_uploading/transactions_rakus_train.csv\")\n",
    "articles = pd.read_csv(\"../input/rakusp/for_uploading/articles.csv\")\n",
    "customers_rakus = pd.read_csv(\"../input/rakusp/for_uploading/customers_rakus.csv\")"
   ]
  },
  {
   "cell_type": "code",
   "execution_count": 2,
   "metadata": {
    "execution": {
     "iopub.execute_input": "2022-07-20T02:48:37.141995Z",
     "iopub.status.busy": "2022-07-20T02:48:37.141520Z",
     "iopub.status.idle": "2022-07-20T02:48:37.178016Z",
     "shell.execute_reply": "2022-07-20T02:48:37.176412Z",
     "shell.execute_reply.started": "2022-07-20T02:48:37.141959Z"
    }
   },
   "outputs": [],
   "source": [
    "transactions"
   ]
  },
  {
   "cell_type": "code",
   "execution_count": 3,
   "metadata": {
    "execution": {
     "iopub.execute_input": "2022-07-20T02:48:43.849645Z",
     "iopub.status.busy": "2022-07-20T02:48:43.849151Z",
     "iopub.status.idle": "2022-07-20T02:48:43.878174Z",
     "shell.execute_reply": "2022-07-20T02:48:43.876616Z",
     "shell.execute_reply.started": "2022-07-20T02:48:43.849607Z"
    }
   },
   "outputs": [],
   "source": [
    "customers_rakus"
   ]
  },
  {
   "cell_type": "code",
   "execution_count": null,
   "metadata": {},
   "outputs": [],
   "source": [
    "#購買履歴のある顧客IDを抽出\n",
    "action_customer_ID = transactions[\"customer_id\"].unique()\n",
    "\n",
    "#購買履歴のない顧客IDを抽出\n",
    "non_action_customers_rakus_ID = customers_rakus[~customers_rakus[\"customer_id\"].isin(action_customer_ID)].reset_index(drop=True)"
   ]
  },
  {
   "cell_type": "code",
   "execution_count": null,
   "metadata": {},
   "outputs": [],
   "source": [
    "#同じ商品を10個以上購入している顧客の取り出し\n",
    "unique_users = transactions.groupby([\"customer_id\",\"article_id\"],as_index=False).count().drop([\"price\",\"sales_channel_id\"],axis=1)\n",
    "unique_users.columns=[\"customer_id\",\"article_id\",\"count\"]\n",
    "unique_users = unique_users.sort_values(by='count',ascending=False)\n",
    "\n",
    "#同じ商品を10個以上購入している顧客IDの抽出\n",
    "irregular_action_customers_rakus_ID = customers_rakus[customers_rakus[\"customer_id\"].isin(unique_users[\"customer_id\"][unique_users[\"count\"]>=10])].reset_index(drop=True)"
   ]
  }
 ],
 "metadata": {
  "kernelspec": {
   "display_name": "Python 3 (ipykernel)",
   "language": "python",
   "name": "python3"
  },
  "language_info": {
   "codemirror_mode": {
    "name": "ipython",
    "version": 3
   },
   "file_extension": ".py",
   "mimetype": "text/x-python",
   "name": "python",
   "nbconvert_exporter": "python",
   "pygments_lexer": "ipython3",
   "version": "3.9.7"
  }
 },
 "nbformat": 4,
 "nbformat_minor": 4
}
