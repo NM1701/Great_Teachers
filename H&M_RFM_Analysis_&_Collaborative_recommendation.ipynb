{
 "cells": [
  {
   "cell_type": "markdown",
   "id": "cb5a14ce",
   "metadata": {
    "id": "gGziO4HliSQ7",
    "papermill": {
     "duration": 0.051186,
     "end_time": "2022-05-06T16:48:33.309015",
     "exception": false,
     "start_time": "2022-05-06T16:48:33.257829",
     "status": "completed"
    },
    "tags": []
   },
   "source": [
    "# H&M購買予測コンペ -RFM分析と協調フィルタリング-"
   ]
  },
  {
   "cell_type": "markdown",
   "id": "252e5287-d17a-46cf-90f2-05b32ca7a794",
   "metadata": {},
   "source": [
    "目的：顧客ごとに将来の購入商品を予測する。\n",
    "目標：customer_idからarticle_idを予測し、最大12個出力する。\n",
    "方針：\n",
    "1. 顧客をRFM分析によってグループ分けし、その中から有用なグループを抽出して将来の購買予測に用いる。\n",
    "2. 1.で絞り込んだ購買履歴について、商品ベースの協調フィルタリングを実施。\n",
    "\n",
    "（参考）https://www.kaggle.com/code/luisrodri97/item-based-collaborative-filtering"
   ]
  },
  {
   "cell_type": "code",
   "execution_count": 1,
   "id": "ea440d6c",
   "metadata": {
    "id": "Y9qNgocBiSRS",
    "outputId": "dbfba3d3-2932-48bb-c985-190486aea568",
    "papermill": {
     "duration": 1.426546,
     "end_time": "2022-05-06T16:48:34.879105",
     "exception": false,
     "start_time": "2022-05-06T16:48:33.452559",
     "status": "completed"
    },
    "tags": []
   },
   "outputs": [
    {
     "data": {
      "text/plain": [
       "<Figure size 432x288 with 0 Axes>"
      ]
     },
     "metadata": {},
     "output_type": "display_data"
    }
   ],
   "source": [
    "# インポート\n",
    "import numpy as np \n",
    "import pandas as pd\n",
    "import matplotlib.pyplot as plt\n",
    "import seaborn as sns\n",
    "import matplotlib as mpl\n",
    "\n",
    "plt.style.use('seaborn-white')\n",
    "sns.set_style(\"whitegrid\")\n",
    "sns.despine()\n",
    "plt.rc(\"figure\", autolayout = True)\n",
    "plt.rc(\"axes\", labelweight = \"bold\", labelsize = \"large\", titleweight = \"bold\", titlesize = 14, titlepad = 10)\n",
    "\n",
    "mpl.rcParams['axes.spines.left'] = False\n",
    "mpl.rcParams['axes.spines.right'] = False\n",
    "mpl.rcParams['axes.spines.top'] = False\n",
    "mpl.rcParams['axes.spines.bottom'] = False\n",
    "plt.rcParams[\"font.weight\"] = \"bold\"\n",
    "plt.rcParams[\"axes.labelweight\"] = \"bold\""
   ]
  },
  {
   "cell_type": "code",
   "execution_count": 2,
   "id": "0180299b",
   "metadata": {
    "id": "UdyjcsSBiSRV",
    "papermill": {
     "duration": 121.698749,
     "end_time": "2022-05-06T16:50:36.717271",
     "exception": false,
     "start_time": "2022-05-06T16:48:35.018522",
     "status": "completed"
    },
    "tags": []
   },
   "outputs": [],
   "source": [
    "# ファイル読み込み\n",
    "# transactions =  pd.read_csv(\"../input/i-r-tbl/for_uploading/transactions_rakus_train.csv\",\n",
    "#                            encoding=\"ISO-8859-1\", dtype={'article_id':str}).drop_duplicates()\n",
    "transactions =  pd.read_csv(\"./for_uploading/transactions_rakus_train.csv\",\n",
    "                            encoding = \"ISO-8859-1\", dtype = {'article_id':str})"
   ]
  },
  {
   "cell_type": "code",
   "execution_count": 3,
   "id": "f1fdf84d",
   "metadata": {
    "id": "fthC0ivViSR6",
    "outputId": "75a21c87-c05e-4023-96ec-ff17f4b9fb9b",
    "papermill": {
     "duration": 0.081755,
     "end_time": "2022-05-06T16:50:36.852719",
     "exception": false,
     "start_time": "2022-05-06T16:50:36.770964",
     "status": "completed"
    },
    "tags": []
   },
   "outputs": [
    {
     "data": {
      "text/html": [
       "<div>\n",
       "<style scoped>\n",
       "    .dataframe tbody tr th:only-of-type {\n",
       "        vertical-align: middle;\n",
       "    }\n",
       "\n",
       "    .dataframe tbody tr th {\n",
       "        vertical-align: top;\n",
       "    }\n",
       "\n",
       "    .dataframe thead th {\n",
       "        text-align: right;\n",
       "    }\n",
       "</style>\n",
       "<table border=\"1\" class=\"dataframe\">\n",
       "  <thead>\n",
       "    <tr style=\"text-align: right;\">\n",
       "      <th></th>\n",
       "      <th>t_dat</th>\n",
       "      <th>customer_id</th>\n",
       "      <th>article_id</th>\n",
       "      <th>price</th>\n",
       "      <th>sales_channel_id</th>\n",
       "    </tr>\n",
       "  </thead>\n",
       "  <tbody>\n",
       "    <tr>\n",
       "      <th>0</th>\n",
       "      <td>2018-09-20</td>\n",
       "      <td>000058a12d5b43e67d225668fa1f8d618c13dc232df0ca...</td>\n",
       "      <td>663713001</td>\n",
       "      <td>0.050831</td>\n",
       "      <td>2</td>\n",
       "    </tr>\n",
       "    <tr>\n",
       "      <th>1</th>\n",
       "      <td>2018-09-20</td>\n",
       "      <td>000058a12d5b43e67d225668fa1f8d618c13dc232df0ca...</td>\n",
       "      <td>541518023</td>\n",
       "      <td>0.030492</td>\n",
       "      <td>2</td>\n",
       "    </tr>\n",
       "    <tr>\n",
       "      <th>2</th>\n",
       "      <td>2018-09-20</td>\n",
       "      <td>00007d2de826758b65a93dd24ce629ed66842531df6699...</td>\n",
       "      <td>505221004</td>\n",
       "      <td>0.015237</td>\n",
       "      <td>2</td>\n",
       "    </tr>\n",
       "    <tr>\n",
       "      <th>3</th>\n",
       "      <td>2018-09-20</td>\n",
       "      <td>00007d2de826758b65a93dd24ce629ed66842531df6699...</td>\n",
       "      <td>685687003</td>\n",
       "      <td>0.016932</td>\n",
       "      <td>2</td>\n",
       "    </tr>\n",
       "    <tr>\n",
       "      <th>4</th>\n",
       "      <td>2018-09-20</td>\n",
       "      <td>00007d2de826758b65a93dd24ce629ed66842531df6699...</td>\n",
       "      <td>685687004</td>\n",
       "      <td>0.016932</td>\n",
       "      <td>2</td>\n",
       "    </tr>\n",
       "    <tr>\n",
       "      <th>...</th>\n",
       "      <td>...</td>\n",
       "      <td>...</td>\n",
       "      <td>...</td>\n",
       "      <td>...</td>\n",
       "      <td>...</td>\n",
       "    </tr>\n",
       "    <tr>\n",
       "      <th>31218439</th>\n",
       "      <td>2020-09-06</td>\n",
       "      <td>ffffbbf78b6eaac697a8a5dfbfd2bfa8113ee5b403e474...</td>\n",
       "      <td>720125039</td>\n",
       "      <td>0.033881</td>\n",
       "      <td>1</td>\n",
       "    </tr>\n",
       "    <tr>\n",
       "      <th>31218440</th>\n",
       "      <td>2020-09-06</td>\n",
       "      <td>ffffbbf78b6eaac697a8a5dfbfd2bfa8113ee5b403e474...</td>\n",
       "      <td>740922009</td>\n",
       "      <td>0.025407</td>\n",
       "      <td>1</td>\n",
       "    </tr>\n",
       "    <tr>\n",
       "      <th>31218441</th>\n",
       "      <td>2020-09-06</td>\n",
       "      <td>ffffbbf78b6eaac697a8a5dfbfd2bfa8113ee5b403e474...</td>\n",
       "      <td>791587007</td>\n",
       "      <td>0.025407</td>\n",
       "      <td>1</td>\n",
       "    </tr>\n",
       "    <tr>\n",
       "      <th>31218442</th>\n",
       "      <td>2020-09-06</td>\n",
       "      <td>ffffbbf78b6eaac697a8a5dfbfd2bfa8113ee5b403e474...</td>\n",
       "      <td>804992033</td>\n",
       "      <td>0.025407</td>\n",
       "      <td>1</td>\n",
       "    </tr>\n",
       "    <tr>\n",
       "      <th>31218443</th>\n",
       "      <td>2020-09-06</td>\n",
       "      <td>ffffbbf78b6eaac697a8a5dfbfd2bfa8113ee5b403e474...</td>\n",
       "      <td>557599022</td>\n",
       "      <td>0.016932</td>\n",
       "      <td>1</td>\n",
       "    </tr>\n",
       "  </tbody>\n",
       "</table>\n",
       "<p>31218444 rows × 5 columns</p>\n",
       "</div>"
      ],
      "text/plain": [
       "               t_dat                                        customer_id  \\\n",
       "0         2018-09-20  000058a12d5b43e67d225668fa1f8d618c13dc232df0ca...   \n",
       "1         2018-09-20  000058a12d5b43e67d225668fa1f8d618c13dc232df0ca...   \n",
       "2         2018-09-20  00007d2de826758b65a93dd24ce629ed66842531df6699...   \n",
       "3         2018-09-20  00007d2de826758b65a93dd24ce629ed66842531df6699...   \n",
       "4         2018-09-20  00007d2de826758b65a93dd24ce629ed66842531df6699...   \n",
       "...              ...                                                ...   \n",
       "31218439  2020-09-06  ffffbbf78b6eaac697a8a5dfbfd2bfa8113ee5b403e474...   \n",
       "31218440  2020-09-06  ffffbbf78b6eaac697a8a5dfbfd2bfa8113ee5b403e474...   \n",
       "31218441  2020-09-06  ffffbbf78b6eaac697a8a5dfbfd2bfa8113ee5b403e474...   \n",
       "31218442  2020-09-06  ffffbbf78b6eaac697a8a5dfbfd2bfa8113ee5b403e474...   \n",
       "31218443  2020-09-06  ffffbbf78b6eaac697a8a5dfbfd2bfa8113ee5b403e474...   \n",
       "\n",
       "         article_id     price  sales_channel_id  \n",
       "0         663713001  0.050831                 2  \n",
       "1         541518023  0.030492                 2  \n",
       "2         505221004  0.015237                 2  \n",
       "3         685687003  0.016932                 2  \n",
       "4         685687004  0.016932                 2  \n",
       "...             ...       ...               ...  \n",
       "31218439  720125039  0.033881                 1  \n",
       "31218440  740922009  0.025407                 1  \n",
       "31218441  791587007  0.025407                 1  \n",
       "31218442  804992033  0.025407                 1  \n",
       "31218443  557599022  0.016932                 1  \n",
       "\n",
       "[31218444 rows x 5 columns]"
      ]
     },
     "execution_count": 3,
     "metadata": {},
     "output_type": "execute_result"
    }
   ],
   "source": [
    "transactions"
   ]
  },
  {
   "cell_type": "markdown",
   "id": "52af2352",
   "metadata": {
    "id": "iK6RuC7piSSb",
    "papermill": {
     "duration": 0.050094,
     "end_time": "2022-05-06T16:50:36.949666",
     "exception": false,
     "start_time": "2022-05-06T16:50:36.899572",
     "status": "completed"
    },
    "tags": []
   },
   "source": [
    "# RFM Analysis\n"
   ]
  },
  {
   "cell_type": "code",
   "execution_count": 14,
   "id": "c2829ec9",
   "metadata": {
    "id": "0Mt2lGg6iSSb",
    "papermill": {
     "duration": 0.633677,
     "end_time": "2022-05-06T16:50:37.631898",
     "exception": false,
     "start_time": "2022-05-06T16:50:36.998221",
     "status": "completed"
    },
    "tags": []
   },
   "outputs": [],
   "source": [
    "# インポート\n",
    "import sklearn\n",
    "from sklearn.preprocessing import StandardScaler\n",
    "from sklearn.cluster import KMeans\n",
    "from sklearn.metrics import silhouette_score\n",
    "from scipy.cluster.hierarchy import linkage\n",
    "from scipy.cluster.hierarchy import dendrogram\n",
    "from scipy.cluster.hierarchy import cut_tree\n",
    "import datetime as dt\n",
    "import plotly.express as px"
   ]
  },
  {
   "cell_type": "code",
   "execution_count": 5,
   "id": "ce31e115",
   "metadata": {
    "id": "QQKqhkkJiSSb",
    "papermill": {
     "duration": 41.302333,
     "end_time": "2022-05-06T16:51:18.982741",
     "exception": false,
     "start_time": "2022-05-06T16:50:37.680408",
     "status": "completed"
    },
    "tags": []
   },
   "outputs": [],
   "source": [
    "# 't_dat'列のdatetime64型への変換\n",
    "transactions['t_dat'] = pd.to_datetime(transactions['t_dat'])\n",
    "\n",
    "# 後段の集計で使う列を生成\n",
    "transactions['date'] = pd.to_datetime(transactions['t_dat'],format='%Y-%m-%d')"
   ]
  },
  {
   "cell_type": "code",
   "execution_count": 6,
   "id": "1b7fe2cb",
   "metadata": {
    "id": "aF90clwKiSSb",
    "papermill": {
     "duration": 0.057772,
     "end_time": "2022-05-06T16:51:19.088979",
     "exception": false,
     "start_time": "2022-05-06T16:51:19.031207",
     "status": "completed"
    },
    "tags": []
   },
   "outputs": [
    {
     "data": {
      "text/plain": [
       "(31218444, 6)"
      ]
     },
     "execution_count": 6,
     "metadata": {},
     "output_type": "execute_result"
    }
   ],
   "source": [
    "# データサイズの確認\n",
    "transactions.shape"
   ]
  },
  {
   "cell_type": "code",
   "execution_count": 7,
   "id": "d4298cba",
   "metadata": {
    "id": "EeOT6J7NiSSb",
    "outputId": "aa2d3f51-9d31-4389-fd3b-2324a1dfe7dd",
    "papermill": {
     "duration": 6.583722,
     "end_time": "2022-05-06T16:51:25.721452",
     "exception": false,
     "start_time": "2022-05-06T16:51:19.137730",
     "status": "completed"
    },
    "tags": []
   },
   "outputs": [
    {
     "data": {
      "text/plain": [
       "t_dat               0.0\n",
       "customer_id         0.0\n",
       "article_id          0.0\n",
       "price               0.0\n",
       "sales_channel_id    0.0\n",
       "date                0.0\n",
       "dtype: float64"
      ]
     },
     "execution_count": 7,
     "metadata": {},
     "output_type": "execute_result"
    }
   ],
   "source": [
    "# データ中のnullの割合を確認\n",
    "df_null = round(100 * (transactions.isnull().sum()) / len(transactions), 2)\n",
    "df_null"
   ]
  },
  {
   "cell_type": "code",
   "execution_count": 8,
   "id": "9cef8429",
   "metadata": {
    "papermill": {
     "duration": 2.365354,
     "end_time": "2022-05-06T16:51:35.148826",
     "exception": false,
     "start_time": "2022-05-06T16:51:32.783472",
     "status": "completed"
    },
    "tags": []
   },
   "outputs": [],
   "source": [
    "# 2020-03-01以降のデータのみで分析を行う\n",
    "start_date = dt.datetime(2020, 3, 1)\n",
    "end_date = dt.datetime(2020, 9, 6)\n",
    "transactions = transactions.loc[transactions[\"t_dat\"] >= start_date]"
   ]
  },
  {
   "cell_type": "code",
   "execution_count": 9,
   "id": "1d78b85e",
   "metadata": {
    "id": "AEKQ9VhdiSSd",
    "outputId": "dcfe0e46-e912-4834-f2dd-158486b80d25",
    "papermill": {
     "duration": 95.407347,
     "end_time": "2022-05-06T16:53:10.868698",
     "exception": false,
     "start_time": "2022-05-06T16:51:35.461351",
     "status": "completed"
    },
    "scrolled": true,
    "tags": []
   },
   "outputs": [
    {
     "data": {
      "text/html": [
       "<div>\n",
       "<style scoped>\n",
       "    .dataframe tbody tr th:only-of-type {\n",
       "        vertical-align: middle;\n",
       "    }\n",
       "\n",
       "    .dataframe tbody tr th {\n",
       "        vertical-align: top;\n",
       "    }\n",
       "\n",
       "    .dataframe thead th {\n",
       "        text-align: right;\n",
       "    }\n",
       "</style>\n",
       "<table border=\"1\" class=\"dataframe\">\n",
       "  <thead>\n",
       "    <tr style=\"text-align: right;\">\n",
       "      <th></th>\n",
       "      <th>Recency</th>\n",
       "      <th>Frequency</th>\n",
       "      <th>Monetary</th>\n",
       "    </tr>\n",
       "    <tr>\n",
       "      <th>customer_id</th>\n",
       "      <th></th>\n",
       "      <th></th>\n",
       "      <th></th>\n",
       "    </tr>\n",
       "  </thead>\n",
       "  <tbody>\n",
       "    <tr>\n",
       "      <th>00000dbacae5abe5e23885899a1fa44253a17956c6d1c3d25f88aa139fdfc657</th>\n",
       "      <td>1</td>\n",
       "      <td>6</td>\n",
       "      <td>0.144475</td>\n",
       "    </tr>\n",
       "    <tr>\n",
       "      <th>0000423b00ade91418cceaf3b26c6af3dd342b51fd051eec9c12fb36984420fa</th>\n",
       "      <td>60</td>\n",
       "      <td>16</td>\n",
       "      <td>0.386169</td>\n",
       "    </tr>\n",
       "    <tr>\n",
       "      <th>000058a12d5b43e67d225668fa1f8d618c13dc232df0cad8ffe7ad4a1091e318</th>\n",
       "      <td>141</td>\n",
       "      <td>10</td>\n",
       "      <td>0.428644</td>\n",
       "    </tr>\n",
       "    <tr>\n",
       "      <th>00006413d8573cd20ed7128e53b7b13819fe5cfc2d801fe7fc0f26dd8d65a85a</th>\n",
       "      <td>25</td>\n",
       "      <td>7</td>\n",
       "      <td>0.255814</td>\n",
       "    </tr>\n",
       "    <tr>\n",
       "      <th>00007d2de826758b65a93dd24ce629ed66842531df6699338c5570910a014cc2</th>\n",
       "      <td>116</td>\n",
       "      <td>10</td>\n",
       "      <td>0.174746</td>\n",
       "    </tr>\n",
       "  </tbody>\n",
       "</table>\n",
       "</div>"
      ],
      "text/plain": [
       "                                                    Recency  Frequency  \\\n",
       "customer_id                                                              \n",
       "00000dbacae5abe5e23885899a1fa44253a17956c6d1c3d...        1          6   \n",
       "0000423b00ade91418cceaf3b26c6af3dd342b51fd051ee...       60         16   \n",
       "000058a12d5b43e67d225668fa1f8d618c13dc232df0cad...      141         10   \n",
       "00006413d8573cd20ed7128e53b7b13819fe5cfc2d801fe...       25          7   \n",
       "00007d2de826758b65a93dd24ce629ed66842531df66993...      116         10   \n",
       "\n",
       "                                                    Monetary  \n",
       "customer_id                                                   \n",
       "00000dbacae5abe5e23885899a1fa44253a17956c6d1c3d...  0.144475  \n",
       "0000423b00ade91418cceaf3b26c6af3dd342b51fd051ee...  0.386169  \n",
       "000058a12d5b43e67d225668fa1f8d618c13dc232df0cad...  0.428644  \n",
       "00006413d8573cd20ed7128e53b7b13819fe5cfc2d801fe...  0.255814  \n",
       "00007d2de826758b65a93dd24ce629ed66842531df66993...  0.174746  "
      ]
     },
     "execution_count": 9,
     "metadata": {},
     "output_type": "execute_result"
    }
   ],
   "source": [
    "# 顧客ごとに最近購入した日の近さ(Recency), 購入回数(Frequency), 購入合計額(Monetary)を集計\n",
    "rfm = transactions.groupby('customer_id').agg({\n",
    "    't_dat': lambda x: (end_date - x.max()).days,\n",
    "    'date': 'count',\n",
    "    'price': 'sum'})\n",
    "rfm.columns = [\"Recency\",\"Frequency\",\"Monetary\"]\n",
    "\n",
    "# 購入額が0のcustomerは省く\n",
    "rfm = rfm[rfm[\"Monetary\"] > 0]\n",
    "\n",
    "rfm.head()"
   ]
  },
  {
   "cell_type": "code",
   "execution_count": 10,
   "id": "0d885b4d",
   "metadata": {
    "id": "pnRGfaemiSSe",
    "outputId": "aa7c0df6-73e0-4cb7-bdaa-6019298e1c3f",
    "papermill": {
     "duration": 0.473533,
     "end_time": "2022-05-06T16:53:11.512638",
     "exception": false,
     "start_time": "2022-05-06T16:53:11.039105",
     "status": "completed"
    },
    "tags": []
   },
   "outputs": [
    {
     "data": {
      "text/html": [
       "<div>\n",
       "<style scoped>\n",
       "    .dataframe tbody tr th:only-of-type {\n",
       "        vertical-align: middle;\n",
       "    }\n",
       "\n",
       "    .dataframe tbody tr th {\n",
       "        vertical-align: top;\n",
       "    }\n",
       "\n",
       "    .dataframe thead th {\n",
       "        text-align: right;\n",
       "    }\n",
       "</style>\n",
       "<table border=\"1\" class=\"dataframe\">\n",
       "  <thead>\n",
       "    <tr style=\"text-align: right;\">\n",
       "      <th></th>\n",
       "      <th>Recency</th>\n",
       "      <th>Frequency</th>\n",
       "      <th>Monetary</th>\n",
       "      <th>recency_score</th>\n",
       "      <th>frequency_score</th>\n",
       "      <th>monetary_score</th>\n",
       "      <th>RF_score</th>\n",
       "    </tr>\n",
       "    <tr>\n",
       "      <th>customer_id</th>\n",
       "      <th></th>\n",
       "      <th></th>\n",
       "      <th></th>\n",
       "      <th></th>\n",
       "      <th></th>\n",
       "      <th></th>\n",
       "      <th></th>\n",
       "    </tr>\n",
       "  </thead>\n",
       "  <tbody>\n",
       "    <tr>\n",
       "      <th>00000dbacae5abe5e23885899a1fa44253a17956c6d1c3d25f88aa139fdfc657</th>\n",
       "      <td>1</td>\n",
       "      <td>6</td>\n",
       "      <td>0.144475</td>\n",
       "      <td>5</td>\n",
       "      <td>3</td>\n",
       "      <td>3</td>\n",
       "      <td>53</td>\n",
       "    </tr>\n",
       "    <tr>\n",
       "      <th>0000423b00ade91418cceaf3b26c6af3dd342b51fd051eec9c12fb36984420fa</th>\n",
       "      <td>60</td>\n",
       "      <td>16</td>\n",
       "      <td>0.386169</td>\n",
       "      <td>3</td>\n",
       "      <td>4</td>\n",
       "      <td>4</td>\n",
       "      <td>34</td>\n",
       "    </tr>\n",
       "    <tr>\n",
       "      <th>000058a12d5b43e67d225668fa1f8d618c13dc232df0cad8ffe7ad4a1091e318</th>\n",
       "      <td>141</td>\n",
       "      <td>10</td>\n",
       "      <td>0.428644</td>\n",
       "      <td>1</td>\n",
       "      <td>4</td>\n",
       "      <td>5</td>\n",
       "      <td>14</td>\n",
       "    </tr>\n",
       "    <tr>\n",
       "      <th>00006413d8573cd20ed7128e53b7b13819fe5cfc2d801fe7fc0f26dd8d65a85a</th>\n",
       "      <td>25</td>\n",
       "      <td>7</td>\n",
       "      <td>0.255814</td>\n",
       "      <td>4</td>\n",
       "      <td>3</td>\n",
       "      <td>4</td>\n",
       "      <td>43</td>\n",
       "    </tr>\n",
       "    <tr>\n",
       "      <th>00007d2de826758b65a93dd24ce629ed66842531df6699338c5570910a014cc2</th>\n",
       "      <td>116</td>\n",
       "      <td>10</td>\n",
       "      <td>0.174746</td>\n",
       "      <td>1</td>\n",
       "      <td>4</td>\n",
       "      <td>3</td>\n",
       "      <td>14</td>\n",
       "    </tr>\n",
       "  </tbody>\n",
       "</table>\n",
       "</div>"
      ],
      "text/plain": [
       "                                                    Recency  Frequency  \\\n",
       "customer_id                                                              \n",
       "00000dbacae5abe5e23885899a1fa44253a17956c6d1c3d...        1          6   \n",
       "0000423b00ade91418cceaf3b26c6af3dd342b51fd051ee...       60         16   \n",
       "000058a12d5b43e67d225668fa1f8d618c13dc232df0cad...      141         10   \n",
       "00006413d8573cd20ed7128e53b7b13819fe5cfc2d801fe...       25          7   \n",
       "00007d2de826758b65a93dd24ce629ed66842531df66993...      116         10   \n",
       "\n",
       "                                                    Monetary recency_score  \\\n",
       "customer_id                                                                  \n",
       "00000dbacae5abe5e23885899a1fa44253a17956c6d1c3d...  0.144475             5   \n",
       "0000423b00ade91418cceaf3b26c6af3dd342b51fd051ee...  0.386169             3   \n",
       "000058a12d5b43e67d225668fa1f8d618c13dc232df0cad...  0.428644             1   \n",
       "00006413d8573cd20ed7128e53b7b13819fe5cfc2d801fe...  0.255814             4   \n",
       "00007d2de826758b65a93dd24ce629ed66842531df66993...  0.174746             1   \n",
       "\n",
       "                                                   frequency_score  \\\n",
       "customer_id                                                          \n",
       "00000dbacae5abe5e23885899a1fa44253a17956c6d1c3d...               3   \n",
       "0000423b00ade91418cceaf3b26c6af3dd342b51fd051ee...               4   \n",
       "000058a12d5b43e67d225668fa1f8d618c13dc232df0cad...               4   \n",
       "00006413d8573cd20ed7128e53b7b13819fe5cfc2d801fe...               3   \n",
       "00007d2de826758b65a93dd24ce629ed66842531df66993...               4   \n",
       "\n",
       "                                                   monetary_score RF_score  \n",
       "customer_id                                                                 \n",
       "00000dbacae5abe5e23885899a1fa44253a17956c6d1c3d...              3       53  \n",
       "0000423b00ade91418cceaf3b26c6af3dd342b51fd051ee...              4       34  \n",
       "000058a12d5b43e67d225668fa1f8d618c13dc232df0cad...              5       14  \n",
       "00006413d8573cd20ed7128e53b7b13819fe5cfc2d801fe...              4       43  \n",
       "00007d2de826758b65a93dd24ce629ed66842531df66993...              3       14  "
      ]
     },
     "execution_count": 10,
     "metadata": {},
     "output_type": "execute_result"
    }
   ],
   "source": [
    "# 最後の購買日付が新しい順に5段階でクラス分け（5が新しく、1が古くなるように）\n",
    "rfm[\"recency_score\"] = pd.qcut(rfm['Recency'], 5, labels = [5, 4, 3, 2, 1])\n",
    "# 購入回数の多い順に5段階でクラス分け（5が最も多く、1が最も少なくなるように）\n",
    "rfm[\"frequency_score\"] = pd.qcut(rfm[\"Frequency\"].rank(method = \"first\"), 5, labels = [1, 2, 3, 4, 5])\n",
    "# 購入額の多い順に5段階でクラス分け（5が最も多く、1が最も少なくなるように）\n",
    "rfm[\"monetary_score\"] = pd.qcut(rfm[\"Monetary\"], 5, labels = [1, 2, 3, 4, 5])\n",
    "# recency_score & frequency_scoreで\"RF_score\"とする\n",
    "rfm[\"RF_score\"] = (rfm[\"recency_score\"].astype(str) + rfm[\"frequency_score\"].astype(str))\n",
    "\n",
    "rfm.head()"
   ]
  },
  {
   "cell_type": "code",
   "execution_count": 12,
   "id": "304342b9",
   "metadata": {
    "id": "Ro2LwGlxiSSe",
    "outputId": "49c3de02-fd99-4ac3-c035-02722e7db4d1",
    "papermill": {
     "duration": 15.880355,
     "end_time": "2022-05-06T16:53:28.141457",
     "exception": false,
     "start_time": "2022-05-06T16:53:12.261102",
     "status": "completed"
    },
    "tags": []
   },
   "outputs": [
    {
     "data": {
      "text/html": [
       "<div>\n",
       "<style scoped>\n",
       "    .dataframe tbody tr th:only-of-type {\n",
       "        vertical-align: middle;\n",
       "    }\n",
       "\n",
       "    .dataframe tbody tr th {\n",
       "        vertical-align: top;\n",
       "    }\n",
       "\n",
       "    .dataframe thead tr th {\n",
       "        text-align: left;\n",
       "    }\n",
       "\n",
       "    .dataframe thead tr:last-of-type th {\n",
       "        text-align: right;\n",
       "    }\n",
       "</style>\n",
       "<table border=\"1\" class=\"dataframe\">\n",
       "  <thead>\n",
       "    <tr>\n",
       "      <th></th>\n",
       "      <th colspan=\"3\" halign=\"left\">Recency</th>\n",
       "      <th colspan=\"3\" halign=\"left\">Frequency</th>\n",
       "      <th colspan=\"3\" halign=\"left\">Monetary</th>\n",
       "    </tr>\n",
       "    <tr>\n",
       "      <th></th>\n",
       "      <th>mean</th>\n",
       "      <th>count</th>\n",
       "      <th>max</th>\n",
       "      <th>mean</th>\n",
       "      <th>count</th>\n",
       "      <th>max</th>\n",
       "      <th>mean</th>\n",
       "      <th>count</th>\n",
       "      <th>max</th>\n",
       "    </tr>\n",
       "    <tr>\n",
       "      <th>segment</th>\n",
       "      <th></th>\n",
       "      <th></th>\n",
       "      <th></th>\n",
       "      <th></th>\n",
       "      <th></th>\n",
       "      <th></th>\n",
       "      <th></th>\n",
       "      <th></th>\n",
       "      <th></th>\n",
       "    </tr>\n",
       "  </thead>\n",
       "  <tbody>\n",
       "    <tr>\n",
       "      <th>about_to_sleep</th>\n",
       "      <td>55.0</td>\n",
       "      <td>55862</td>\n",
       "      <td>70</td>\n",
       "      <td>3.0</td>\n",
       "      <td>55862</td>\n",
       "      <td>5</td>\n",
       "      <td>0.0</td>\n",
       "      <td>55862</td>\n",
       "      <td>1.0</td>\n",
       "    </tr>\n",
       "    <tr>\n",
       "      <th>at_Risk</th>\n",
       "      <td>112.0</td>\n",
       "      <td>108819</td>\n",
       "      <td>189</td>\n",
       "      <td>8.0</td>\n",
       "      <td>108819</td>\n",
       "      <td>16</td>\n",
       "      <td>0.0</td>\n",
       "      <td>108819</td>\n",
       "      <td>1.0</td>\n",
       "    </tr>\n",
       "    <tr>\n",
       "      <th>cant_loose</th>\n",
       "      <td>101.0</td>\n",
       "      <td>20954</td>\n",
       "      <td>189</td>\n",
       "      <td>25.0</td>\n",
       "      <td>20954</td>\n",
       "      <td>192</td>\n",
       "      <td>1.0</td>\n",
       "      <td>20954</td>\n",
       "      <td>7.0</td>\n",
       "    </tr>\n",
       "    <tr>\n",
       "      <th>champions</th>\n",
       "      <td>7.0</td>\n",
       "      <td>97010</td>\n",
       "      <td>15</td>\n",
       "      <td>28.0</td>\n",
       "      <td>97010</td>\n",
       "      <td>629</td>\n",
       "      <td>1.0</td>\n",
       "      <td>97010</td>\n",
       "      <td>26.0</td>\n",
       "    </tr>\n",
       "    <tr>\n",
       "      <th>hibernating</th>\n",
       "      <td>125.0</td>\n",
       "      <td>170728</td>\n",
       "      <td>189</td>\n",
       "      <td>2.0</td>\n",
       "      <td>170728</td>\n",
       "      <td>5</td>\n",
       "      <td>0.0</td>\n",
       "      <td>170728</td>\n",
       "      <td>1.0</td>\n",
       "    </tr>\n",
       "    <tr>\n",
       "      <th>loyal_customers</th>\n",
       "      <td>38.0</td>\n",
       "      <td>138404</td>\n",
       "      <td>70</td>\n",
       "      <td>21.0</td>\n",
       "      <td>138404</td>\n",
       "      <td>524</td>\n",
       "      <td>1.0</td>\n",
       "      <td>138404</td>\n",
       "      <td>14.0</td>\n",
       "    </tr>\n",
       "    <tr>\n",
       "      <th>need_attention</th>\n",
       "      <td>54.0</td>\n",
       "      <td>33327</td>\n",
       "      <td>70</td>\n",
       "      <td>6.0</td>\n",
       "      <td>33327</td>\n",
       "      <td>9</td>\n",
       "      <td>0.0</td>\n",
       "      <td>33327</td>\n",
       "      <td>1.0</td>\n",
       "    </tr>\n",
       "    <tr>\n",
       "      <th>new_customers</th>\n",
       "      <td>7.0</td>\n",
       "      <td>15361</td>\n",
       "      <td>15</td>\n",
       "      <td>2.0</td>\n",
       "      <td>15361</td>\n",
       "      <td>2</td>\n",
       "      <td>0.0</td>\n",
       "      <td>15361</td>\n",
       "      <td>1.0</td>\n",
       "    </tr>\n",
       "    <tr>\n",
       "      <th>potential_loyalists</th>\n",
       "      <td>18.0</td>\n",
       "      <td>93847</td>\n",
       "      <td>38</td>\n",
       "      <td>5.0</td>\n",
       "      <td>93847</td>\n",
       "      <td>9</td>\n",
       "      <td>0.0</td>\n",
       "      <td>93847</td>\n",
       "      <td>1.0</td>\n",
       "    </tr>\n",
       "    <tr>\n",
       "      <th>promising</th>\n",
       "      <td>27.0</td>\n",
       "      <td>18220</td>\n",
       "      <td>38</td>\n",
       "      <td>2.0</td>\n",
       "      <td>18220</td>\n",
       "      <td>2</td>\n",
       "      <td>0.0</td>\n",
       "      <td>18220</td>\n",
       "      <td>1.0</td>\n",
       "    </tr>\n",
       "  </tbody>\n",
       "</table>\n",
       "</div>"
      ],
      "text/plain": [
       "                    Recency              Frequency              Monetary  \\\n",
       "                       mean   count  max      mean   count  max     mean   \n",
       "segment                                                                    \n",
       "about_to_sleep         55.0   55862   70       3.0   55862    5      0.0   \n",
       "at_Risk               112.0  108819  189       8.0  108819   16      0.0   \n",
       "cant_loose            101.0   20954  189      25.0   20954  192      1.0   \n",
       "champions               7.0   97010   15      28.0   97010  629      1.0   \n",
       "hibernating           125.0  170728  189       2.0  170728    5      0.0   \n",
       "loyal_customers        38.0  138404   70      21.0  138404  524      1.0   \n",
       "need_attention         54.0   33327   70       6.0   33327    9      0.0   \n",
       "new_customers           7.0   15361   15       2.0   15361    2      0.0   \n",
       "potential_loyalists    18.0   93847   38       5.0   93847    9      0.0   \n",
       "promising              27.0   18220   38       2.0   18220    2      0.0   \n",
       "\n",
       "                                   \n",
       "                      count   max  \n",
       "segment                            \n",
       "about_to_sleep        55862   1.0  \n",
       "at_Risk              108819   1.0  \n",
       "cant_loose            20954   7.0  \n",
       "champions             97010  26.0  \n",
       "hibernating          170728   1.0  \n",
       "loyal_customers      138404  14.0  \n",
       "need_attention        33327   1.0  \n",
       "new_customers         15361   1.0  \n",
       "potential_loyalists   93847   1.0  \n",
       "promising             18220   1.0  "
      ]
     },
     "execution_count": 12,
     "metadata": {},
     "output_type": "execute_result"
    }
   ],
   "source": [
    "# RF_scoreの値ごとに'segment'に分ける\n",
    "seg_map = {\n",
    "    r'[1-2][1-2]': 'hibernating',\n",
    "    r'[1-2][3-4]': 'at_Risk',\n",
    "    r'[1-2]5': 'cant_loose',\n",
    "    r'3[1-2]': 'about_to_sleep',\n",
    "    r'33': 'need_attention',\n",
    "    r'[3-4][4-5]': 'loyal_customers',\n",
    "    r'41': 'promising',\n",
    "    r'51': 'new_customers',\n",
    "    r'[4-5][2-3]': 'potential_loyalists',\n",
    "    r'5[4-5]': 'champions'\n",
    "}\n",
    "rfm['segment'] = rfm['RF_score'].replace(seg_map, regex = True)\n",
    "\n",
    "# 'segment'ごとのRecency, Frequency, Monetaryの平均値、要素数、最大値を集計\n",
    "rfm[[\"segment\", \"Recency\", \"Frequency\", \"Monetary\"]].groupby(\"segment\").agg([\"mean\", \"count\", \"max\"]).round()"
   ]
  },
  {
   "cell_type": "code",
   "execution_count": 17,
   "id": "38c88e65",
   "metadata": {
    "id": "PxWJfAXYiSSe",
    "outputId": "a401b730-69e5-4111-92df-ce217d745761",
    "papermill": {
     "duration": 1.598178,
     "end_time": "2022-05-06T16:53:31.996757",
     "exception": false,
     "start_time": "2022-05-06T16:53:30.398579",
     "status": "completed"
    },
    "tags": []
   },
   "outputs": [
    {
     "data": {
      "application/vnd.plotly.v1+json": {
       "config": {
        "plotlyServerURL": "https://plot.ly"
       },
       "data": [
        {
         "branchvalues": "total",
         "domain": {
          "x": [
           0,
           1
          ],
          "y": [
           0,
           1
          ]
         },
         "hovertemplate": "labels=%{label}<br>value=%{value}<br>parent=%{parent}<br>id=%{id}<extra></extra>",
         "ids": [
          "about_to_sleep",
          "at_Risk",
          "cant_loose",
          "champions",
          "hibernating",
          "loyal_customers",
          "need_attention",
          "new_customers",
          "potential_loyalists",
          "promising"
         ],
         "labels": [
          "about_to_sleep",
          "at_Risk",
          "cant_loose",
          "champions",
          "hibernating",
          "loyal_customers",
          "need_attention",
          "new_customers",
          "potential_loyalists",
          "promising"
         ],
         "name": "",
         "parents": [
          "",
          "",
          "",
          "",
          "",
          "",
          "",
          "",
          "",
          ""
         ],
         "textinfo": "label+value+percent root",
         "type": "treemap",
         "values": [
          55862,
          108819,
          20954,
          97010,
          170728,
          138404,
          33327,
          15361,
          93847,
          18220
         ]
        }
       ],
       "layout": {
        "legend": {
         "tracegroupgap": 0
        },
        "margin": {
         "t": 60
        },
        "template": {
         "data": {
          "bar": [
           {
            "error_x": {
             "color": "#2a3f5f"
            },
            "error_y": {
             "color": "#2a3f5f"
            },
            "marker": {
             "line": {
              "color": "#E5ECF6",
              "width": 0.5
             },
             "pattern": {
              "fillmode": "overlay",
              "size": 10,
              "solidity": 0.2
             }
            },
            "type": "bar"
           }
          ],
          "barpolar": [
           {
            "marker": {
             "line": {
              "color": "#E5ECF6",
              "width": 0.5
             },
             "pattern": {
              "fillmode": "overlay",
              "size": 10,
              "solidity": 0.2
             }
            },
            "type": "barpolar"
           }
          ],
          "carpet": [
           {
            "aaxis": {
             "endlinecolor": "#2a3f5f",
             "gridcolor": "white",
             "linecolor": "white",
             "minorgridcolor": "white",
             "startlinecolor": "#2a3f5f"
            },
            "baxis": {
             "endlinecolor": "#2a3f5f",
             "gridcolor": "white",
             "linecolor": "white",
             "minorgridcolor": "white",
             "startlinecolor": "#2a3f5f"
            },
            "type": "carpet"
           }
          ],
          "choropleth": [
           {
            "colorbar": {
             "outlinewidth": 0,
             "ticks": ""
            },
            "type": "choropleth"
           }
          ],
          "contour": [
           {
            "colorbar": {
             "outlinewidth": 0,
             "ticks": ""
            },
            "colorscale": [
             [
              0,
              "#0d0887"
             ],
             [
              0.1111111111111111,
              "#46039f"
             ],
             [
              0.2222222222222222,
              "#7201a8"
             ],
             [
              0.3333333333333333,
              "#9c179e"
             ],
             [
              0.4444444444444444,
              "#bd3786"
             ],
             [
              0.5555555555555556,
              "#d8576b"
             ],
             [
              0.6666666666666666,
              "#ed7953"
             ],
             [
              0.7777777777777778,
              "#fb9f3a"
             ],
             [
              0.8888888888888888,
              "#fdca26"
             ],
             [
              1,
              "#f0f921"
             ]
            ],
            "type": "contour"
           }
          ],
          "contourcarpet": [
           {
            "colorbar": {
             "outlinewidth": 0,
             "ticks": ""
            },
            "type": "contourcarpet"
           }
          ],
          "heatmap": [
           {
            "colorbar": {
             "outlinewidth": 0,
             "ticks": ""
            },
            "colorscale": [
             [
              0,
              "#0d0887"
             ],
             [
              0.1111111111111111,
              "#46039f"
             ],
             [
              0.2222222222222222,
              "#7201a8"
             ],
             [
              0.3333333333333333,
              "#9c179e"
             ],
             [
              0.4444444444444444,
              "#bd3786"
             ],
             [
              0.5555555555555556,
              "#d8576b"
             ],
             [
              0.6666666666666666,
              "#ed7953"
             ],
             [
              0.7777777777777778,
              "#fb9f3a"
             ],
             [
              0.8888888888888888,
              "#fdca26"
             ],
             [
              1,
              "#f0f921"
             ]
            ],
            "type": "heatmap"
           }
          ],
          "heatmapgl": [
           {
            "colorbar": {
             "outlinewidth": 0,
             "ticks": ""
            },
            "colorscale": [
             [
              0,
              "#0d0887"
             ],
             [
              0.1111111111111111,
              "#46039f"
             ],
             [
              0.2222222222222222,
              "#7201a8"
             ],
             [
              0.3333333333333333,
              "#9c179e"
             ],
             [
              0.4444444444444444,
              "#bd3786"
             ],
             [
              0.5555555555555556,
              "#d8576b"
             ],
             [
              0.6666666666666666,
              "#ed7953"
             ],
             [
              0.7777777777777778,
              "#fb9f3a"
             ],
             [
              0.8888888888888888,
              "#fdca26"
             ],
             [
              1,
              "#f0f921"
             ]
            ],
            "type": "heatmapgl"
           }
          ],
          "histogram": [
           {
            "marker": {
             "pattern": {
              "fillmode": "overlay",
              "size": 10,
              "solidity": 0.2
             }
            },
            "type": "histogram"
           }
          ],
          "histogram2d": [
           {
            "colorbar": {
             "outlinewidth": 0,
             "ticks": ""
            },
            "colorscale": [
             [
              0,
              "#0d0887"
             ],
             [
              0.1111111111111111,
              "#46039f"
             ],
             [
              0.2222222222222222,
              "#7201a8"
             ],
             [
              0.3333333333333333,
              "#9c179e"
             ],
             [
              0.4444444444444444,
              "#bd3786"
             ],
             [
              0.5555555555555556,
              "#d8576b"
             ],
             [
              0.6666666666666666,
              "#ed7953"
             ],
             [
              0.7777777777777778,
              "#fb9f3a"
             ],
             [
              0.8888888888888888,
              "#fdca26"
             ],
             [
              1,
              "#f0f921"
             ]
            ],
            "type": "histogram2d"
           }
          ],
          "histogram2dcontour": [
           {
            "colorbar": {
             "outlinewidth": 0,
             "ticks": ""
            },
            "colorscale": [
             [
              0,
              "#0d0887"
             ],
             [
              0.1111111111111111,
              "#46039f"
             ],
             [
              0.2222222222222222,
              "#7201a8"
             ],
             [
              0.3333333333333333,
              "#9c179e"
             ],
             [
              0.4444444444444444,
              "#bd3786"
             ],
             [
              0.5555555555555556,
              "#d8576b"
             ],
             [
              0.6666666666666666,
              "#ed7953"
             ],
             [
              0.7777777777777778,
              "#fb9f3a"
             ],
             [
              0.8888888888888888,
              "#fdca26"
             ],
             [
              1,
              "#f0f921"
             ]
            ],
            "type": "histogram2dcontour"
           }
          ],
          "mesh3d": [
           {
            "colorbar": {
             "outlinewidth": 0,
             "ticks": ""
            },
            "type": "mesh3d"
           }
          ],
          "parcoords": [
           {
            "line": {
             "colorbar": {
              "outlinewidth": 0,
              "ticks": ""
             }
            },
            "type": "parcoords"
           }
          ],
          "pie": [
           {
            "automargin": true,
            "type": "pie"
           }
          ],
          "scatter": [
           {
            "fillpattern": {
             "fillmode": "overlay",
             "size": 10,
             "solidity": 0.2
            },
            "type": "scatter"
           }
          ],
          "scatter3d": [
           {
            "line": {
             "colorbar": {
              "outlinewidth": 0,
              "ticks": ""
             }
            },
            "marker": {
             "colorbar": {
              "outlinewidth": 0,
              "ticks": ""
             }
            },
            "type": "scatter3d"
           }
          ],
          "scattercarpet": [
           {
            "marker": {
             "colorbar": {
              "outlinewidth": 0,
              "ticks": ""
             }
            },
            "type": "scattercarpet"
           }
          ],
          "scattergeo": [
           {
            "marker": {
             "colorbar": {
              "outlinewidth": 0,
              "ticks": ""
             }
            },
            "type": "scattergeo"
           }
          ],
          "scattergl": [
           {
            "marker": {
             "colorbar": {
              "outlinewidth": 0,
              "ticks": ""
             }
            },
            "type": "scattergl"
           }
          ],
          "scattermapbox": [
           {
            "marker": {
             "colorbar": {
              "outlinewidth": 0,
              "ticks": ""
             }
            },
            "type": "scattermapbox"
           }
          ],
          "scatterpolar": [
           {
            "marker": {
             "colorbar": {
              "outlinewidth": 0,
              "ticks": ""
             }
            },
            "type": "scatterpolar"
           }
          ],
          "scatterpolargl": [
           {
            "marker": {
             "colorbar": {
              "outlinewidth": 0,
              "ticks": ""
             }
            },
            "type": "scatterpolargl"
           }
          ],
          "scatterternary": [
           {
            "marker": {
             "colorbar": {
              "outlinewidth": 0,
              "ticks": ""
             }
            },
            "type": "scatterternary"
           }
          ],
          "surface": [
           {
            "colorbar": {
             "outlinewidth": 0,
             "ticks": ""
            },
            "colorscale": [
             [
              0,
              "#0d0887"
             ],
             [
              0.1111111111111111,
              "#46039f"
             ],
             [
              0.2222222222222222,
              "#7201a8"
             ],
             [
              0.3333333333333333,
              "#9c179e"
             ],
             [
              0.4444444444444444,
              "#bd3786"
             ],
             [
              0.5555555555555556,
              "#d8576b"
             ],
             [
              0.6666666666666666,
              "#ed7953"
             ],
             [
              0.7777777777777778,
              "#fb9f3a"
             ],
             [
              0.8888888888888888,
              "#fdca26"
             ],
             [
              1,
              "#f0f921"
             ]
            ],
            "type": "surface"
           }
          ],
          "table": [
           {
            "cells": {
             "fill": {
              "color": "#EBF0F8"
             },
             "line": {
              "color": "white"
             }
            },
            "header": {
             "fill": {
              "color": "#C8D4E3"
             },
             "line": {
              "color": "white"
             }
            },
            "type": "table"
           }
          ]
         },
         "layout": {
          "annotationdefaults": {
           "arrowcolor": "#2a3f5f",
           "arrowhead": 0,
           "arrowwidth": 1
          },
          "autotypenumbers": "strict",
          "coloraxis": {
           "colorbar": {
            "outlinewidth": 0,
            "ticks": ""
           }
          },
          "colorscale": {
           "diverging": [
            [
             0,
             "#8e0152"
            ],
            [
             0.1,
             "#c51b7d"
            ],
            [
             0.2,
             "#de77ae"
            ],
            [
             0.3,
             "#f1b6da"
            ],
            [
             0.4,
             "#fde0ef"
            ],
            [
             0.5,
             "#f7f7f7"
            ],
            [
             0.6,
             "#e6f5d0"
            ],
            [
             0.7,
             "#b8e186"
            ],
            [
             0.8,
             "#7fbc41"
            ],
            [
             0.9,
             "#4d9221"
            ],
            [
             1,
             "#276419"
            ]
           ],
           "sequential": [
            [
             0,
             "#0d0887"
            ],
            [
             0.1111111111111111,
             "#46039f"
            ],
            [
             0.2222222222222222,
             "#7201a8"
            ],
            [
             0.3333333333333333,
             "#9c179e"
            ],
            [
             0.4444444444444444,
             "#bd3786"
            ],
            [
             0.5555555555555556,
             "#d8576b"
            ],
            [
             0.6666666666666666,
             "#ed7953"
            ],
            [
             0.7777777777777778,
             "#fb9f3a"
            ],
            [
             0.8888888888888888,
             "#fdca26"
            ],
            [
             1,
             "#f0f921"
            ]
           ],
           "sequentialminus": [
            [
             0,
             "#0d0887"
            ],
            [
             0.1111111111111111,
             "#46039f"
            ],
            [
             0.2222222222222222,
             "#7201a8"
            ],
            [
             0.3333333333333333,
             "#9c179e"
            ],
            [
             0.4444444444444444,
             "#bd3786"
            ],
            [
             0.5555555555555556,
             "#d8576b"
            ],
            [
             0.6666666666666666,
             "#ed7953"
            ],
            [
             0.7777777777777778,
             "#fb9f3a"
            ],
            [
             0.8888888888888888,
             "#fdca26"
            ],
            [
             1,
             "#f0f921"
            ]
           ]
          },
          "colorway": [
           "#636efa",
           "#EF553B",
           "#00cc96",
           "#ab63fa",
           "#FFA15A",
           "#19d3f3",
           "#FF6692",
           "#B6E880",
           "#FF97FF",
           "#FECB52"
          ],
          "font": {
           "color": "#2a3f5f"
          },
          "geo": {
           "bgcolor": "white",
           "lakecolor": "white",
           "landcolor": "#E5ECF6",
           "showlakes": true,
           "showland": true,
           "subunitcolor": "white"
          },
          "hoverlabel": {
           "align": "left"
          },
          "hovermode": "closest",
          "mapbox": {
           "style": "light"
          },
          "paper_bgcolor": "white",
          "plot_bgcolor": "#E5ECF6",
          "polar": {
           "angularaxis": {
            "gridcolor": "white",
            "linecolor": "white",
            "ticks": ""
           },
           "bgcolor": "#E5ECF6",
           "radialaxis": {
            "gridcolor": "white",
            "linecolor": "white",
            "ticks": ""
           }
          },
          "scene": {
           "xaxis": {
            "backgroundcolor": "#E5ECF6",
            "gridcolor": "white",
            "gridwidth": 2,
            "linecolor": "white",
            "showbackground": true,
            "ticks": "",
            "zerolinecolor": "white"
           },
           "yaxis": {
            "backgroundcolor": "#E5ECF6",
            "gridcolor": "white",
            "gridwidth": 2,
            "linecolor": "white",
            "showbackground": true,
            "ticks": "",
            "zerolinecolor": "white"
           },
           "zaxis": {
            "backgroundcolor": "#E5ECF6",
            "gridcolor": "white",
            "gridwidth": 2,
            "linecolor": "white",
            "showbackground": true,
            "ticks": "",
            "zerolinecolor": "white"
           }
          },
          "shapedefaults": {
           "line": {
            "color": "#2a3f5f"
           }
          },
          "ternary": {
           "aaxis": {
            "gridcolor": "white",
            "linecolor": "white",
            "ticks": ""
           },
           "baxis": {
            "gridcolor": "white",
            "linecolor": "white",
            "ticks": ""
           },
           "bgcolor": "#E5ECF6",
           "caxis": {
            "gridcolor": "white",
            "linecolor": "white",
            "ticks": ""
           }
          },
          "title": {
           "x": 0.05
          },
          "xaxis": {
           "automargin": true,
           "gridcolor": "white",
           "linecolor": "white",
           "ticks": "",
           "title": {
            "standoff": 15
           },
           "zerolinecolor": "white",
           "zerolinewidth": 2
          },
          "yaxis": {
           "automargin": true,
           "gridcolor": "white",
           "linecolor": "white",
           "ticks": "",
           "title": {
            "standoff": 15
           },
           "zerolinecolor": "white",
           "zerolinewidth": 2
          }
         }
        },
        "title": {
         "font": {
          "size": 20
         },
         "text": "Distribution of the RFM Segments",
         "x": 0.5
        }
       }
      },
      "text/html": [
       "<div>                            <div id=\"f38d78e9-8c5d-4614-ac48-7cf915f60204\" class=\"plotly-graph-div\" style=\"height:525px; width:100%;\"></div>            <script type=\"text/javascript\">                require([\"plotly\"], function(Plotly) {                    window.PLOTLYENV=window.PLOTLYENV || {};                                    if (document.getElementById(\"f38d78e9-8c5d-4614-ac48-7cf915f60204\")) {                    Plotly.newPlot(                        \"f38d78e9-8c5d-4614-ac48-7cf915f60204\",                        [{\"branchvalues\":\"total\",\"domain\":{\"x\":[0.0,1.0],\"y\":[0.0,1.0]},\"hovertemplate\":\"labels=%{label}<br>value=%{value}<br>parent=%{parent}<br>id=%{id}<extra></extra>\",\"ids\":[\"about_to_sleep\",\"at_Risk\",\"cant_loose\",\"champions\",\"hibernating\",\"loyal_customers\",\"need_attention\",\"new_customers\",\"potential_loyalists\",\"promising\"],\"labels\":[\"about_to_sleep\",\"at_Risk\",\"cant_loose\",\"champions\",\"hibernating\",\"loyal_customers\",\"need_attention\",\"new_customers\",\"potential_loyalists\",\"promising\"],\"name\":\"\",\"parents\":[\"\",\"\",\"\",\"\",\"\",\"\",\"\",\"\",\"\",\"\"],\"values\":[55862,108819,20954,97010,170728,138404,33327,15361,93847,18220],\"type\":\"treemap\",\"textinfo\":\"label+value+percent root\"}],                        {\"template\":{\"data\":{\"histogram2dcontour\":[{\"type\":\"histogram2dcontour\",\"colorbar\":{\"outlinewidth\":0,\"ticks\":\"\"},\"colorscale\":[[0.0,\"#0d0887\"],[0.1111111111111111,\"#46039f\"],[0.2222222222222222,\"#7201a8\"],[0.3333333333333333,\"#9c179e\"],[0.4444444444444444,\"#bd3786\"],[0.5555555555555556,\"#d8576b\"],[0.6666666666666666,\"#ed7953\"],[0.7777777777777778,\"#fb9f3a\"],[0.8888888888888888,\"#fdca26\"],[1.0,\"#f0f921\"]]}],\"choropleth\":[{\"type\":\"choropleth\",\"colorbar\":{\"outlinewidth\":0,\"ticks\":\"\"}}],\"histogram2d\":[{\"type\":\"histogram2d\",\"colorbar\":{\"outlinewidth\":0,\"ticks\":\"\"},\"colorscale\":[[0.0,\"#0d0887\"],[0.1111111111111111,\"#46039f\"],[0.2222222222222222,\"#7201a8\"],[0.3333333333333333,\"#9c179e\"],[0.4444444444444444,\"#bd3786\"],[0.5555555555555556,\"#d8576b\"],[0.6666666666666666,\"#ed7953\"],[0.7777777777777778,\"#fb9f3a\"],[0.8888888888888888,\"#fdca26\"],[1.0,\"#f0f921\"]]}],\"heatmap\":[{\"type\":\"heatmap\",\"colorbar\":{\"outlinewidth\":0,\"ticks\":\"\"},\"colorscale\":[[0.0,\"#0d0887\"],[0.1111111111111111,\"#46039f\"],[0.2222222222222222,\"#7201a8\"],[0.3333333333333333,\"#9c179e\"],[0.4444444444444444,\"#bd3786\"],[0.5555555555555556,\"#d8576b\"],[0.6666666666666666,\"#ed7953\"],[0.7777777777777778,\"#fb9f3a\"],[0.8888888888888888,\"#fdca26\"],[1.0,\"#f0f921\"]]}],\"heatmapgl\":[{\"type\":\"heatmapgl\",\"colorbar\":{\"outlinewidth\":0,\"ticks\":\"\"},\"colorscale\":[[0.0,\"#0d0887\"],[0.1111111111111111,\"#46039f\"],[0.2222222222222222,\"#7201a8\"],[0.3333333333333333,\"#9c179e\"],[0.4444444444444444,\"#bd3786\"],[0.5555555555555556,\"#d8576b\"],[0.6666666666666666,\"#ed7953\"],[0.7777777777777778,\"#fb9f3a\"],[0.8888888888888888,\"#fdca26\"],[1.0,\"#f0f921\"]]}],\"contourcarpet\":[{\"type\":\"contourcarpet\",\"colorbar\":{\"outlinewidth\":0,\"ticks\":\"\"}}],\"contour\":[{\"type\":\"contour\",\"colorbar\":{\"outlinewidth\":0,\"ticks\":\"\"},\"colorscale\":[[0.0,\"#0d0887\"],[0.1111111111111111,\"#46039f\"],[0.2222222222222222,\"#7201a8\"],[0.3333333333333333,\"#9c179e\"],[0.4444444444444444,\"#bd3786\"],[0.5555555555555556,\"#d8576b\"],[0.6666666666666666,\"#ed7953\"],[0.7777777777777778,\"#fb9f3a\"],[0.8888888888888888,\"#fdca26\"],[1.0,\"#f0f921\"]]}],\"surface\":[{\"type\":\"surface\",\"colorbar\":{\"outlinewidth\":0,\"ticks\":\"\"},\"colorscale\":[[0.0,\"#0d0887\"],[0.1111111111111111,\"#46039f\"],[0.2222222222222222,\"#7201a8\"],[0.3333333333333333,\"#9c179e\"],[0.4444444444444444,\"#bd3786\"],[0.5555555555555556,\"#d8576b\"],[0.6666666666666666,\"#ed7953\"],[0.7777777777777778,\"#fb9f3a\"],[0.8888888888888888,\"#fdca26\"],[1.0,\"#f0f921\"]]}],\"mesh3d\":[{\"type\":\"mesh3d\",\"colorbar\":{\"outlinewidth\":0,\"ticks\":\"\"}}],\"scatter\":[{\"fillpattern\":{\"fillmode\":\"overlay\",\"size\":10,\"solidity\":0.2},\"type\":\"scatter\"}],\"parcoords\":[{\"type\":\"parcoords\",\"line\":{\"colorbar\":{\"outlinewidth\":0,\"ticks\":\"\"}}}],\"scatterpolargl\":[{\"type\":\"scatterpolargl\",\"marker\":{\"colorbar\":{\"outlinewidth\":0,\"ticks\":\"\"}}}],\"bar\":[{\"error_x\":{\"color\":\"#2a3f5f\"},\"error_y\":{\"color\":\"#2a3f5f\"},\"marker\":{\"line\":{\"color\":\"#E5ECF6\",\"width\":0.5},\"pattern\":{\"fillmode\":\"overlay\",\"size\":10,\"solidity\":0.2}},\"type\":\"bar\"}],\"scattergeo\":[{\"type\":\"scattergeo\",\"marker\":{\"colorbar\":{\"outlinewidth\":0,\"ticks\":\"\"}}}],\"scatterpolar\":[{\"type\":\"scatterpolar\",\"marker\":{\"colorbar\":{\"outlinewidth\":0,\"ticks\":\"\"}}}],\"histogram\":[{\"marker\":{\"pattern\":{\"fillmode\":\"overlay\",\"size\":10,\"solidity\":0.2}},\"type\":\"histogram\"}],\"scattergl\":[{\"type\":\"scattergl\",\"marker\":{\"colorbar\":{\"outlinewidth\":0,\"ticks\":\"\"}}}],\"scatter3d\":[{\"type\":\"scatter3d\",\"line\":{\"colorbar\":{\"outlinewidth\":0,\"ticks\":\"\"}},\"marker\":{\"colorbar\":{\"outlinewidth\":0,\"ticks\":\"\"}}}],\"scattermapbox\":[{\"type\":\"scattermapbox\",\"marker\":{\"colorbar\":{\"outlinewidth\":0,\"ticks\":\"\"}}}],\"scatterternary\":[{\"type\":\"scatterternary\",\"marker\":{\"colorbar\":{\"outlinewidth\":0,\"ticks\":\"\"}}}],\"scattercarpet\":[{\"type\":\"scattercarpet\",\"marker\":{\"colorbar\":{\"outlinewidth\":0,\"ticks\":\"\"}}}],\"carpet\":[{\"aaxis\":{\"endlinecolor\":\"#2a3f5f\",\"gridcolor\":\"white\",\"linecolor\":\"white\",\"minorgridcolor\":\"white\",\"startlinecolor\":\"#2a3f5f\"},\"baxis\":{\"endlinecolor\":\"#2a3f5f\",\"gridcolor\":\"white\",\"linecolor\":\"white\",\"minorgridcolor\":\"white\",\"startlinecolor\":\"#2a3f5f\"},\"type\":\"carpet\"}],\"table\":[{\"cells\":{\"fill\":{\"color\":\"#EBF0F8\"},\"line\":{\"color\":\"white\"}},\"header\":{\"fill\":{\"color\":\"#C8D4E3\"},\"line\":{\"color\":\"white\"}},\"type\":\"table\"}],\"barpolar\":[{\"marker\":{\"line\":{\"color\":\"#E5ECF6\",\"width\":0.5},\"pattern\":{\"fillmode\":\"overlay\",\"size\":10,\"solidity\":0.2}},\"type\":\"barpolar\"}],\"pie\":[{\"automargin\":true,\"type\":\"pie\"}]},\"layout\":{\"autotypenumbers\":\"strict\",\"colorway\":[\"#636efa\",\"#EF553B\",\"#00cc96\",\"#ab63fa\",\"#FFA15A\",\"#19d3f3\",\"#FF6692\",\"#B6E880\",\"#FF97FF\",\"#FECB52\"],\"font\":{\"color\":\"#2a3f5f\"},\"hovermode\":\"closest\",\"hoverlabel\":{\"align\":\"left\"},\"paper_bgcolor\":\"white\",\"plot_bgcolor\":\"#E5ECF6\",\"polar\":{\"bgcolor\":\"#E5ECF6\",\"angularaxis\":{\"gridcolor\":\"white\",\"linecolor\":\"white\",\"ticks\":\"\"},\"radialaxis\":{\"gridcolor\":\"white\",\"linecolor\":\"white\",\"ticks\":\"\"}},\"ternary\":{\"bgcolor\":\"#E5ECF6\",\"aaxis\":{\"gridcolor\":\"white\",\"linecolor\":\"white\",\"ticks\":\"\"},\"baxis\":{\"gridcolor\":\"white\",\"linecolor\":\"white\",\"ticks\":\"\"},\"caxis\":{\"gridcolor\":\"white\",\"linecolor\":\"white\",\"ticks\":\"\"}},\"coloraxis\":{\"colorbar\":{\"outlinewidth\":0,\"ticks\":\"\"}},\"colorscale\":{\"sequential\":[[0.0,\"#0d0887\"],[0.1111111111111111,\"#46039f\"],[0.2222222222222222,\"#7201a8\"],[0.3333333333333333,\"#9c179e\"],[0.4444444444444444,\"#bd3786\"],[0.5555555555555556,\"#d8576b\"],[0.6666666666666666,\"#ed7953\"],[0.7777777777777778,\"#fb9f3a\"],[0.8888888888888888,\"#fdca26\"],[1.0,\"#f0f921\"]],\"sequentialminus\":[[0.0,\"#0d0887\"],[0.1111111111111111,\"#46039f\"],[0.2222222222222222,\"#7201a8\"],[0.3333333333333333,\"#9c179e\"],[0.4444444444444444,\"#bd3786\"],[0.5555555555555556,\"#d8576b\"],[0.6666666666666666,\"#ed7953\"],[0.7777777777777778,\"#fb9f3a\"],[0.8888888888888888,\"#fdca26\"],[1.0,\"#f0f921\"]],\"diverging\":[[0,\"#8e0152\"],[0.1,\"#c51b7d\"],[0.2,\"#de77ae\"],[0.3,\"#f1b6da\"],[0.4,\"#fde0ef\"],[0.5,\"#f7f7f7\"],[0.6,\"#e6f5d0\"],[0.7,\"#b8e186\"],[0.8,\"#7fbc41\"],[0.9,\"#4d9221\"],[1,\"#276419\"]]},\"xaxis\":{\"gridcolor\":\"white\",\"linecolor\":\"white\",\"ticks\":\"\",\"title\":{\"standoff\":15},\"zerolinecolor\":\"white\",\"automargin\":true,\"zerolinewidth\":2},\"yaxis\":{\"gridcolor\":\"white\",\"linecolor\":\"white\",\"ticks\":\"\",\"title\":{\"standoff\":15},\"zerolinecolor\":\"white\",\"automargin\":true,\"zerolinewidth\":2},\"scene\":{\"xaxis\":{\"backgroundcolor\":\"#E5ECF6\",\"gridcolor\":\"white\",\"linecolor\":\"white\",\"showbackground\":true,\"ticks\":\"\",\"zerolinecolor\":\"white\",\"gridwidth\":2},\"yaxis\":{\"backgroundcolor\":\"#E5ECF6\",\"gridcolor\":\"white\",\"linecolor\":\"white\",\"showbackground\":true,\"ticks\":\"\",\"zerolinecolor\":\"white\",\"gridwidth\":2},\"zaxis\":{\"backgroundcolor\":\"#E5ECF6\",\"gridcolor\":\"white\",\"linecolor\":\"white\",\"showbackground\":true,\"ticks\":\"\",\"zerolinecolor\":\"white\",\"gridwidth\":2}},\"shapedefaults\":{\"line\":{\"color\":\"#2a3f5f\"}},\"annotationdefaults\":{\"arrowcolor\":\"#2a3f5f\",\"arrowhead\":0,\"arrowwidth\":1},\"geo\":{\"bgcolor\":\"white\",\"landcolor\":\"#E5ECF6\",\"subunitcolor\":\"white\",\"showland\":true,\"showlakes\":true,\"lakecolor\":\"white\"},\"title\":{\"x\":0.05},\"mapbox\":{\"style\":\"light\"}}},\"legend\":{\"tracegroupgap\":0},\"margin\":{\"t\":60},\"title\":{\"font\":{\"size\":20},\"text\":\"Distribution of the RFM Segments\",\"x\":0.5}},                        {\"responsive\": true}                    ).then(function(){\n",
       "                            \n",
       "var gd = document.getElementById('f38d78e9-8c5d-4614-ac48-7cf915f60204');\n",
       "var x = new MutationObserver(function (mutations, observer) {{\n",
       "        var display = window.getComputedStyle(gd).display;\n",
       "        if (!display || display === 'none') {{\n",
       "            console.log([gd, 'removed!']);\n",
       "            Plotly.purge(gd);\n",
       "            observer.disconnect();\n",
       "        }}\n",
       "}});\n",
       "\n",
       "// Listen for the removal of the full notebook cells\n",
       "var notebookContainer = gd.closest('#notebook-container');\n",
       "if (notebookContainer) {{\n",
       "    x.observe(notebookContainer, {childList: true});\n",
       "}}\n",
       "\n",
       "// Listen for the clearing of the current output cell\n",
       "var outputEl = gd.closest('.output');\n",
       "if (outputEl) {{\n",
       "    x.observe(outputEl, {childList: true});\n",
       "}}\n",
       "\n",
       "                        })                };                });            </script>        </div>"
      ]
     },
     "metadata": {},
     "output_type": "display_data"
    }
   ],
   "source": [
    "# treemapにて図示\n",
    "x = rfm.segment.value_counts()\n",
    "fig = px.treemap(x, path = [x.index], values = x)\n",
    "fig.update_layout(title_text = 'Distribution of the RFM Segments',\n",
    "                  title_x = 0.5,\n",
    "                  title_font = dict(size = 20))\n",
    "fig.update_traces(textinfo = \"label+value+percent root\")\n",
    "fig.show()"
   ]
  },
  {
   "cell_type": "code",
   "execution_count": null,
   "id": "ffbb1683",
   "metadata": {
    "id": "MVhR-kVGiSSp",
    "papermill": {
     "duration": 0.053968,
     "end_time": "2022-05-06T16:53:32.641163",
     "exception": false,
     "start_time": "2022-05-06T16:53:32.587195",
     "status": "completed"
    },
    "tags": []
   },
   "outputs": [],
   "source": [
    " "
   ]
  },
  {
   "cell_type": "markdown",
   "id": "58546068",
   "metadata": {
    "id": "tQcnd5_eiSSp",
    "papermill": {
     "duration": 0.053462,
     "end_time": "2022-05-06T16:53:32.750415",
     "exception": false,
     "start_time": "2022-05-06T16:53:32.696953",
     "status": "completed"
    },
    "tags": []
   },
   "source": [
    "# Item-Based Collaborative Filtering\n",
    "\n"
   ]
  },
  {
   "cell_type": "markdown",
   "id": "f9cf7b58-d90f-41f3-b803-80c6b4e43cea",
   "metadata": {},
   "source": [
    "・時間とともに流行が衰えることを考慮し、重要でないと判断した購買履歴（transactions）は省いて予測を行う。\n",
    "\n",
    "・商品（articles）についても取引量が不十分（10個未満）なものは取り除いて予測を行う。\n",
    "\n",
    "（参考）\n",
    "https://www.kaggle.com/code/luisrodri97/item-based-collaborative-filtering"
   ]
  },
  {
   "cell_type": "code",
   "execution_count": 28,
   "id": "a054a585",
   "metadata": {
    "executionInfo": {
     "elapsed": 12,
     "status": "aborted",
     "timestamp": 1651256340248,
     "user": {
      "displayName": "Suneeth Sreedharan",
      "userId": "09929491400446734699"
     },
     "user_tz": 240
    },
    "id": "zH6MK-OKiSS_",
    "papermill": {
     "duration": 0.06272,
     "end_time": "2022-05-06T16:53:32.974386",
     "exception": false,
     "start_time": "2022-05-06T16:53:32.911666",
     "status": "completed"
    },
    "tags": []
   },
   "outputs": [],
   "source": [
    "# インポート\n",
    "import pandas as pd\n",
    "import numpy as np\n",
    "import datetime\n",
    "from tqdm import tqdm\n",
    "from sklearn.metrics.pairwise import cosine_similarity"
   ]
  },
  {
   "cell_type": "code",
   "execution_count": 23,
   "id": "1a4fde8f-45ec-47bb-9eb4-ed2b1fa896b5",
   "metadata": {},
   "outputs": [
    {
     "data": {
      "text/html": [
       "<div>\n",
       "<style scoped>\n",
       "    .dataframe tbody tr th:only-of-type {\n",
       "        vertical-align: middle;\n",
       "    }\n",
       "\n",
       "    .dataframe tbody tr th {\n",
       "        vertical-align: top;\n",
       "    }\n",
       "\n",
       "    .dataframe thead th {\n",
       "        text-align: right;\n",
       "    }\n",
       "</style>\n",
       "<table border=\"1\" class=\"dataframe\">\n",
       "  <thead>\n",
       "    <tr style=\"text-align: right;\">\n",
       "      <th></th>\n",
       "      <th>t_dat</th>\n",
       "      <th>customer_id</th>\n",
       "      <th>article_id</th>\n",
       "      <th>price</th>\n",
       "      <th>sales_channel_id</th>\n",
       "      <th>date</th>\n",
       "    </tr>\n",
       "  </thead>\n",
       "  <tbody>\n",
       "    <tr>\n",
       "      <th>22886405</th>\n",
       "      <td>2020-03-01</td>\n",
       "      <td>0000423b00ade91418cceaf3b26c6af3dd342b51fd051e...</td>\n",
       "      <td>751628002</td>\n",
       "      <td>0.022017</td>\n",
       "      <td>1</td>\n",
       "      <td>2020-03-01</td>\n",
       "    </tr>\n",
       "    <tr>\n",
       "      <th>22886406</th>\n",
       "      <td>2020-03-01</td>\n",
       "      <td>0008968c0d451dbc5a9968da03196fe20051965edde741...</td>\n",
       "      <td>675662028</td>\n",
       "      <td>0.035576</td>\n",
       "      <td>2</td>\n",
       "      <td>2020-03-01</td>\n",
       "    </tr>\n",
       "    <tr>\n",
       "      <th>22886407</th>\n",
       "      <td>2020-03-01</td>\n",
       "      <td>001127bffdda108579e6cb16080440e89bf1250a776c6e...</td>\n",
       "      <td>821152004</td>\n",
       "      <td>0.025407</td>\n",
       "      <td>2</td>\n",
       "      <td>2020-03-01</td>\n",
       "    </tr>\n",
       "    <tr>\n",
       "      <th>22886408</th>\n",
       "      <td>2020-03-01</td>\n",
       "      <td>001127bffdda108579e6cb16080440e89bf1250a776c6e...</td>\n",
       "      <td>860738001</td>\n",
       "      <td>0.025407</td>\n",
       "      <td>2</td>\n",
       "      <td>2020-03-01</td>\n",
       "    </tr>\n",
       "    <tr>\n",
       "      <th>22886409</th>\n",
       "      <td>2020-03-01</td>\n",
       "      <td>00117f79ce61af038e143ee26448e8401fdbff51f48d5a...</td>\n",
       "      <td>822957002</td>\n",
       "      <td>0.045746</td>\n",
       "      <td>2</td>\n",
       "      <td>2020-03-01</td>\n",
       "    </tr>\n",
       "  </tbody>\n",
       "</table>\n",
       "</div>"
      ],
      "text/plain": [
       "              t_dat                                        customer_id  \\\n",
       "22886405 2020-03-01  0000423b00ade91418cceaf3b26c6af3dd342b51fd051e...   \n",
       "22886406 2020-03-01  0008968c0d451dbc5a9968da03196fe20051965edde741...   \n",
       "22886407 2020-03-01  001127bffdda108579e6cb16080440e89bf1250a776c6e...   \n",
       "22886408 2020-03-01  001127bffdda108579e6cb16080440e89bf1250a776c6e...   \n",
       "22886409 2020-03-01  00117f79ce61af038e143ee26448e8401fdbff51f48d5a...   \n",
       "\n",
       "         article_id     price  sales_channel_id       date  \n",
       "22886405  751628002  0.022017                 1 2020-03-01  \n",
       "22886406  675662028  0.035576                 2 2020-03-01  \n",
       "22886407  821152004  0.025407                 2 2020-03-01  \n",
       "22886408  860738001  0.025407                 2 2020-03-01  \n",
       "22886409  822957002  0.045746                 2 2020-03-01  "
      ]
     },
     "execution_count": 23,
     "metadata": {},
     "output_type": "execute_result"
    }
   ],
   "source": [
    "transactions.head()"
   ]
  },
  {
   "cell_type": "code",
   "execution_count": 24,
   "id": "99f4799c-0fb0-43d0-87e7-27265a4e2bea",
   "metadata": {},
   "outputs": [
    {
     "data": {
      "text/html": [
       "<div>\n",
       "<style scoped>\n",
       "    .dataframe tbody tr th:only-of-type {\n",
       "        vertical-align: middle;\n",
       "    }\n",
       "\n",
       "    .dataframe tbody tr th {\n",
       "        vertical-align: top;\n",
       "    }\n",
       "\n",
       "    .dataframe thead th {\n",
       "        text-align: right;\n",
       "    }\n",
       "</style>\n",
       "<table border=\"1\" class=\"dataframe\">\n",
       "  <thead>\n",
       "    <tr style=\"text-align: right;\">\n",
       "      <th></th>\n",
       "      <th>index</th>\n",
       "      <th>customer_id</th>\n",
       "      <th>Recency</th>\n",
       "      <th>Frequency</th>\n",
       "      <th>Monetary</th>\n",
       "      <th>recency_score</th>\n",
       "      <th>frequency_score</th>\n",
       "      <th>monetary_score</th>\n",
       "      <th>RF_score</th>\n",
       "      <th>segment</th>\n",
       "    </tr>\n",
       "  </thead>\n",
       "  <tbody>\n",
       "    <tr>\n",
       "      <th>0</th>\n",
       "      <td>0</td>\n",
       "      <td>00000dbacae5abe5e23885899a1fa44253a17956c6d1c3...</td>\n",
       "      <td>1</td>\n",
       "      <td>6</td>\n",
       "      <td>0.144475</td>\n",
       "      <td>5</td>\n",
       "      <td>3</td>\n",
       "      <td>3</td>\n",
       "      <td>53</td>\n",
       "      <td>potential_loyalists</td>\n",
       "    </tr>\n",
       "    <tr>\n",
       "      <th>1</th>\n",
       "      <td>1</td>\n",
       "      <td>0000423b00ade91418cceaf3b26c6af3dd342b51fd051e...</td>\n",
       "      <td>60</td>\n",
       "      <td>16</td>\n",
       "      <td>0.386169</td>\n",
       "      <td>3</td>\n",
       "      <td>4</td>\n",
       "      <td>4</td>\n",
       "      <td>34</td>\n",
       "      <td>loyal_customers</td>\n",
       "    </tr>\n",
       "    <tr>\n",
       "      <th>2</th>\n",
       "      <td>2</td>\n",
       "      <td>000058a12d5b43e67d225668fa1f8d618c13dc232df0ca...</td>\n",
       "      <td>141</td>\n",
       "      <td>10</td>\n",
       "      <td>0.428644</td>\n",
       "      <td>1</td>\n",
       "      <td>4</td>\n",
       "      <td>5</td>\n",
       "      <td>14</td>\n",
       "      <td>at_Risk</td>\n",
       "    </tr>\n",
       "    <tr>\n",
       "      <th>3</th>\n",
       "      <td>3</td>\n",
       "      <td>00006413d8573cd20ed7128e53b7b13819fe5cfc2d801f...</td>\n",
       "      <td>25</td>\n",
       "      <td>7</td>\n",
       "      <td>0.255814</td>\n",
       "      <td>4</td>\n",
       "      <td>3</td>\n",
       "      <td>4</td>\n",
       "      <td>43</td>\n",
       "      <td>potential_loyalists</td>\n",
       "    </tr>\n",
       "    <tr>\n",
       "      <th>4</th>\n",
       "      <td>4</td>\n",
       "      <td>00007d2de826758b65a93dd24ce629ed66842531df6699...</td>\n",
       "      <td>116</td>\n",
       "      <td>10</td>\n",
       "      <td>0.174746</td>\n",
       "      <td>1</td>\n",
       "      <td>4</td>\n",
       "      <td>3</td>\n",
       "      <td>14</td>\n",
       "      <td>at_Risk</td>\n",
       "    </tr>\n",
       "  </tbody>\n",
       "</table>\n",
       "</div>"
      ],
      "text/plain": [
       "   index                                        customer_id  Recency  \\\n",
       "0      0  00000dbacae5abe5e23885899a1fa44253a17956c6d1c3...        1   \n",
       "1      1  0000423b00ade91418cceaf3b26c6af3dd342b51fd051e...       60   \n",
       "2      2  000058a12d5b43e67d225668fa1f8d618c13dc232df0ca...      141   \n",
       "3      3  00006413d8573cd20ed7128e53b7b13819fe5cfc2d801f...       25   \n",
       "4      4  00007d2de826758b65a93dd24ce629ed66842531df6699...      116   \n",
       "\n",
       "   Frequency  Monetary recency_score frequency_score monetary_score RF_score  \\\n",
       "0          6  0.144475             5               3              3       53   \n",
       "1         16  0.386169             3               4              4       34   \n",
       "2         10  0.428644             1               4              5       14   \n",
       "3          7  0.255814             4               3              4       43   \n",
       "4         10  0.174746             1               4              3       14   \n",
       "\n",
       "               segment  \n",
       "0  potential_loyalists  \n",
       "1      loyal_customers  \n",
       "2              at_Risk  \n",
       "3  potential_loyalists  \n",
       "4              at_Risk  "
      ]
     },
     "execution_count": 24,
     "metadata": {},
     "output_type": "execute_result"
    }
   ],
   "source": [
    "# customer_idをindexから外す\n",
    "rfm = rfm.reset_index()\n",
    "rfm.head()"
   ]
  },
  {
   "cell_type": "code",
   "execution_count": 25,
   "id": "85874b63",
   "metadata": {
    "papermill": {
     "duration": 0.129181,
     "end_time": "2022-05-06T16:53:33.270480",
     "exception": false,
     "start_time": "2022-05-06T16:53:33.141299",
     "status": "completed"
    },
    "tags": []
   },
   "outputs": [
    {
     "data": {
      "text/html": [
       "<div>\n",
       "<style scoped>\n",
       "    .dataframe tbody tr th:only-of-type {\n",
       "        vertical-align: middle;\n",
       "    }\n",
       "\n",
       "    .dataframe tbody tr th {\n",
       "        vertical-align: top;\n",
       "    }\n",
       "\n",
       "    .dataframe thead th {\n",
       "        text-align: right;\n",
       "    }\n",
       "</style>\n",
       "<table border=\"1\" class=\"dataframe\">\n",
       "  <thead>\n",
       "    <tr style=\"text-align: right;\">\n",
       "      <th></th>\n",
       "      <th>t_dat</th>\n",
       "      <th>customer_id</th>\n",
       "      <th>article_id</th>\n",
       "      <th>price</th>\n",
       "      <th>sales_channel_id</th>\n",
       "      <th>date</th>\n",
       "    </tr>\n",
       "  </thead>\n",
       "  <tbody>\n",
       "    <tr>\n",
       "      <th>0</th>\n",
       "      <td>2020-03-01</td>\n",
       "      <td>0000423b00ade91418cceaf3b26c6af3dd342b51fd051e...</td>\n",
       "      <td>751628002</td>\n",
       "      <td>0.022017</td>\n",
       "      <td>1</td>\n",
       "      <td>2020-03-01</td>\n",
       "    </tr>\n",
       "    <tr>\n",
       "      <th>1</th>\n",
       "      <td>2020-04-22</td>\n",
       "      <td>0000423b00ade91418cceaf3b26c6af3dd342b51fd051e...</td>\n",
       "      <td>599580055</td>\n",
       "      <td>0.016932</td>\n",
       "      <td>2</td>\n",
       "      <td>2020-04-22</td>\n",
       "    </tr>\n",
       "    <tr>\n",
       "      <th>2</th>\n",
       "      <td>2020-04-22</td>\n",
       "      <td>0000423b00ade91418cceaf3b26c6af3dd342b51fd051e...</td>\n",
       "      <td>599580055</td>\n",
       "      <td>0.016932</td>\n",
       "      <td>2</td>\n",
       "      <td>2020-04-22</td>\n",
       "    </tr>\n",
       "    <tr>\n",
       "      <th>3</th>\n",
       "      <td>2020-04-22</td>\n",
       "      <td>0000423b00ade91418cceaf3b26c6af3dd342b51fd051e...</td>\n",
       "      <td>811835004</td>\n",
       "      <td>0.030492</td>\n",
       "      <td>2</td>\n",
       "      <td>2020-04-22</td>\n",
       "    </tr>\n",
       "    <tr>\n",
       "      <th>4</th>\n",
       "      <td>2020-04-22</td>\n",
       "      <td>0000423b00ade91418cceaf3b26c6af3dd342b51fd051e...</td>\n",
       "      <td>811835004</td>\n",
       "      <td>0.030492</td>\n",
       "      <td>2</td>\n",
       "      <td>2020-04-22</td>\n",
       "    </tr>\n",
       "    <tr>\n",
       "      <th>...</th>\n",
       "      <td>...</td>\n",
       "      <td>...</td>\n",
       "      <td>...</td>\n",
       "      <td>...</td>\n",
       "      <td>...</td>\n",
       "      <td>...</td>\n",
       "    </tr>\n",
       "    <tr>\n",
       "      <th>8332034</th>\n",
       "      <td>2020-09-06</td>\n",
       "      <td>ff614d10bc983fbcdbcca38a944ddc11633409325b9c50...</td>\n",
       "      <td>841383003</td>\n",
       "      <td>0.008458</td>\n",
       "      <td>2</td>\n",
       "      <td>2020-09-06</td>\n",
       "    </tr>\n",
       "    <tr>\n",
       "      <th>8332035</th>\n",
       "      <td>2020-09-06</td>\n",
       "      <td>ff614d10bc983fbcdbcca38a944ddc11633409325b9c50...</td>\n",
       "      <td>841383003</td>\n",
       "      <td>0.008458</td>\n",
       "      <td>2</td>\n",
       "      <td>2020-09-06</td>\n",
       "    </tr>\n",
       "    <tr>\n",
       "      <th>8332036</th>\n",
       "      <td>2020-09-06</td>\n",
       "      <td>ff614d10bc983fbcdbcca38a944ddc11633409325b9c50...</td>\n",
       "      <td>841383003</td>\n",
       "      <td>0.008458</td>\n",
       "      <td>2</td>\n",
       "      <td>2020-09-06</td>\n",
       "    </tr>\n",
       "    <tr>\n",
       "      <th>8332037</th>\n",
       "      <td>2020-09-06</td>\n",
       "      <td>ff614d10bc983fbcdbcca38a944ddc11633409325b9c50...</td>\n",
       "      <td>841383003</td>\n",
       "      <td>0.008458</td>\n",
       "      <td>2</td>\n",
       "      <td>2020-09-06</td>\n",
       "    </tr>\n",
       "    <tr>\n",
       "      <th>8332038</th>\n",
       "      <td>2020-09-06</td>\n",
       "      <td>ffb52fa9d769c63b309cecf4c6f121c91135cc5b11dee1...</td>\n",
       "      <td>606395006</td>\n",
       "      <td>0.059305</td>\n",
       "      <td>2</td>\n",
       "      <td>2020-09-06</td>\n",
       "    </tr>\n",
       "  </tbody>\n",
       "</table>\n",
       "<p>6109448 rows × 6 columns</p>\n",
       "</div>"
      ],
      "text/plain": [
       "             t_dat                                        customer_id  \\\n",
       "0       2020-03-01  0000423b00ade91418cceaf3b26c6af3dd342b51fd051e...   \n",
       "1       2020-04-22  0000423b00ade91418cceaf3b26c6af3dd342b51fd051e...   \n",
       "2       2020-04-22  0000423b00ade91418cceaf3b26c6af3dd342b51fd051e...   \n",
       "3       2020-04-22  0000423b00ade91418cceaf3b26c6af3dd342b51fd051e...   \n",
       "4       2020-04-22  0000423b00ade91418cceaf3b26c6af3dd342b51fd051e...   \n",
       "...            ...                                                ...   \n",
       "8332034 2020-09-06  ff614d10bc983fbcdbcca38a944ddc11633409325b9c50...   \n",
       "8332035 2020-09-06  ff614d10bc983fbcdbcca38a944ddc11633409325b9c50...   \n",
       "8332036 2020-09-06  ff614d10bc983fbcdbcca38a944ddc11633409325b9c50...   \n",
       "8332037 2020-09-06  ff614d10bc983fbcdbcca38a944ddc11633409325b9c50...   \n",
       "8332038 2020-09-06  ffb52fa9d769c63b309cecf4c6f121c91135cc5b11dee1...   \n",
       "\n",
       "        article_id     price  sales_channel_id       date  \n",
       "0        751628002  0.022017                 1 2020-03-01  \n",
       "1        599580055  0.016932                 2 2020-04-22  \n",
       "2        599580055  0.016932                 2 2020-04-22  \n",
       "3        811835004  0.030492                 2 2020-04-22  \n",
       "4        811835004  0.030492                 2 2020-04-22  \n",
       "...            ...       ...               ...        ...  \n",
       "8332034  841383003  0.008458                 2 2020-09-06  \n",
       "8332035  841383003  0.008458                 2 2020-09-06  \n",
       "8332036  841383003  0.008458                 2 2020-09-06  \n",
       "8332037  841383003  0.008458                 2 2020-09-06  \n",
       "8332038  606395006  0.059305                 2 2020-09-06  \n",
       "\n",
       "[6109448 rows x 6 columns]"
      ]
     },
     "execution_count": 25,
     "metadata": {},
     "output_type": "execute_result"
    }
   ],
   "source": [
    "# transactionsとrfmを結合\n",
    "transactions = pd.merge(transactions, rfm[[\"customer_id\", \"segment\"]], how = 'inner', on = 'customer_id')\n",
    "# segmentのうち、訓練に用いる要素を指定し、他は削除\n",
    "training_segment = ['champions', 'potential_loyalists', 'new_customers', 'promising', 'loyal_customers']\n",
    "transactions = transactions[transactions['segment'].isin(training_segment)]\n",
    "transactions = transactions.drop('segment', axis = 1)\n",
    "transactions"
   ]
  },
  {
   "cell_type": "code",
   "execution_count": 26,
   "id": "39c9bf06",
   "metadata": {
    "papermill": {
     "duration": 0.598603,
     "end_time": "2022-05-06T16:53:47.073410",
     "exception": false,
     "start_time": "2022-05-06T16:53:46.474807",
     "status": "completed"
    },
    "tags": []
   },
   "outputs": [
    {
     "name": "stderr",
     "output_type": "stream",
     "text": [
      "C:\\Users\\jpnkb\\AppData\\Local\\Temp\\ipykernel_7252\\2074876912.py:5: SettingWithCopyWarning:\n",
      "\n",
      "\n",
      "A value is trying to be set on a copy of a slice from a DataFrame.\n",
      "Try using .loc[row_indexer,col_indexer] = value instead\n",
      "\n",
      "See the caveats in the documentation: https://pandas.pydata.org/pandas-docs/stable/user_guide/indexing.html#returning-a-view-versus-a-copy\n",
      "\n"
     ]
    }
   ],
   "source": [
    "# 商品を絞り込む（売上個数が10個未満の物を除く）\n",
    "article_bought_count = transactions[['article_id', 'date']].groupby('article_id').count().reset_index().rename(columns = {'date': 'count'})\n",
    "most_bought_articles = article_bought_count[article_bought_count['count'] > 10]['article_id'].values\n",
    "transactions = transactions[transactions['article_id'].isin(most_bought_articles)]\n",
    "transactions[\"bought\"] = 1 "
   ]
  },
  {
   "cell_type": "code",
   "execution_count": 27,
   "id": "cde97dd5",
   "metadata": {
    "papermill": {
     "duration": 0.618257,
     "end_time": "2022-05-06T16:53:47.968138",
     "exception": false,
     "start_time": "2022-05-06T16:53:47.349881",
     "status": "completed"
    },
    "tags": []
   },
   "outputs": [],
   "source": [
    "# 'negative samples'の生成\n",
    "np.random.seed(0)\n",
    "negative_samples = pd.DataFrame({\n",
    "    'article_id': np.random.choice(transactions.article_id.unique(), transactions.shape[0]),\n",
    "    'customer_id': np.random.choice(transactions.customer_id.unique(), transactions.shape[0]),\n",
    "    'bought': np.zeros(transactions.shape[0])\n",
    "})"
   ]
  },
  {
   "cell_type": "code",
   "execution_count": 39,
   "id": "0ee6e017",
   "metadata": {
    "papermill": {
     "duration": 0.090179,
     "end_time": "2022-05-06T16:53:48.219337",
     "exception": false,
     "start_time": "2022-05-06T16:53:48.129158",
     "status": "completed"
    },
    "tags": []
   },
   "outputs": [],
   "source": [
    "# 予測モデルのクラス\n",
    "class ItemBased_RecSys:\n",
    "    ''' Collaborative filtering using a custom sim(u,u'). '''\n",
    "\n",
    "    def __init__(self, positive_transactions, negative_transactions, num_components = 10):\n",
    "        ''' Constructor '''\n",
    "        self.positive_transactions = positive_transactions\n",
    "        self.transactions = pd.concat([positive_transactions, negative_transactions])\n",
    "        self.customers = self.transactions.customer_id.values\n",
    "        self.articles = self.transactions.article_id.values\n",
    "        self.bought = self.transactions.bought.values\n",
    "        self.num_components = num_components\n",
    "\n",
    "        # idとインデックスの対応関係を変数に格納\n",
    "        self.customer_id2index = {c: i for i, c in enumerate(np.unique(self.customers))}\n",
    "        self.article_id2index = {a: i for i, a in enumerate(np.unique(self.articles))}\n",
    "        \n",
    "    def __sdg__(self):\n",
    "        for idx in tqdm(self.training_indices):\n",
    "            # idxの番号に相当するデータを一つ取得\n",
    "            customer_id = self.customers[idx]\n",
    "            article_id = self.articles[idx]\n",
    "            bought = self.bought[idx]\n",
    "\n",
    "            # idが一致する顧客、商品のindexを取得\n",
    "            customer_index = self.customer_id2index[customer_id]\n",
    "            article_index = self.article_id2index[article_id]\n",
    "\n",
    "            # 予測・誤差の計算\n",
    "            prediction = self.predict_single(customer_index, article_index)\n",
    "            error = (bought - prediction) # error\n",
    "            \n",
    "            # 学習率（learning_rate）と誤差（error）に基づいて値（customer/articleのlatent factor）をそれぞれ更新\n",
    "            self.customers_latent_matrix[customer_index] += self.learning_rate * \\\n",
    "                                    (error * self.articles_latent_matrix[article_index] - \\\n",
    "                                     self.lmbda * self.customers_latent_matrix[customer_index])\n",
    "            self.articles_latent_matrix[article_index] += self.learning_rate * \\\n",
    "                                    (error * self.customers_latent_matrix[customer_index] - \\\n",
    "                                     self.lmbda * self.articles_latent_matrix[article_index])\n",
    "                \n",
    "    def fit(self, n_epochs = 10, learning_rate = 0.001, lmbda = 0.1):\n",
    "        ''' Compute the matrix factorization R = P x Q '''\n",
    "        self.learning_rate = learning_rate\n",
    "        self.lmbda = lmbda\n",
    "        n_samples = self.transactions.shape[0]\n",
    "        \n",
    "        # 'latent matrices'の初期化\n",
    "        self.customers_latent_matrix = np.random.normal(scale = 1., size = (len(np.unique(self.customers)), self.num_components))\n",
    "        self.articles_latent_matrix = np.random.normal(scale = 1., size = (len(np.unique(self.articles)), self.num_components))\n",
    "\n",
    "        for epoch in range(n_epochs):\n",
    "            print('Epoch: {}'.format(epoch))\n",
    "            self.training_indices = np.arange(n_samples)\n",
    "            \n",
    "            # 訓練データのシャッフルと確率的勾配降下法の実行\n",
    "            np.random.shuffle(self.training_indices)\n",
    "            self.__sdg__()\n",
    "\n",
    "    def predict_single(self, customer_index, article_index):\n",
    "        ''' Make a prediction for an specific user and article '''\n",
    "        prediction = np.dot(self.customers_latent_matrix[customer_index], self.articles_latent_matrix[article_index])\n",
    "        prediction = np.clip(prediction, 0, 1)\n",
    "        return prediction\n",
    "\n",
    "    def default_recommendation(self):\n",
    "        ''' Calculate time decaying popularity '''\n",
    "        # 人気度の経時的減衰を計算し、直近で買われた商品の重要度を高く見積もる。\n",
    "        self.positive_transactions['pop_factor'] = self.positive_transactions['t_dat'].apply(lambda x: 1 / (datetime.datetime(2020, 9, 21) - x).days)\n",
    "        transactions_by_article = self.positive_transactions[['article_id', 'pop_factor']].groupby('article_id').sum().reset_index()\n",
    "        return transactions_by_article.sort_values(by = 'pop_factor', ascending = False)['article_id'].values[:12]\n",
    "\n",
    "    def predict(self, customers):\n",
    "        ''' Make recommendations '''\n",
    "        recommendations = []\n",
    "        self.articles_latent_matrix[np.isnan(self.articles_latent_matrix)] = 0\n",
    "        # コサイン類似度の計算\n",
    "        similarity_matrix = cosine_similarity(self.articles_latent_matrix, self.articles_latent_matrix, dense_output = False)\n",
    "\n",
    "        # 各商品に対し、最も類似した12個の商品のインデックスを含む行列となるよう、類似度行列を変換する\n",
    "        similarity_matrix = np.argsort(similarity_matrix, axis = 1)\n",
    "        similarity_matrix = similarity_matrix[:, -12:]\n",
    "\n",
    "        # 初期の予測を算出（人気の経時的減衰を考慮したもの）\n",
    "        default_recommendation = self.default_recommendation()\n",
    "\n",
    "        # 顧客、商品ごとに12個の商品をグループ化し、顧客の商品購入回数を計算\n",
    "        transactions_by_customer = self.positive_transactions[['customer_id', 'article_id', 'bought']].groupby(['customer_id', 'article_id']).count().reset_index()\n",
    "        most_bought_article = transactions_by_customer.loc[transactions_by_customer.groupby('customer_id').bought.idxmax()]['article_id'].values\n",
    "\n",
    "        # 予測\n",
    "        for customer in tqdm(customers):\n",
    "            try:\n",
    "                rec_aux1 = []\n",
    "                rec_aux2 = []\n",
    "                aux = []\n",
    "\n",
    "                # 顧客別に最も購入された商品を取得する\n",
    "                user_most_bought_article_id = most_bought_article[self.customer_id2index[customer]]\n",
    "\n",
    "                # 類似度行列を用いて、最も類似している6つの商品を取得\n",
    "                rec_aux1 = self.articles[similarity_matrix[self.article_id2index[user_most_bought_article_id]]]\n",
    "                # デフォルト予測の半分を返す\n",
    "                rec_aux2 = default_recommendation\n",
    "\n",
    "                # レコメンドリストをマージ\n",
    "                for rec_idx in range(6):\n",
    "                    aux.append(rec_aux2[rec_idx])\n",
    "                    aux.append(rec_aux1[rec_idx])\n",
    "\n",
    "                recommendations.append(' '.join(aux))\n",
    "            except:\n",
    "                # デフォルト予測を返す\n",
    "                recommendations.append(' '.join(default_recommendation))\n",
    "        \n",
    "        return pd.DataFrame({\n",
    "            'customer_id': customers,\n",
    "            'prediction': recommendations,\n",
    "        })"
   ]
  },
  {
   "cell_type": "code",
   "execution_count": 40,
   "id": "de6c5fdd",
   "metadata": {
    "papermill": {
     "duration": 110.916341,
     "end_time": "2022-05-06T16:55:39.297572",
     "exception": false,
     "start_time": "2022-05-06T16:53:48.381231",
     "status": "completed"
    },
    "tags": []
   },
   "outputs": [
    {
     "name": "stdout",
     "output_type": "stream",
     "text": [
      "Epoch: 0\n"
     ]
    },
    {
     "name": "stderr",
     "output_type": "stream",
     "text": [
      "100%|██████████| 12069616/12069616 [06:59<00:00, 28757.27it/s]\n"
     ]
    }
   ],
   "source": [
    "# ハイパーパラメータを指定しモデルを実行。\n",
    "rec = ItemBased_RecSys(transactions, negative_samples, num_components = 1000)\n",
    "rec.fit(n_epochs = 1)"
   ]
  },
  {
   "cell_type": "code",
   "execution_count": 41,
   "id": "be144054",
   "metadata": {
    "papermill": {
     "duration": 6.734637,
     "end_time": "2022-05-06T16:55:46.421774",
     "exception": false,
     "start_time": "2022-05-06T16:55:39.687137",
     "status": "completed"
    },
    "tags": []
   },
   "outputs": [],
   "source": [
    "# テストデータ読み込み\n",
    "test = pd.read_csv('./for_uploading/sample_submission_rakus_latest.csv',\n",
    "                   encoding=\"ISO-8859-1\", \n",
    "                   dtype={'article_id':str}).customer_id.unique()\n",
    "# test = pd.read_csv('../input/i-r-tbl/for_uploading/sample_submission_rakus_latest.csv',\n",
    "#                   encoding=\"ISO-8859-1\", \n",
    "#                   dtype={'article_id':str}).customer_id.unique()"
   ]
  },
  {
   "cell_type": "code",
   "execution_count": 42,
   "id": "48feef94",
   "metadata": {
    "papermill": {
     "duration": 41.793548,
     "end_time": "2022-05-06T16:56:28.620380",
     "exception": false,
     "start_time": "2022-05-06T16:55:46.826832",
     "status": "completed"
    },
    "tags": []
   },
   "outputs": [
    {
     "name": "stderr",
     "output_type": "stream",
     "text": [
      "C:\\Users\\jpnkb\\AppData\\Local\\Temp\\ipykernel_7252\\4010229788.py:68: SettingWithCopyWarning:\n",
      "\n",
      "\n",
      "A value is trying to be set on a copy of a slice from a DataFrame.\n",
      "Try using .loc[row_indexer,col_indexer] = value instead\n",
      "\n",
      "See the caveats in the documentation: https://pandas.pydata.org/pandas-docs/stable/user_guide/indexing.html#returning-a-view-versus-a-copy\n",
      "\n",
      "100%|██████████| 1362281/1362281 [00:03<00:00, 403969.25it/s]\n"
     ]
    }
   ],
   "source": [
    "recommendations = rec.predict(test)"
   ]
  },
  {
   "cell_type": "code",
   "execution_count": 43,
   "id": "99a799df",
   "metadata": {
    "papermill": {
     "duration": 0.433491,
     "end_time": "2022-05-06T16:56:29.471514",
     "exception": false,
     "start_time": "2022-05-06T16:56:29.038023",
     "status": "completed"
    },
    "tags": []
   },
   "outputs": [
    {
     "data": {
      "text/html": [
       "<div>\n",
       "<style scoped>\n",
       "    .dataframe tbody tr th:only-of-type {\n",
       "        vertical-align: middle;\n",
       "    }\n",
       "\n",
       "    .dataframe tbody tr th {\n",
       "        vertical-align: top;\n",
       "    }\n",
       "\n",
       "    .dataframe thead th {\n",
       "        text-align: right;\n",
       "    }\n",
       "</style>\n",
       "<table border=\"1\" class=\"dataframe\">\n",
       "  <thead>\n",
       "    <tr style=\"text-align: right;\">\n",
       "      <th></th>\n",
       "      <th>customer_id</th>\n",
       "      <th>prediction</th>\n",
       "    </tr>\n",
       "  </thead>\n",
       "  <tbody>\n",
       "    <tr>\n",
       "      <th>0</th>\n",
       "      <td>00000dbacae5abe5e23885899a1fa44253a17956c6d1c3...</td>\n",
       "      <td>706016001 562245025 751471001 732842021 610776...</td>\n",
       "    </tr>\n",
       "    <tr>\n",
       "      <th>1</th>\n",
       "      <td>0000423b00ade91418cceaf3b26c6af3dd342b51fd051e...</td>\n",
       "      <td>706016001 716672019 751471001 866218009 610776...</td>\n",
       "    </tr>\n",
       "    <tr>\n",
       "      <th>2</th>\n",
       "      <td>000058a12d5b43e67d225668fa1f8d618c13dc232df0ca...</td>\n",
       "      <td>706016001 751471001 610776002 372860002 918292...</td>\n",
       "    </tr>\n",
       "    <tr>\n",
       "      <th>3</th>\n",
       "      <td>00005ca1c9ed5f5146b52ac8639a40ca9d57aeff4d1bd2...</td>\n",
       "      <td>706016001 751471001 610776002 372860002 918292...</td>\n",
       "    </tr>\n",
       "    <tr>\n",
       "      <th>4</th>\n",
       "      <td>00006413d8573cd20ed7128e53b7b13819fe5cfc2d801f...</td>\n",
       "      <td>706016001 679854011 751471001 802871004 610776...</td>\n",
       "    </tr>\n",
       "  </tbody>\n",
       "</table>\n",
       "</div>"
      ],
      "text/plain": [
       "                                         customer_id  \\\n",
       "0  00000dbacae5abe5e23885899a1fa44253a17956c6d1c3...   \n",
       "1  0000423b00ade91418cceaf3b26c6af3dd342b51fd051e...   \n",
       "2  000058a12d5b43e67d225668fa1f8d618c13dc232df0ca...   \n",
       "3  00005ca1c9ed5f5146b52ac8639a40ca9d57aeff4d1bd2...   \n",
       "4  00006413d8573cd20ed7128e53b7b13819fe5cfc2d801f...   \n",
       "\n",
       "                                          prediction  \n",
       "0  706016001 562245025 751471001 732842021 610776...  \n",
       "1  706016001 716672019 751471001 866218009 610776...  \n",
       "2  706016001 751471001 610776002 372860002 918292...  \n",
       "3  706016001 751471001 610776002 372860002 918292...  \n",
       "4  706016001 679854011 751471001 802871004 610776...  "
      ]
     },
     "execution_count": 43,
     "metadata": {},
     "output_type": "execute_result"
    }
   ],
   "source": [
    "recommendations.head()"
   ]
  },
  {
   "cell_type": "code",
   "execution_count": 56,
   "id": "bcaa5ebc-d05f-4011-a5ef-29793fd13381",
   "metadata": {},
   "outputs": [
    {
     "data": {
      "text/html": [
       "<div>\n",
       "<style scoped>\n",
       "    .dataframe tbody tr th:only-of-type {\n",
       "        vertical-align: middle;\n",
       "    }\n",
       "\n",
       "    .dataframe tbody tr th {\n",
       "        vertical-align: top;\n",
       "    }\n",
       "\n",
       "    .dataframe thead th {\n",
       "        text-align: right;\n",
       "    }\n",
       "</style>\n",
       "<table border=\"1\" class=\"dataframe\">\n",
       "  <thead>\n",
       "    <tr style=\"text-align: right;\">\n",
       "      <th></th>\n",
       "      <th>customer_id</th>\n",
       "      <th>prediction</th>\n",
       "    </tr>\n",
       "  </thead>\n",
       "  <tbody>\n",
       "    <tr>\n",
       "      <th>0</th>\n",
       "      <td>00000dbacae5abe5e23885899a1fa44253a17956c6d1c3...</td>\n",
       "      <td>0706016001 0562245025 0751471001 0732842021 06...</td>\n",
       "    </tr>\n",
       "    <tr>\n",
       "      <th>1</th>\n",
       "      <td>0000423b00ade91418cceaf3b26c6af3dd342b51fd051e...</td>\n",
       "      <td>0706016001 0716672019 0751471001 0866218009 06...</td>\n",
       "    </tr>\n",
       "    <tr>\n",
       "      <th>2</th>\n",
       "      <td>000058a12d5b43e67d225668fa1f8d618c13dc232df0ca...</td>\n",
       "      <td>0706016001 0751471001 0610776002 0372860002 09...</td>\n",
       "    </tr>\n",
       "    <tr>\n",
       "      <th>3</th>\n",
       "      <td>00005ca1c9ed5f5146b52ac8639a40ca9d57aeff4d1bd2...</td>\n",
       "      <td>0706016001 0751471001 0610776002 0372860002 09...</td>\n",
       "    </tr>\n",
       "    <tr>\n",
       "      <th>4</th>\n",
       "      <td>00006413d8573cd20ed7128e53b7b13819fe5cfc2d801f...</td>\n",
       "      <td>0706016001 0679854011 0751471001 0802871004 06...</td>\n",
       "    </tr>\n",
       "  </tbody>\n",
       "</table>\n",
       "</div>"
      ],
      "text/plain": [
       "                                         customer_id  \\\n",
       "0  00000dbacae5abe5e23885899a1fa44253a17956c6d1c3...   \n",
       "1  0000423b00ade91418cceaf3b26c6af3dd342b51fd051e...   \n",
       "2  000058a12d5b43e67d225668fa1f8d618c13dc232df0ca...   \n",
       "3  00005ca1c9ed5f5146b52ac8639a40ca9d57aeff4d1bd2...   \n",
       "4  00006413d8573cd20ed7128e53b7b13819fe5cfc2d801f...   \n",
       "\n",
       "                                          prediction  \n",
       "0  0706016001 0562245025 0751471001 0732842021 06...  \n",
       "1  0706016001 0716672019 0751471001 0866218009 06...  \n",
       "2  0706016001 0751471001 0610776002 0372860002 09...  \n",
       "3  0706016001 0751471001 0610776002 0372860002 09...  \n",
       "4  0706016001 0679854011 0751471001 0802871004 06...  "
      ]
     },
     "execution_count": 56,
     "metadata": {},
     "output_type": "execute_result"
    }
   ],
   "source": [
    "# 提出用にarticle_idの文字列を整形\n",
    "recommendations.prediction = '0' + recommendations.prediction\n",
    "recommendations.prediction = recommendations.prediction.str.replace(' ', ' 0')\n",
    "recommendations.head()"
   ]
  },
  {
   "cell_type": "code",
   "execution_count": 57,
   "id": "686c8c21-571f-4d90-8fd8-77ac90ee4f41",
   "metadata": {
    "papermill": {
     "duration": 0.432432,
     "end_time": "2022-05-06T16:56:30.346980",
     "exception": false,
     "start_time": "2022-05-06T16:56:29.914548",
     "status": "completed"
    },
    "tags": []
   },
   "outputs": [],
   "source": [
    "# 予測結果をcsvファイルへ出力\n",
    "recommendations.to_csv('submission.csv', index = False)"
   ]
  }
 ],
 "metadata": {
  "kernelspec": {
   "display_name": "Python 3 (ipykernel)",
   "language": "python",
   "name": "python3"
  },
  "language_info": {
   "codemirror_mode": {
    "name": "ipython",
    "version": 3
   },
   "file_extension": ".py",
   "mimetype": "text/x-python",
   "name": "python",
   "nbconvert_exporter": "python",
   "pygments_lexer": "ipython3",
   "version": "3.9.12"
  },
  "papermill": {
   "default_parameters": {},
   "duration": 494.314583,
   "end_time": "2022-05-06T16:56:33.418449",
   "environment_variables": {},
   "exception": null,
   "input_path": "__notebook__.ipynb",
   "output_path": "__notebook__.ipynb",
   "parameters": {},
   "start_time": "2022-05-06T16:48:19.103866",
   "version": "2.3.4"
  }
 },
 "nbformat": 4,
 "nbformat_minor": 5
}
