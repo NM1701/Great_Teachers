{
  "cells": [
    {
      "cell_type": "markdown",
      "id": "0839b3f7",
      "metadata": {
        "papermill": {
          "duration": 0.02234,
          "end_time": "2022-04-30T17:34:06.627711",
          "exception": false,
          "start_time": "2022-04-30T17:34:06.605371",
          "status": "completed"
        },
        "tags": [],
        "id": "0839b3f7"
      },
      "source": [
        "# TensorFlow Recommender System (tfrs) を用いた予測モデル作成"
      ]
    },
    {
      "cell_type": "markdown",
      "id": "3fb81e98-e78e-4ec4-90cf-3a47aa40e3b9",
      "metadata": {
        "id": "3fb81e98-e78e-4ec4-90cf-3a47aa40e3b9"
      },
      "source": [
        "・tfrsはユーザーが商品を購入する履歴を利用してレコメンド結果を出力するシステムのモデル構築用ライブラリ\n",
        "\n",
        "・Tensorflowにはtfrs.tasks.Retrievalやtfrs.metrics.FactorizedTopKのようなモジュールが一通り用意されており、データ準備、モデル定式化、トレーニング、評価、展開までワンストップで行える。\n",
        "\n",
        "・TensorflowのScaNNライブラリは、与えられたクエリに対して最適な候補を取得するために使用できる。\n",
        "\n",
        "・今回は、これらのライブラリを用いて、12個のレコメンデーションを取得する。\n",
        "\n",
        "・使用データはcustomer_id, article_idのみとする。（顧客または商品のメタデータを入れた方が精度は良くなるかもしれないが、初回実装はシンプルに書く）"
      ]
    },
    {
      "cell_type": "code",
      "execution_count": 1,
      "id": "18c6a00c-5ada-42ed-b633-7d9df5103a20",
      "metadata": {
        "id": "18c6a00c-5ada-42ed-b633-7d9df5103a20",
        "outputId": "268a404e-1489-436d-8ea7-a1d4a042335d",
        "colab": {
          "base_uri": "https://localhost:8080/"
        }
      },
      "outputs": [
        {
          "output_type": "stream",
          "name": "stdout",
          "text": [
            "\u001b[K     |████████████████████████████████| 85 kB 717 kB/s \n",
            "\u001b[K     |████████████████████████████████| 11.2 MB 5.0 MB/s \n",
            "\u001b[K     |████████████████████████████████| 511.7 MB 5.7 kB/s \n",
            "\u001b[K     |████████████████████████████████| 438 kB 71.6 MB/s \n",
            "\u001b[K     |████████████████████████████████| 1.6 MB 53.1 MB/s \n",
            "\u001b[K     |████████████████████████████████| 5.8 MB 46.4 MB/s \n",
            "\u001b[?25h"
          ]
        }
      ],
      "source": [
        "!pip install -q tensorflow-recommenders\n",
        "!pip install -q scann"
      ]
    },
    {
      "cell_type": "code",
      "execution_count": 2,
      "id": "1f21fe21",
      "metadata": {
        "_kg_hide-output": true,
        "papermill": {
          "duration": 4.964267,
          "end_time": "2022-04-30T17:36:02.144124",
          "exception": false,
          "start_time": "2022-04-30T17:35:57.179857",
          "status": "completed"
        },
        "tags": [],
        "id": "1f21fe21"
      },
      "outputs": [],
      "source": [
        "# インポート\n",
        "import pandas as pd\n",
        "import numpy as np\n",
        "import tensorflow as tf\n",
        "import tensorflow_recommenders as tfrs\n",
        "from pathlib import Path\n",
        "from typing import Dict, Text"
      ]
    },
    {
      "cell_type": "code",
      "source": [
        "# Google colabで実行\n",
        "# csvファイルはGoogleDriveに要アップロード --colabに置くと毎回消える\n",
        "from google.colab import drive\n",
        "drive.mount('/content/drive')"
      ],
      "metadata": {
        "colab": {
          "base_uri": "https://localhost:8080/"
        },
        "id": "HG9LF3zsB-_k",
        "outputId": "96e8ed95-c1f0-4093-81d3-badc8071f9d6"
      },
      "id": "HG9LF3zsB-_k",
      "execution_count": 3,
      "outputs": [
        {
          "output_type": "stream",
          "name": "stdout",
          "text": [
            "Mounted at /content/drive\n"
          ]
        }
      ]
    },
    {
      "cell_type": "markdown",
      "id": "092809ee",
      "metadata": {
        "papermill": {
          "duration": 0.020329,
          "end_time": "2022-04-30T17:36:02.185079",
          "exception": false,
          "start_time": "2022-04-30T17:36:02.164750",
          "status": "completed"
        },
        "tags": [],
        "id": "092809ee"
      },
      "source": [
        "## データセットの準備"
      ]
    },
    {
      "cell_type": "code",
      "execution_count": 4,
      "id": "5e09e347",
      "metadata": {
        "papermill": {
          "duration": 81.61501,
          "end_time": "2022-04-30T17:37:23.819752",
          "exception": false,
          "start_time": "2022-04-30T17:36:02.204742",
          "status": "completed"
        },
        "tags": [],
        "id": "5e09e347",
        "colab": {
          "base_uri": "https://localhost:8080/",
          "height": 206
        },
        "outputId": "8da8a05e-5901-440d-88ce-4233ce6bf224"
      },
      "outputs": [
        {
          "output_type": "execute_result",
          "data": {
            "text/plain": [
              "               t_dat                                        customer_id  \\\n",
              "22886405  2020-03-01  0000423b00ade91418cceaf3b26c6af3dd342b51fd051e...   \n",
              "22886406  2020-03-01  0008968c0d451dbc5a9968da03196fe20051965edde741...   \n",
              "22886407  2020-03-01  001127bffdda108579e6cb16080440e89bf1250a776c6e...   \n",
              "22886408  2020-03-01  001127bffdda108579e6cb16080440e89bf1250a776c6e...   \n",
              "22886409  2020-03-01  00117f79ce61af038e143ee26448e8401fdbff51f48d5a...   \n",
              "\n",
              "          article_id     price  sales_channel_id  \n",
              "22886405  0751628002  0.022017                 1  \n",
              "22886406  0675662028  0.035576                 2  \n",
              "22886407  0821152004  0.025407                 2  \n",
              "22886408  0860738001  0.025407                 2  \n",
              "22886409  0822957002  0.045746                 2  "
            ],
            "text/html": [
              "\n",
              "  <div id=\"df-41b7d157-7d79-4dc9-ae6b-8ccc2b9d6a45\">\n",
              "    <div class=\"colab-df-container\">\n",
              "      <div>\n",
              "<style scoped>\n",
              "    .dataframe tbody tr th:only-of-type {\n",
              "        vertical-align: middle;\n",
              "    }\n",
              "\n",
              "    .dataframe tbody tr th {\n",
              "        vertical-align: top;\n",
              "    }\n",
              "\n",
              "    .dataframe thead th {\n",
              "        text-align: right;\n",
              "    }\n",
              "</style>\n",
              "<table border=\"1\" class=\"dataframe\">\n",
              "  <thead>\n",
              "    <tr style=\"text-align: right;\">\n",
              "      <th></th>\n",
              "      <th>t_dat</th>\n",
              "      <th>customer_id</th>\n",
              "      <th>article_id</th>\n",
              "      <th>price</th>\n",
              "      <th>sales_channel_id</th>\n",
              "    </tr>\n",
              "  </thead>\n",
              "  <tbody>\n",
              "    <tr>\n",
              "      <th>22886405</th>\n",
              "      <td>2020-03-01</td>\n",
              "      <td>0000423b00ade91418cceaf3b26c6af3dd342b51fd051e...</td>\n",
              "      <td>0751628002</td>\n",
              "      <td>0.022017</td>\n",
              "      <td>1</td>\n",
              "    </tr>\n",
              "    <tr>\n",
              "      <th>22886406</th>\n",
              "      <td>2020-03-01</td>\n",
              "      <td>0008968c0d451dbc5a9968da03196fe20051965edde741...</td>\n",
              "      <td>0675662028</td>\n",
              "      <td>0.035576</td>\n",
              "      <td>2</td>\n",
              "    </tr>\n",
              "    <tr>\n",
              "      <th>22886407</th>\n",
              "      <td>2020-03-01</td>\n",
              "      <td>001127bffdda108579e6cb16080440e89bf1250a776c6e...</td>\n",
              "      <td>0821152004</td>\n",
              "      <td>0.025407</td>\n",
              "      <td>2</td>\n",
              "    </tr>\n",
              "    <tr>\n",
              "      <th>22886408</th>\n",
              "      <td>2020-03-01</td>\n",
              "      <td>001127bffdda108579e6cb16080440e89bf1250a776c6e...</td>\n",
              "      <td>0860738001</td>\n",
              "      <td>0.025407</td>\n",
              "      <td>2</td>\n",
              "    </tr>\n",
              "    <tr>\n",
              "      <th>22886409</th>\n",
              "      <td>2020-03-01</td>\n",
              "      <td>00117f79ce61af038e143ee26448e8401fdbff51f48d5a...</td>\n",
              "      <td>0822957002</td>\n",
              "      <td>0.045746</td>\n",
              "      <td>2</td>\n",
              "    </tr>\n",
              "  </tbody>\n",
              "</table>\n",
              "</div>\n",
              "      <button class=\"colab-df-convert\" onclick=\"convertToInteractive('df-41b7d157-7d79-4dc9-ae6b-8ccc2b9d6a45')\"\n",
              "              title=\"Convert this dataframe to an interactive table.\"\n",
              "              style=\"display:none;\">\n",
              "        \n",
              "  <svg xmlns=\"http://www.w3.org/2000/svg\" height=\"24px\"viewBox=\"0 0 24 24\"\n",
              "       width=\"24px\">\n",
              "    <path d=\"M0 0h24v24H0V0z\" fill=\"none\"/>\n",
              "    <path d=\"M18.56 5.44l.94 2.06.94-2.06 2.06-.94-2.06-.94-.94-2.06-.94 2.06-2.06.94zm-11 1L8.5 8.5l.94-2.06 2.06-.94-2.06-.94L8.5 2.5l-.94 2.06-2.06.94zm10 10l.94 2.06.94-2.06 2.06-.94-2.06-.94-.94-2.06-.94 2.06-2.06.94z\"/><path d=\"M17.41 7.96l-1.37-1.37c-.4-.4-.92-.59-1.43-.59-.52 0-1.04.2-1.43.59L10.3 9.45l-7.72 7.72c-.78.78-.78 2.05 0 2.83L4 21.41c.39.39.9.59 1.41.59.51 0 1.02-.2 1.41-.59l7.78-7.78 2.81-2.81c.8-.78.8-2.07 0-2.86zM5.41 20L4 18.59l7.72-7.72 1.47 1.35L5.41 20z\"/>\n",
              "  </svg>\n",
              "      </button>\n",
              "      \n",
              "  <style>\n",
              "    .colab-df-container {\n",
              "      display:flex;\n",
              "      flex-wrap:wrap;\n",
              "      gap: 12px;\n",
              "    }\n",
              "\n",
              "    .colab-df-convert {\n",
              "      background-color: #E8F0FE;\n",
              "      border: none;\n",
              "      border-radius: 50%;\n",
              "      cursor: pointer;\n",
              "      display: none;\n",
              "      fill: #1967D2;\n",
              "      height: 32px;\n",
              "      padding: 0 0 0 0;\n",
              "      width: 32px;\n",
              "    }\n",
              "\n",
              "    .colab-df-convert:hover {\n",
              "      background-color: #E2EBFA;\n",
              "      box-shadow: 0px 1px 2px rgba(60, 64, 67, 0.3), 0px 1px 3px 1px rgba(60, 64, 67, 0.15);\n",
              "      fill: #174EA6;\n",
              "    }\n",
              "\n",
              "    [theme=dark] .colab-df-convert {\n",
              "      background-color: #3B4455;\n",
              "      fill: #D2E3FC;\n",
              "    }\n",
              "\n",
              "    [theme=dark] .colab-df-convert:hover {\n",
              "      background-color: #434B5C;\n",
              "      box-shadow: 0px 1px 3px 1px rgba(0, 0, 0, 0.15);\n",
              "      filter: drop-shadow(0px 1px 2px rgba(0, 0, 0, 0.3));\n",
              "      fill: #FFFFFF;\n",
              "    }\n",
              "  </style>\n",
              "\n",
              "      <script>\n",
              "        const buttonEl =\n",
              "          document.querySelector('#df-41b7d157-7d79-4dc9-ae6b-8ccc2b9d6a45 button.colab-df-convert');\n",
              "        buttonEl.style.display =\n",
              "          google.colab.kernel.accessAllowed ? 'block' : 'none';\n",
              "\n",
              "        async function convertToInteractive(key) {\n",
              "          const element = document.querySelector('#df-41b7d157-7d79-4dc9-ae6b-8ccc2b9d6a45');\n",
              "          const dataTable =\n",
              "            await google.colab.kernel.invokeFunction('convertToInteractive',\n",
              "                                                     [key], {});\n",
              "          if (!dataTable) return;\n",
              "\n",
              "          const docLinkHtml = 'Like what you see? Visit the ' +\n",
              "            '<a target=\"_blank\" href=https://colab.research.google.com/notebooks/data_table.ipynb>data table notebook</a>'\n",
              "            + ' to learn more about interactive tables.';\n",
              "          element.innerHTML = '';\n",
              "          dataTable['output_type'] = 'display_data';\n",
              "          await google.colab.output.renderOutput(dataTable, element);\n",
              "          const docLink = document.createElement('div');\n",
              "          docLink.innerHTML = docLinkHtml;\n",
              "          element.appendChild(docLink);\n",
              "        }\n",
              "      </script>\n",
              "    </div>\n",
              "  </div>\n",
              "  "
            ]
          },
          "metadata": {},
          "execution_count": 4
        }
      ],
      "source": [
        "# データ読み込み\n",
        "transactions = pd.read_csv(\"/content/drive/MyDrive/Colab Notebooks/transactions_rakus_train.csv\", dtype = {'article_id':str})\n",
        "\n",
        "# 2020-03-01以降のデータのみに絞る\n",
        "transactions = transactions[transactions['t_dat'] >= '2020-03-01']\n",
        "\n",
        "# article_idの冒頭に'0'を付け加える\n",
        "transactions['article_id'] = transactions['article_id'].apply(lambda x: x.zfill(10))\n",
        "transactions.head()"
      ]
    },
    {
      "cell_type": "code",
      "execution_count": 5,
      "id": "2eb9f6bf",
      "metadata": {
        "papermill": {
          "duration": 6.373194,
          "end_time": "2022-04-30T17:37:30.213215",
          "exception": false,
          "start_time": "2022-04-30T17:37:23.840021",
          "status": "completed"
        },
        "tags": [],
        "id": "2eb9f6bf",
        "colab": {
          "base_uri": "https://localhost:8080/",
          "height": 270
        },
        "outputId": "65ad411e-2c4f-418f-f4c4-dd36861c2de7"
      },
      "outputs": [
        {
          "output_type": "execute_result",
          "data": {
            "text/plain": [
              "                                         customer_id   FN  Active  \\\n",
              "0  00000dbacae5abe5e23885899a1fa44253a17956c6d1c3...  NaN     NaN   \n",
              "1  0000423b00ade91418cceaf3b26c6af3dd342b51fd051e...  NaN     NaN   \n",
              "2  000058a12d5b43e67d225668fa1f8d618c13dc232df0ca...  NaN     NaN   \n",
              "3  00005ca1c9ed5f5146b52ac8639a40ca9d57aeff4d1bd2...  NaN     NaN   \n",
              "4  00006413d8573cd20ed7128e53b7b13819fe5cfc2d801f...  1.0     1.0   \n",
              "\n",
              "  club_member_status fashion_news_frequency   age  \\\n",
              "0             ACTIVE                   NONE  49.0   \n",
              "1             ACTIVE                   NONE  25.0   \n",
              "2             ACTIVE                   NONE  24.0   \n",
              "3             ACTIVE                   NONE  54.0   \n",
              "4             ACTIVE              Regularly  52.0   \n",
              "\n",
              "                                         postal_code  \n",
              "0  52043ee2162cf5aa7ee79974281641c6f11a68d276429a...  \n",
              "1  2973abc54daa8a5f8ccfe9362140c63247c5eee03f1d93...  \n",
              "2  64f17e6a330a85798e4998f62d0930d14db8db1c054af6...  \n",
              "3  5d36574f52495e81f019b680c843c443bd343d5ca5b1c2...  \n",
              "4  25fa5ddee9aac01b35208d01736e57942317d756b32ddd...  "
            ],
            "text/html": [
              "\n",
              "  <div id=\"df-b0fc9ee9-b7d9-4556-8cc1-9183c4a8e7a6\">\n",
              "    <div class=\"colab-df-container\">\n",
              "      <div>\n",
              "<style scoped>\n",
              "    .dataframe tbody tr th:only-of-type {\n",
              "        vertical-align: middle;\n",
              "    }\n",
              "\n",
              "    .dataframe tbody tr th {\n",
              "        vertical-align: top;\n",
              "    }\n",
              "\n",
              "    .dataframe thead th {\n",
              "        text-align: right;\n",
              "    }\n",
              "</style>\n",
              "<table border=\"1\" class=\"dataframe\">\n",
              "  <thead>\n",
              "    <tr style=\"text-align: right;\">\n",
              "      <th></th>\n",
              "      <th>customer_id</th>\n",
              "      <th>FN</th>\n",
              "      <th>Active</th>\n",
              "      <th>club_member_status</th>\n",
              "      <th>fashion_news_frequency</th>\n",
              "      <th>age</th>\n",
              "      <th>postal_code</th>\n",
              "    </tr>\n",
              "  </thead>\n",
              "  <tbody>\n",
              "    <tr>\n",
              "      <th>0</th>\n",
              "      <td>00000dbacae5abe5e23885899a1fa44253a17956c6d1c3...</td>\n",
              "      <td>NaN</td>\n",
              "      <td>NaN</td>\n",
              "      <td>ACTIVE</td>\n",
              "      <td>NONE</td>\n",
              "      <td>49.0</td>\n",
              "      <td>52043ee2162cf5aa7ee79974281641c6f11a68d276429a...</td>\n",
              "    </tr>\n",
              "    <tr>\n",
              "      <th>1</th>\n",
              "      <td>0000423b00ade91418cceaf3b26c6af3dd342b51fd051e...</td>\n",
              "      <td>NaN</td>\n",
              "      <td>NaN</td>\n",
              "      <td>ACTIVE</td>\n",
              "      <td>NONE</td>\n",
              "      <td>25.0</td>\n",
              "      <td>2973abc54daa8a5f8ccfe9362140c63247c5eee03f1d93...</td>\n",
              "    </tr>\n",
              "    <tr>\n",
              "      <th>2</th>\n",
              "      <td>000058a12d5b43e67d225668fa1f8d618c13dc232df0ca...</td>\n",
              "      <td>NaN</td>\n",
              "      <td>NaN</td>\n",
              "      <td>ACTIVE</td>\n",
              "      <td>NONE</td>\n",
              "      <td>24.0</td>\n",
              "      <td>64f17e6a330a85798e4998f62d0930d14db8db1c054af6...</td>\n",
              "    </tr>\n",
              "    <tr>\n",
              "      <th>3</th>\n",
              "      <td>00005ca1c9ed5f5146b52ac8639a40ca9d57aeff4d1bd2...</td>\n",
              "      <td>NaN</td>\n",
              "      <td>NaN</td>\n",
              "      <td>ACTIVE</td>\n",
              "      <td>NONE</td>\n",
              "      <td>54.0</td>\n",
              "      <td>5d36574f52495e81f019b680c843c443bd343d5ca5b1c2...</td>\n",
              "    </tr>\n",
              "    <tr>\n",
              "      <th>4</th>\n",
              "      <td>00006413d8573cd20ed7128e53b7b13819fe5cfc2d801f...</td>\n",
              "      <td>1.0</td>\n",
              "      <td>1.0</td>\n",
              "      <td>ACTIVE</td>\n",
              "      <td>Regularly</td>\n",
              "      <td>52.0</td>\n",
              "      <td>25fa5ddee9aac01b35208d01736e57942317d756b32ddd...</td>\n",
              "    </tr>\n",
              "  </tbody>\n",
              "</table>\n",
              "</div>\n",
              "      <button class=\"colab-df-convert\" onclick=\"convertToInteractive('df-b0fc9ee9-b7d9-4556-8cc1-9183c4a8e7a6')\"\n",
              "              title=\"Convert this dataframe to an interactive table.\"\n",
              "              style=\"display:none;\">\n",
              "        \n",
              "  <svg xmlns=\"http://www.w3.org/2000/svg\" height=\"24px\"viewBox=\"0 0 24 24\"\n",
              "       width=\"24px\">\n",
              "    <path d=\"M0 0h24v24H0V0z\" fill=\"none\"/>\n",
              "    <path d=\"M18.56 5.44l.94 2.06.94-2.06 2.06-.94-2.06-.94-.94-2.06-.94 2.06-2.06.94zm-11 1L8.5 8.5l.94-2.06 2.06-.94-2.06-.94L8.5 2.5l-.94 2.06-2.06.94zm10 10l.94 2.06.94-2.06 2.06-.94-2.06-.94-.94-2.06-.94 2.06-2.06.94z\"/><path d=\"M17.41 7.96l-1.37-1.37c-.4-.4-.92-.59-1.43-.59-.52 0-1.04.2-1.43.59L10.3 9.45l-7.72 7.72c-.78.78-.78 2.05 0 2.83L4 21.41c.39.39.9.59 1.41.59.51 0 1.02-.2 1.41-.59l7.78-7.78 2.81-2.81c.8-.78.8-2.07 0-2.86zM5.41 20L4 18.59l7.72-7.72 1.47 1.35L5.41 20z\"/>\n",
              "  </svg>\n",
              "      </button>\n",
              "      \n",
              "  <style>\n",
              "    .colab-df-container {\n",
              "      display:flex;\n",
              "      flex-wrap:wrap;\n",
              "      gap: 12px;\n",
              "    }\n",
              "\n",
              "    .colab-df-convert {\n",
              "      background-color: #E8F0FE;\n",
              "      border: none;\n",
              "      border-radius: 50%;\n",
              "      cursor: pointer;\n",
              "      display: none;\n",
              "      fill: #1967D2;\n",
              "      height: 32px;\n",
              "      padding: 0 0 0 0;\n",
              "      width: 32px;\n",
              "    }\n",
              "\n",
              "    .colab-df-convert:hover {\n",
              "      background-color: #E2EBFA;\n",
              "      box-shadow: 0px 1px 2px rgba(60, 64, 67, 0.3), 0px 1px 3px 1px rgba(60, 64, 67, 0.15);\n",
              "      fill: #174EA6;\n",
              "    }\n",
              "\n",
              "    [theme=dark] .colab-df-convert {\n",
              "      background-color: #3B4455;\n",
              "      fill: #D2E3FC;\n",
              "    }\n",
              "\n",
              "    [theme=dark] .colab-df-convert:hover {\n",
              "      background-color: #434B5C;\n",
              "      box-shadow: 0px 1px 3px 1px rgba(0, 0, 0, 0.15);\n",
              "      filter: drop-shadow(0px 1px 2px rgba(0, 0, 0, 0.3));\n",
              "      fill: #FFFFFF;\n",
              "    }\n",
              "  </style>\n",
              "\n",
              "      <script>\n",
              "        const buttonEl =\n",
              "          document.querySelector('#df-b0fc9ee9-b7d9-4556-8cc1-9183c4a8e7a6 button.colab-df-convert');\n",
              "        buttonEl.style.display =\n",
              "          google.colab.kernel.accessAllowed ? 'block' : 'none';\n",
              "\n",
              "        async function convertToInteractive(key) {\n",
              "          const element = document.querySelector('#df-b0fc9ee9-b7d9-4556-8cc1-9183c4a8e7a6');\n",
              "          const dataTable =\n",
              "            await google.colab.kernel.invokeFunction('convertToInteractive',\n",
              "                                                     [key], {});\n",
              "          if (!dataTable) return;\n",
              "\n",
              "          const docLinkHtml = 'Like what you see? Visit the ' +\n",
              "            '<a target=\"_blank\" href=https://colab.research.google.com/notebooks/data_table.ipynb>data table notebook</a>'\n",
              "            + ' to learn more about interactive tables.';\n",
              "          element.innerHTML = '';\n",
              "          dataTable['output_type'] = 'display_data';\n",
              "          await google.colab.output.renderOutput(dataTable, element);\n",
              "          const docLink = document.createElement('div');\n",
              "          docLink.innerHTML = docLinkHtml;\n",
              "          element.appendChild(docLink);\n",
              "        }\n",
              "      </script>\n",
              "    </div>\n",
              "  </div>\n",
              "  "
            ]
          },
          "metadata": {},
          "execution_count": 5
        }
      ],
      "source": [
        "customers = pd.read_csv(\"/content/drive/MyDrive/Colab Notebooks/customers_rakus.csv\")\n",
        "customers.head()"
      ]
    },
    {
      "cell_type": "code",
      "execution_count": 6,
      "id": "1a2bef4d",
      "metadata": {
        "papermill": {
          "duration": 1.537539,
          "end_time": "2022-04-30T17:37:31.772457",
          "exception": false,
          "start_time": "2022-04-30T17:37:30.234918",
          "status": "completed"
        },
        "tags": [],
        "id": "1a2bef4d",
        "colab": {
          "base_uri": "https://localhost:8080/",
          "height": 594
        },
        "outputId": "862619a2-07ad-4202-e37b-1495d2c8696a"
      },
      "outputs": [
        {
          "output_type": "execute_result",
          "data": {
            "text/plain": [
              "   article_id  product_code          prod_name  product_type_no  \\\n",
              "0  0108775015        108775          Strap top              253   \n",
              "1  0108775044        108775          Strap top              253   \n",
              "2  0108775051        108775      Strap top (1)              253   \n",
              "3  0110065001        110065  OP T-shirt (Idro)              306   \n",
              "4  0110065002        110065  OP T-shirt (Idro)              306   \n",
              "\n",
              "  product_type_name  product_group_name  graphical_appearance_no  \\\n",
              "0          Vest top  Garment Upper body                  1010016   \n",
              "1          Vest top  Garment Upper body                  1010016   \n",
              "2          Vest top  Garment Upper body                  1010017   \n",
              "3               Bra           Underwear                  1010016   \n",
              "4               Bra           Underwear                  1010016   \n",
              "\n",
              "  graphical_appearance_name  colour_group_code colour_group_name  ...  \\\n",
              "0                     Solid                  9             Black  ...   \n",
              "1                     Solid                 10             White  ...   \n",
              "2                    Stripe                 11         Off White  ...   \n",
              "3                     Solid                  9             Black  ...   \n",
              "4                     Solid                 10             White  ...   \n",
              "\n",
              "   department_name index_code        index_name index_group_no  \\\n",
              "0     Jersey Basic          A        Ladieswear              1   \n",
              "1     Jersey Basic          A        Ladieswear              1   \n",
              "2     Jersey Basic          A        Ladieswear              1   \n",
              "3   Clean Lingerie          B  Lingeries/Tights              1   \n",
              "4   Clean Lingerie          B  Lingeries/Tights              1   \n",
              "\n",
              "   index_group_name section_no            section_name garment_group_no  \\\n",
              "0        Ladieswear         16  Womens Everyday Basics             1002   \n",
              "1        Ladieswear         16  Womens Everyday Basics             1002   \n",
              "2        Ladieswear         16  Womens Everyday Basics             1002   \n",
              "3        Ladieswear         61         Womens Lingerie             1017   \n",
              "4        Ladieswear         61         Womens Lingerie             1017   \n",
              "\n",
              "   garment_group_name                                        detail_desc  \n",
              "0        Jersey Basic            Jersey top with narrow shoulder straps.  \n",
              "1        Jersey Basic            Jersey top with narrow shoulder straps.  \n",
              "2        Jersey Basic            Jersey top with narrow shoulder straps.  \n",
              "3   Under-, Nightwear  Microfibre T-shirt bra with underwired, moulde...  \n",
              "4   Under-, Nightwear  Microfibre T-shirt bra with underwired, moulde...  \n",
              "\n",
              "[5 rows x 25 columns]"
            ],
            "text/html": [
              "\n",
              "  <div id=\"df-92d982f4-88ea-4363-ab37-2015dfdc6397\">\n",
              "    <div class=\"colab-df-container\">\n",
              "      <div>\n",
              "<style scoped>\n",
              "    .dataframe tbody tr th:only-of-type {\n",
              "        vertical-align: middle;\n",
              "    }\n",
              "\n",
              "    .dataframe tbody tr th {\n",
              "        vertical-align: top;\n",
              "    }\n",
              "\n",
              "    .dataframe thead th {\n",
              "        text-align: right;\n",
              "    }\n",
              "</style>\n",
              "<table border=\"1\" class=\"dataframe\">\n",
              "  <thead>\n",
              "    <tr style=\"text-align: right;\">\n",
              "      <th></th>\n",
              "      <th>article_id</th>\n",
              "      <th>product_code</th>\n",
              "      <th>prod_name</th>\n",
              "      <th>product_type_no</th>\n",
              "      <th>product_type_name</th>\n",
              "      <th>product_group_name</th>\n",
              "      <th>graphical_appearance_no</th>\n",
              "      <th>graphical_appearance_name</th>\n",
              "      <th>colour_group_code</th>\n",
              "      <th>colour_group_name</th>\n",
              "      <th>...</th>\n",
              "      <th>department_name</th>\n",
              "      <th>index_code</th>\n",
              "      <th>index_name</th>\n",
              "      <th>index_group_no</th>\n",
              "      <th>index_group_name</th>\n",
              "      <th>section_no</th>\n",
              "      <th>section_name</th>\n",
              "      <th>garment_group_no</th>\n",
              "      <th>garment_group_name</th>\n",
              "      <th>detail_desc</th>\n",
              "    </tr>\n",
              "  </thead>\n",
              "  <tbody>\n",
              "    <tr>\n",
              "      <th>0</th>\n",
              "      <td>0108775015</td>\n",
              "      <td>108775</td>\n",
              "      <td>Strap top</td>\n",
              "      <td>253</td>\n",
              "      <td>Vest top</td>\n",
              "      <td>Garment Upper body</td>\n",
              "      <td>1010016</td>\n",
              "      <td>Solid</td>\n",
              "      <td>9</td>\n",
              "      <td>Black</td>\n",
              "      <td>...</td>\n",
              "      <td>Jersey Basic</td>\n",
              "      <td>A</td>\n",
              "      <td>Ladieswear</td>\n",
              "      <td>1</td>\n",
              "      <td>Ladieswear</td>\n",
              "      <td>16</td>\n",
              "      <td>Womens Everyday Basics</td>\n",
              "      <td>1002</td>\n",
              "      <td>Jersey Basic</td>\n",
              "      <td>Jersey top with narrow shoulder straps.</td>\n",
              "    </tr>\n",
              "    <tr>\n",
              "      <th>1</th>\n",
              "      <td>0108775044</td>\n",
              "      <td>108775</td>\n",
              "      <td>Strap top</td>\n",
              "      <td>253</td>\n",
              "      <td>Vest top</td>\n",
              "      <td>Garment Upper body</td>\n",
              "      <td>1010016</td>\n",
              "      <td>Solid</td>\n",
              "      <td>10</td>\n",
              "      <td>White</td>\n",
              "      <td>...</td>\n",
              "      <td>Jersey Basic</td>\n",
              "      <td>A</td>\n",
              "      <td>Ladieswear</td>\n",
              "      <td>1</td>\n",
              "      <td>Ladieswear</td>\n",
              "      <td>16</td>\n",
              "      <td>Womens Everyday Basics</td>\n",
              "      <td>1002</td>\n",
              "      <td>Jersey Basic</td>\n",
              "      <td>Jersey top with narrow shoulder straps.</td>\n",
              "    </tr>\n",
              "    <tr>\n",
              "      <th>2</th>\n",
              "      <td>0108775051</td>\n",
              "      <td>108775</td>\n",
              "      <td>Strap top (1)</td>\n",
              "      <td>253</td>\n",
              "      <td>Vest top</td>\n",
              "      <td>Garment Upper body</td>\n",
              "      <td>1010017</td>\n",
              "      <td>Stripe</td>\n",
              "      <td>11</td>\n",
              "      <td>Off White</td>\n",
              "      <td>...</td>\n",
              "      <td>Jersey Basic</td>\n",
              "      <td>A</td>\n",
              "      <td>Ladieswear</td>\n",
              "      <td>1</td>\n",
              "      <td>Ladieswear</td>\n",
              "      <td>16</td>\n",
              "      <td>Womens Everyday Basics</td>\n",
              "      <td>1002</td>\n",
              "      <td>Jersey Basic</td>\n",
              "      <td>Jersey top with narrow shoulder straps.</td>\n",
              "    </tr>\n",
              "    <tr>\n",
              "      <th>3</th>\n",
              "      <td>0110065001</td>\n",
              "      <td>110065</td>\n",
              "      <td>OP T-shirt (Idro)</td>\n",
              "      <td>306</td>\n",
              "      <td>Bra</td>\n",
              "      <td>Underwear</td>\n",
              "      <td>1010016</td>\n",
              "      <td>Solid</td>\n",
              "      <td>9</td>\n",
              "      <td>Black</td>\n",
              "      <td>...</td>\n",
              "      <td>Clean Lingerie</td>\n",
              "      <td>B</td>\n",
              "      <td>Lingeries/Tights</td>\n",
              "      <td>1</td>\n",
              "      <td>Ladieswear</td>\n",
              "      <td>61</td>\n",
              "      <td>Womens Lingerie</td>\n",
              "      <td>1017</td>\n",
              "      <td>Under-, Nightwear</td>\n",
              "      <td>Microfibre T-shirt bra with underwired, moulde...</td>\n",
              "    </tr>\n",
              "    <tr>\n",
              "      <th>4</th>\n",
              "      <td>0110065002</td>\n",
              "      <td>110065</td>\n",
              "      <td>OP T-shirt (Idro)</td>\n",
              "      <td>306</td>\n",
              "      <td>Bra</td>\n",
              "      <td>Underwear</td>\n",
              "      <td>1010016</td>\n",
              "      <td>Solid</td>\n",
              "      <td>10</td>\n",
              "      <td>White</td>\n",
              "      <td>...</td>\n",
              "      <td>Clean Lingerie</td>\n",
              "      <td>B</td>\n",
              "      <td>Lingeries/Tights</td>\n",
              "      <td>1</td>\n",
              "      <td>Ladieswear</td>\n",
              "      <td>61</td>\n",
              "      <td>Womens Lingerie</td>\n",
              "      <td>1017</td>\n",
              "      <td>Under-, Nightwear</td>\n",
              "      <td>Microfibre T-shirt bra with underwired, moulde...</td>\n",
              "    </tr>\n",
              "  </tbody>\n",
              "</table>\n",
              "<p>5 rows × 25 columns</p>\n",
              "</div>\n",
              "      <button class=\"colab-df-convert\" onclick=\"convertToInteractive('df-92d982f4-88ea-4363-ab37-2015dfdc6397')\"\n",
              "              title=\"Convert this dataframe to an interactive table.\"\n",
              "              style=\"display:none;\">\n",
              "        \n",
              "  <svg xmlns=\"http://www.w3.org/2000/svg\" height=\"24px\"viewBox=\"0 0 24 24\"\n",
              "       width=\"24px\">\n",
              "    <path d=\"M0 0h24v24H0V0z\" fill=\"none\"/>\n",
              "    <path d=\"M18.56 5.44l.94 2.06.94-2.06 2.06-.94-2.06-.94-.94-2.06-.94 2.06-2.06.94zm-11 1L8.5 8.5l.94-2.06 2.06-.94-2.06-.94L8.5 2.5l-.94 2.06-2.06.94zm10 10l.94 2.06.94-2.06 2.06-.94-2.06-.94-.94-2.06-.94 2.06-2.06.94z\"/><path d=\"M17.41 7.96l-1.37-1.37c-.4-.4-.92-.59-1.43-.59-.52 0-1.04.2-1.43.59L10.3 9.45l-7.72 7.72c-.78.78-.78 2.05 0 2.83L4 21.41c.39.39.9.59 1.41.59.51 0 1.02-.2 1.41-.59l7.78-7.78 2.81-2.81c.8-.78.8-2.07 0-2.86zM5.41 20L4 18.59l7.72-7.72 1.47 1.35L5.41 20z\"/>\n",
              "  </svg>\n",
              "      </button>\n",
              "      \n",
              "  <style>\n",
              "    .colab-df-container {\n",
              "      display:flex;\n",
              "      flex-wrap:wrap;\n",
              "      gap: 12px;\n",
              "    }\n",
              "\n",
              "    .colab-df-convert {\n",
              "      background-color: #E8F0FE;\n",
              "      border: none;\n",
              "      border-radius: 50%;\n",
              "      cursor: pointer;\n",
              "      display: none;\n",
              "      fill: #1967D2;\n",
              "      height: 32px;\n",
              "      padding: 0 0 0 0;\n",
              "      width: 32px;\n",
              "    }\n",
              "\n",
              "    .colab-df-convert:hover {\n",
              "      background-color: #E2EBFA;\n",
              "      box-shadow: 0px 1px 2px rgba(60, 64, 67, 0.3), 0px 1px 3px 1px rgba(60, 64, 67, 0.15);\n",
              "      fill: #174EA6;\n",
              "    }\n",
              "\n",
              "    [theme=dark] .colab-df-convert {\n",
              "      background-color: #3B4455;\n",
              "      fill: #D2E3FC;\n",
              "    }\n",
              "\n",
              "    [theme=dark] .colab-df-convert:hover {\n",
              "      background-color: #434B5C;\n",
              "      box-shadow: 0px 1px 3px 1px rgba(0, 0, 0, 0.15);\n",
              "      filter: drop-shadow(0px 1px 2px rgba(0, 0, 0, 0.3));\n",
              "      fill: #FFFFFF;\n",
              "    }\n",
              "  </style>\n",
              "\n",
              "      <script>\n",
              "        const buttonEl =\n",
              "          document.querySelector('#df-92d982f4-88ea-4363-ab37-2015dfdc6397 button.colab-df-convert');\n",
              "        buttonEl.style.display =\n",
              "          google.colab.kernel.accessAllowed ? 'block' : 'none';\n",
              "\n",
              "        async function convertToInteractive(key) {\n",
              "          const element = document.querySelector('#df-92d982f4-88ea-4363-ab37-2015dfdc6397');\n",
              "          const dataTable =\n",
              "            await google.colab.kernel.invokeFunction('convertToInteractive',\n",
              "                                                     [key], {});\n",
              "          if (!dataTable) return;\n",
              "\n",
              "          const docLinkHtml = 'Like what you see? Visit the ' +\n",
              "            '<a target=\"_blank\" href=https://colab.research.google.com/notebooks/data_table.ipynb>data table notebook</a>'\n",
              "            + ' to learn more about interactive tables.';\n",
              "          element.innerHTML = '';\n",
              "          dataTable['output_type'] = 'display_data';\n",
              "          await google.colab.output.renderOutput(dataTable, element);\n",
              "          const docLink = document.createElement('div');\n",
              "          docLink.innerHTML = docLinkHtml;\n",
              "          element.appendChild(docLink);\n",
              "        }\n",
              "      </script>\n",
              "    </div>\n",
              "  </div>\n",
              "  "
            ]
          },
          "metadata": {},
          "execution_count": 6
        }
      ],
      "source": [
        "articles = pd.read_csv(\"/content/drive/MyDrive/Colab Notebooks/articles.csv\", dtype = {'article_id':str})\n",
        "\n",
        "# article_idの冒頭に'0'を付け加える\n",
        "articles['article_id'] = articles['article_id'].apply(lambda x: x.zfill(10))\n",
        "articles.head()"
      ]
    },
    {
      "cell_type": "code",
      "execution_count": 7,
      "id": "34e98fb6",
      "metadata": {
        "_kg_hide-output": true,
        "papermill": {
          "duration": 0.842681,
          "end_time": "2022-04-30T17:37:32.688151",
          "exception": false,
          "start_time": "2022-04-30T17:37:31.845470",
          "status": "completed"
        },
        "tags": [],
        "id": "34e98fb6"
      },
      "outputs": [],
      "source": [
        "# データ生成\n",
        "unique_customer_ids = customers.customer_id.unique()\n",
        "unique_article_ids = articles.article_id.unique()\n",
        "\n",
        "article_ds = tf.data.Dataset.from_tensor_slices(dict(articles[['article_id']]))\n",
        "articles_var = article_ds.map(lambda x: x['article_id'])"
      ]
    },
    {
      "cell_type": "markdown",
      "id": "c98b2e4e",
      "metadata": {
        "papermill": {
          "duration": 0.027553,
          "end_time": "2022-04-30T17:37:32.744151",
          "exception": false,
          "start_time": "2022-04-30T17:37:32.716598",
          "status": "completed"
        },
        "tags": [],
        "id": "c98b2e4e"
      },
      "source": [
        "## モデルの構築"
      ]
    },
    {
      "cell_type": "code",
      "execution_count": 8,
      "id": "62393654",
      "metadata": {
        "papermill": {
          "duration": 1.490855,
          "end_time": "2022-04-30T17:37:34.258838",
          "exception": false,
          "start_time": "2022-04-30T17:37:32.767983",
          "status": "completed"
        },
        "tags": [],
        "id": "62393654"
      },
      "outputs": [],
      "source": [
        "embedding_dimension = 64\n",
        "\n",
        "# Query Modelの作成  -customer_idのベクトル変換-\n",
        "customer_model = tf.keras.Sequential([\n",
        "  # 文字列のカテゴリ値を整数インデックスに変換するレイヤー （Embedding層で読み込めるようにエンコーディング）\n",
        "  tf.keras.layers.StringLookup(vocabulary = unique_customer_ids, mask_token = None),\n",
        "  # 正の整数インデックスをベクトルに変換\n",
        "  tf.keras.layers.Embedding(len(unique_customer_ids) + 1, embedding_dimension)\n",
        "])"
      ]
    },
    {
      "cell_type": "code",
      "execution_count": 9,
      "id": "c4025aeb",
      "metadata": {
        "papermill": {
          "duration": 0.078002,
          "end_time": "2022-04-30T17:37:34.362335",
          "exception": false,
          "start_time": "2022-04-30T17:37:34.284333",
          "status": "completed"
        },
        "tags": [],
        "id": "c4025aeb"
      },
      "outputs": [],
      "source": [
        "# Candidate Modelの作成  -article_idのベクトル変換-\n",
        "article_model = tf.keras.Sequential([\n",
        "  tf.keras.layers.StringLookup(vocabulary = unique_article_ids, mask_token = None),\n",
        "  tf.keras.layers.Embedding(len(unique_article_ids) + 1, embedding_dimension)\n",
        "])"
      ]
    },
    {
      "cell_type": "code",
      "execution_count": 10,
      "id": "d1638168",
      "metadata": {
        "papermill": {
          "duration": 0.033981,
          "end_time": "2022-04-30T17:37:34.418863",
          "exception": false,
          "start_time": "2022-04-30T17:37:34.384882",
          "status": "completed"
        },
        "tags": [],
        "id": "d1638168"
      },
      "outputs": [],
      "source": [
        "# 学習・予測モデルの定義\n",
        "# Retrieval Model  -customer_idとarticle_idを掛け合わせ、親和性の高いデータ同士を検索する-\n",
        "class HandMModel(tfrs.Model):\n",
        "    \n",
        "    # コンストラクタ\n",
        "    def __init__(self, customer_model, article_model):\n",
        "        super().__init__()\n",
        "        self.article_model: tf.keras.Model = article_model\n",
        "        self.customer_model: tf.keras.Model = customer_model\n",
        "        # tfrs.metrics.FactorizedTopKを用いてqueryとcandidateのデータ間の「近さ」を算出\n",
        "        self.task = tfrs.tasks.Retrieval(\n",
        "        metrics = tfrs.metrics.FactorizedTopK(\n",
        "            candidates = articles_var.batch(128).map(self.article_model),            \n",
        "            ),\n",
        "        )        \n",
        "\n",
        "    # 損失と評価を両方行う関数を定義\n",
        "    def compute_loss(self, features: Dict[str, tf.Tensor], training = False) -> tf.Tensor:\n",
        "    \n",
        "        customer_embeddings = self.customer_model(features[\"customer_id\"])    \n",
        "        article_embeddings = self.article_model(features[\"article_id\"])\n",
        "\n",
        "        return self.task(customer_embeddings, article_embeddings, compute_metrics = not training)"
      ]
    },
    {
      "cell_type": "markdown",
      "id": "0ae773be",
      "metadata": {
        "papermill": {
          "duration": 0.022256,
          "end_time": "2022-04-30T17:37:34.466155",
          "exception": false,
          "start_time": "2022-04-30T17:37:34.443899",
          "status": "completed"
        },
        "tags": [],
        "id": "0ae773be"
      },
      "source": [
        "## 訓練・検証"
      ]
    },
    {
      "cell_type": "code",
      "execution_count": 11,
      "id": "9900f6f1",
      "metadata": {
        "papermill": {
          "duration": 0.399598,
          "end_time": "2022-04-30T17:37:34.888252",
          "exception": false,
          "start_time": "2022-04-30T17:37:34.488654",
          "status": "completed"
        },
        "tags": [],
        "id": "9900f6f1"
      },
      "outputs": [],
      "source": [
        "# モデルのインスタンス生成\n",
        "model = HandMModel(customer_model, article_model)\n",
        "model.compile(optimizer = tf.keras.optimizers.Adagrad(learning_rate = 0.1))"
      ]
    },
    {
      "cell_type": "code",
      "execution_count": 12,
      "id": "dd0471c2",
      "metadata": {
        "_kg_hide-output": true,
        "papermill": {
          "duration": 0.508485,
          "end_time": "2022-04-30T17:37:35.420230",
          "exception": false,
          "start_time": "2022-04-30T17:37:34.911745",
          "status": "completed"
        },
        "tags": [],
        "id": "dd0471c2",
        "colab": {
          "base_uri": "https://localhost:8080/",
          "height": 36
        },
        "outputId": "5cde4ebc-25bc-484f-ef56-56c34761f63f"
      },
      "outputs": [
        {
          "output_type": "execute_result",
          "data": {
            "text/plain": [
              "'\\n\\nhistory = model.fit(\\n    train_ds, \\n    validation_data = test_ds,\\n    validation_freq=5,\\n    epochs=num_epochs,\\n    verbose=1)\\n\\n'"
            ],
            "application/vnd.google.colaboratory.intrinsic+json": {
              "type": "string"
            }
          },
          "metadata": {},
          "execution_count": 12
        }
      ],
      "source": [
        "# 訓練用と検証用に分割\n",
        "train = transactions[transactions['t_dat'] < '2020-08-31'] # 3-8月のデータを使用\n",
        "test = transactions[transactions['t_dat'] >= '2020-08-31'] # 最後の1週間を検証に使用\n",
        "\n",
        "# データのシャッフル、バッチ化、キャッシュ\n",
        "train_ds = tf.data.Dataset.from_tensor_slices(dict(train[['customer_id','article_id']])).shuffle(100_000).batch(256).cache()\n",
        "test_ds = tf.data.Dataset.from_tensor_slices(dict(test[['customer_id','article_id']])).batch(256).cache()\n",
        "\n",
        "# エポック数\n",
        "num_epochs = 5\n",
        "\n",
        "'''\n",
        "\n",
        "history = model.fit(\n",
        "    train_ds, \n",
        "    validation_data = test_ds,\n",
        "    validation_freq=5,\n",
        "    epochs=num_epochs,\n",
        "    verbose=1)\n",
        "\n",
        "'''\n"
      ]
    },
    {
      "cell_type": "markdown",
      "id": "39a828ba",
      "metadata": {
        "papermill": {
          "duration": 0.024439,
          "end_time": "2022-04-30T17:37:35.470960",
          "exception": false,
          "start_time": "2022-04-30T17:37:35.446521",
          "status": "completed"
        },
        "tags": [],
        "id": "39a828ba"
      },
      "source": [
        "**A word on metrics:**\n",
        "\n",
        "Calculation of factorized top K metric is highly time intensive. Even with the option 'compute_metrics=not training' and \n",
        "computing validation metrics only every 5 epochs, it still takes a lot of time. You can check this by running above model. Another option \n",
        "may be by reducing the number of retrievals from standard 100.(may cost accuracy?)\n",
        "\n",
        "self.task = tfrs.tasks.Retrieval(\n",
        "        metrics=tfrs.metrics.FactorizedTopK(\n",
        "        candidates=articles.batch(128).map(self.article_model),\n",
        "        k = (any value less than 100)\n",
        "        )"
      ]
    },
    {
      "cell_type": "markdown",
      "id": "e9f4d174",
      "metadata": {
        "papermill": {
          "duration": 0.025245,
          "end_time": "2022-04-30T17:37:35.521089",
          "exception": false,
          "start_time": "2022-04-30T17:37:35.495844",
          "status": "completed"
        },
        "tags": [],
        "id": "e9f4d174"
      },
      "source": [
        "## 予測の実行と結果出力"
      ]
    },
    {
      "cell_type": "code",
      "execution_count": 13,
      "id": "5be94c97",
      "metadata": {
        "papermill": {
          "duration": 95.220725,
          "end_time": "2022-04-30T17:39:10.767906",
          "exception": false,
          "start_time": "2022-04-30T17:37:35.547181",
          "status": "completed"
        },
        "tags": [],
        "id": "5be94c97",
        "colab": {
          "base_uri": "https://localhost:8080/"
        },
        "outputId": "4d8a9c2a-1584-4422-9768-f41424188c35"
      },
      "outputs": [
        {
          "output_type": "stream",
          "name": "stdout",
          "text": [
            "Epoch 1/5\n",
            "32548/32548 [==============================] - 310s 9ms/step - factorized_top_k/top_1_categorical_accuracy: 0.0000e+00 - factorized_top_k/top_5_categorical_accuracy: 0.0000e+00 - factorized_top_k/top_10_categorical_accuracy: 0.0000e+00 - factorized_top_k/top_50_categorical_accuracy: 0.0000e+00 - factorized_top_k/top_100_categorical_accuracy: 0.0000e+00 - loss: 1234.4763 - regularization_loss: 0.0000e+00 - total_loss: 1234.4763\n",
            "Epoch 2/5\n",
            "32548/32548 [==============================] - 200s 6ms/step - factorized_top_k/top_1_categorical_accuracy: 0.0000e+00 - factorized_top_k/top_5_categorical_accuracy: 0.0000e+00 - factorized_top_k/top_10_categorical_accuracy: 0.0000e+00 - factorized_top_k/top_50_categorical_accuracy: 0.0000e+00 - factorized_top_k/top_100_categorical_accuracy: 0.0000e+00 - loss: 908.3662 - regularization_loss: 0.0000e+00 - total_loss: 908.3662\n",
            "Epoch 3/5\n",
            "32548/32548 [==============================] - 264s 8ms/step - factorized_top_k/top_1_categorical_accuracy: 0.0000e+00 - factorized_top_k/top_5_categorical_accuracy: 0.0000e+00 - factorized_top_k/top_10_categorical_accuracy: 0.0000e+00 - factorized_top_k/top_50_categorical_accuracy: 0.0000e+00 - factorized_top_k/top_100_categorical_accuracy: 0.0000e+00 - loss: 747.7392 - regularization_loss: 0.0000e+00 - total_loss: 747.7392\n",
            "Epoch 4/5\n",
            "32548/32548 [==============================] - 261s 8ms/step - factorized_top_k/top_1_categorical_accuracy: 0.0000e+00 - factorized_top_k/top_5_categorical_accuracy: 0.0000e+00 - factorized_top_k/top_10_categorical_accuracy: 0.0000e+00 - factorized_top_k/top_50_categorical_accuracy: 0.0000e+00 - factorized_top_k/top_100_categorical_accuracy: 0.0000e+00 - loss: 657.1936 - regularization_loss: 0.0000e+00 - total_loss: 657.1936\n",
            "Epoch 5/5\n",
            "32548/32548 [==============================] - 202s 6ms/step - factorized_top_k/top_1_categorical_accuracy: 0.0000e+00 - factorized_top_k/top_5_categorical_accuracy: 0.0000e+00 - factorized_top_k/top_10_categorical_accuracy: 0.0000e+00 - factorized_top_k/top_50_categorical_accuracy: 0.0000e+00 - factorized_top_k/top_100_categorical_accuracy: 0.0000e+00 - loss: 600.4211 - regularization_loss: 0.0000e+00 - total_loss: 600.4211\n"
          ]
        }
      ],
      "source": [
        "# 検証データを用意せずに訓練\n",
        "train_ds = tf.data.Dataset.from_tensor_slices(dict(transactions[['customer_id','article_id']])).shuffle(100_000).batch(256).cache()\n",
        "num_epochs = 5\n",
        "history = model.fit(\n",
        "    train_ds,    \n",
        "    epochs = num_epochs,\n",
        "    verbose = 1)"
      ]
    },
    {
      "cell_type": "code",
      "execution_count": 14,
      "id": "0c4aa0e7",
      "metadata": {
        "_kg_hide-output": true,
        "papermill": {
          "duration": 7.599396,
          "end_time": "2022-04-30T17:39:19.023044",
          "exception": false,
          "start_time": "2022-04-30T17:39:11.423648",
          "status": "completed"
        },
        "tags": [],
        "id": "0c4aa0e7",
        "colab": {
          "base_uri": "https://localhost:8080/"
        },
        "outputId": "cf17c46a-d841-40eb-8109-628ae554b603"
      },
      "outputs": [
        {
          "output_type": "execute_result",
          "data": {
            "text/plain": [
              "<tensorflow_recommenders.layers.factorized_top_k.ScaNN at 0x7f234132b190>"
            ]
          },
          "metadata": {},
          "execution_count": 14
        }
      ],
      "source": [
        "scann_index = tfrs.layers.factorized_top_k.ScaNN(model.customer_model, k = 12 )\n",
        "scann_index.index_from_dataset(\n",
        "  tf.data.Dataset.zip((articles_var.batch(100), articles_var.batch(100).map(model.article_model)))\n",
        ")"
      ]
    },
    {
      "cell_type": "code",
      "execution_count": 15,
      "id": "df8bf3c4",
      "metadata": {
        "_kg_hide-output": true,
        "papermill": {
          "duration": 51.485014,
          "end_time": "2022-04-30T17:40:11.151296",
          "exception": false,
          "start_time": "2022-04-30T17:39:19.666282",
          "status": "completed"
        },
        "tags": [],
        "id": "df8bf3c4"
      },
      "outputs": [],
      "source": [
        "sub = pd.read_csv('/content/drive/MyDrive/Colab Notebooks/sample_submission_rakus_latest.csv')\n",
        "_, articles_var = scann_index(sub.customer_id.values)\n",
        "preds = articles_var.numpy().astype(str)\n",
        "preds = pd.Series(map(' '.join, preds,))\n",
        "sub['prediction'] = preds\n",
        "sub.to_csv('submission.csv', index = False)"
      ]
    },
    {
      "cell_type": "markdown",
      "id": "c27f8555-6bd3-41f3-ad3c-6fcb50636786",
      "metadata": {
        "id": "c27f8555-6bd3-41f3-ad3c-6fcb50636786"
      },
      "source": [
        "### 参考\n",
        "\n",
        "tfrsの解説\n",
        "https://www.tensorflow.org/recommenders/examples/basic_retrieval\n",
        "\n",
        "tfrs.layers.factorized_top_kの解説\n",
        "https://www.tensorflow.org/recommenders/api_docs/python/tfrs/layers/factorized_top_k\n",
        "\n",
        "kaggle記事\n",
        "https://www.kaggle.com/code/viji1609/h-m-basic-retrieval-model-tf-recommender"
      ]
    }
  ],
  "metadata": {
    "kernelspec": {
      "display_name": "Python 3 (ipykernel)",
      "language": "python",
      "name": "python3"
    },
    "language_info": {
      "codemirror_mode": {
        "name": "ipython",
        "version": 3
      },
      "file_extension": ".py",
      "mimetype": "text/x-python",
      "name": "python",
      "nbconvert_exporter": "python",
      "pygments_lexer": "ipython3",
      "version": "3.9.7"
    },
    "papermill": {
      "default_parameters": {},
      "duration": 380.854924,
      "end_time": "2022-04-30T17:40:15.835013",
      "environment_variables": {},
      "exception": null,
      "input_path": "__notebook__.ipynb",
      "output_path": "__notebook__.ipynb",
      "parameters": {},
      "start_time": "2022-04-30T17:33:54.980089",
      "version": "2.3.4"
    },
    "colab": {
      "name": "Prediction_of_purchase_by_tfrs.ipynb",
      "provenance": [],
      "collapsed_sections": []
    },
    "accelerator": "TPU",
    "gpuClass": "standard"
  },
  "nbformat": 4,
  "nbformat_minor": 5
}